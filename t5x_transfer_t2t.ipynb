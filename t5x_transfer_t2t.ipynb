{
  "nbformat": 4,
  "nbformat_minor": 0,
  "metadata": {
    "colab": {
      "provenance": []
    },
    "kernelspec": {
      "name": "python3",
      "display_name": "Python 3"
    },
    "language_info": {
      "name": "python"
    },
    "accelerator": "TPU"
  },
  "cells": [
    {
      "cell_type": "code",
      "source": [
        "from google.colab import auth"
      ],
      "metadata": {
        "id": "U5pzQ7ngHfCh"
      },
      "execution_count": 9,
      "outputs": []
    },
    {
      "cell_type": "code",
      "source": [
        "auth.authenticate_user()"
      ],
      "metadata": {
        "id": "t_ZKmLY_HmN7"
      },
      "execution_count": 10,
      "outputs": []
    },
    {
      "cell_type": "code",
      "source": [
        "!gsutil ls gs://test_bucket-1128"
      ],
      "metadata": {
        "id": "wprNFejNH9Xp"
      },
      "execution_count": 11,
      "outputs": []
    },
    {
      "cell_type": "code",
      "source": [
        "import os\n",
        "# Install the library\n",
        "!pip install google-cloud-storage\n",
        "\n",
        "from google.cloud import storage\n",
        "\n",
        "# Authenticate using a service account key\n",
        "storage_client = storage.Client.from_service_account_json('../my-project-1-401520-40f92252df59.json')\n",
        "\n",
        "# List the contents of a GCS bucket\n",
        "bucket = storage_client.get_bucket('test_bucket-1128')\n",
        "blobs = bucket.list_blobs()\n",
        "\n",
        "for blob in blobs:\n",
        "    print(blob.name)\n"
      ],
      "metadata": {
        "colab": {
          "base_uri": "https://localhost:8080/"
        },
        "id": "hwbbEwV4R7RN",
        "outputId": "cf016e86-0791-4c84-c7bb-e1416ac951bd"
      },
      "execution_count": 41,
      "outputs": [
        {
          "output_type": "stream",
          "name": "stdout",
          "text": [
            "Requirement already satisfied: google-cloud-storage in /usr/local/lib/python3.10/dist-packages (2.8.0)\n",
            "Requirement already satisfied: google-auth<3.0dev,>=1.25.0 in /usr/local/lib/python3.10/dist-packages (from google-cloud-storage) (2.17.3)\n",
            "Requirement already satisfied: google-api-core!=2.0.*,!=2.1.*,!=2.2.*,!=2.3.0,<3.0.0dev,>=1.31.5 in /usr/local/lib/python3.10/dist-packages (from google-cloud-storage) (2.11.1)\n",
            "Requirement already satisfied: google-cloud-core<3.0dev,>=2.3.0 in /usr/local/lib/python3.10/dist-packages (from google-cloud-storage) (2.3.3)\n",
            "Requirement already satisfied: google-resumable-media>=2.3.2 in /usr/local/lib/python3.10/dist-packages (from google-cloud-storage) (2.6.0)\n",
            "Requirement already satisfied: requests<3.0.0dev,>=2.18.0 in /usr/local/lib/python3.10/dist-packages (from google-cloud-storage) (2.31.0)\n",
            "Requirement already satisfied: googleapis-common-protos<2.0.dev0,>=1.56.2 in /usr/local/lib/python3.10/dist-packages (from google-api-core!=2.0.*,!=2.1.*,!=2.2.*,!=2.3.0,<3.0.0dev,>=1.31.5->google-cloud-storage) (1.61.0)\n",
            "Requirement already satisfied: protobuf!=3.20.0,!=3.20.1,!=4.21.0,!=4.21.1,!=4.21.2,!=4.21.3,!=4.21.4,!=4.21.5,<5.0.0.dev0,>=3.19.5 in /usr/local/lib/python3.10/dist-packages (from google-api-core!=2.0.*,!=2.1.*,!=2.2.*,!=2.3.0,<3.0.0dev,>=1.31.5->google-cloud-storage) (3.20.3)\n",
            "Requirement already satisfied: cachetools<6.0,>=2.0.0 in /usr/local/lib/python3.10/dist-packages (from google-auth<3.0dev,>=1.25.0->google-cloud-storage) (5.3.1)\n",
            "Requirement already satisfied: pyasn1-modules>=0.2.1 in /usr/local/lib/python3.10/dist-packages (from google-auth<3.0dev,>=1.25.0->google-cloud-storage) (0.3.0)\n",
            "Requirement already satisfied: six>=1.9.0 in /usr/local/lib/python3.10/dist-packages (from google-auth<3.0dev,>=1.25.0->google-cloud-storage) (1.16.0)\n",
            "Requirement already satisfied: rsa<5,>=3.1.4 in /usr/local/lib/python3.10/dist-packages (from google-auth<3.0dev,>=1.25.0->google-cloud-storage) (4.9)\n",
            "Requirement already satisfied: google-crc32c<2.0dev,>=1.0 in /usr/local/lib/python3.10/dist-packages (from google-resumable-media>=2.3.2->google-cloud-storage) (1.5.0)\n",
            "Requirement already satisfied: charset-normalizer<4,>=2 in /usr/local/lib/python3.10/dist-packages (from requests<3.0.0dev,>=2.18.0->google-cloud-storage) (3.3.0)\n",
            "Requirement already satisfied: idna<4,>=2.5 in /usr/local/lib/python3.10/dist-packages (from requests<3.0.0dev,>=2.18.0->google-cloud-storage) (3.4)\n",
            "Requirement already satisfied: urllib3<3,>=1.21.1 in /usr/local/lib/python3.10/dist-packages (from requests<3.0.0dev,>=2.18.0->google-cloud-storage) (2.0.7)\n",
            "Requirement already satisfied: certifi>=2017.4.17 in /usr/local/lib/python3.10/dist-packages (from requests<3.0.0dev,>=2.18.0->google-cloud-storage) (2023.7.22)\n",
            "Requirement already satisfied: pyasn1<0.6.0,>=0.4.6 in /usr/local/lib/python3.10/dist-packages (from pyasn1-modules>=0.2.1->google-auth<3.0dev,>=1.25.0->google-cloud-storage) (0.5.0)\n",
            "my-project-1-401520-40f92252df59.json\n"
          ]
        }
      ]
    },
    {
      "cell_type": "code",
      "execution_count": 70,
      "metadata": {
        "id": "6e5pO84fBJeN"
      },
      "outputs": [],
      "source": [
        "import tensorflow as tf\n",
        "\n",
        "import os\n",
        "import tensorflow_datasets as tfds"
      ]
    },
    {
      "cell_type": "code",
      "source": [
        "!git clone --branch=main https://github.com/google-research/t5x"
      ],
      "metadata": {
        "colab": {
          "base_uri": "https://localhost:8080/"
        },
        "id": "WcOOzcrsBpMn",
        "outputId": "58e1c865-fd33-4060-a05f-93e5fb06083e"
      },
      "execution_count": 2,
      "outputs": [
        {
          "output_type": "stream",
          "name": "stdout",
          "text": [
            "Cloning into 't5x'...\n",
            "remote: Enumerating objects: 6267, done.\u001b[K\n",
            "remote: Counting objects: 100% (141/141), done.\u001b[K\n",
            "remote: Compressing objects: 100% (79/79), done.\u001b[K\n",
            "remote: Total 6267 (delta 71), reused 97 (delta 60), pack-reused 6126\u001b[K\n",
            "Receiving objects: 100% (6267/6267), 9.38 MiB | 17.00 MiB/s, done.\n",
            "Resolving deltas: 100% (4452/4452), done.\n"
          ]
        }
      ]
    },
    {
      "cell_type": "code",
      "source": [
        "!pip install jax[cpu]==0.3.25"
      ],
      "metadata": {
        "colab": {
          "base_uri": "https://localhost:8080/",
          "height": 480
        },
        "id": "CSPE9IREB5Zk",
        "outputId": "4f96d349-e1ba-4b73-b2b7-1cf538ab98b7"
      },
      "execution_count": 2,
      "outputs": [
        {
          "output_type": "stream",
          "name": "stdout",
          "text": [
            "Collecting jax[cpu]==0.3.25\n",
            "  Using cached jax-0.3.25-py3-none-any.whl\n",
            "Requirement already satisfied: numpy>=1.20 in /usr/local/lib/python3.10/dist-packages (from jax[cpu]==0.3.25) (1.23.5)\n",
            "Requirement already satisfied: opt-einsum in /usr/local/lib/python3.10/dist-packages (from jax[cpu]==0.3.25) (3.3.0)\n",
            "Requirement already satisfied: scipy>=1.5 in /usr/local/lib/python3.10/dist-packages (from jax[cpu]==0.3.25) (1.11.3)\n",
            "Requirement already satisfied: typing-extensions in /usr/local/lib/python3.10/dist-packages (from jax[cpu]==0.3.25) (4.5.0)\n",
            "Collecting jaxlib==0.3.25 (from jax[cpu]==0.3.25)\n",
            "  Using cached jaxlib-0.3.25-cp310-cp310-manylinux2014_x86_64.whl (71.2 MB)\n",
            "Installing collected packages: jaxlib, jax\n",
            "  Attempting uninstall: jaxlib\n",
            "    Found existing installation: jaxlib 0.4.19\n",
            "    Uninstalling jaxlib-0.4.19:\n",
            "      Successfully uninstalled jaxlib-0.4.19\n",
            "  Attempting uninstall: jax\n",
            "    Found existing installation: jax 0.4.19\n",
            "    Uninstalling jax-0.4.19:\n",
            "      Successfully uninstalled jax-0.4.19\n",
            "\u001b[31mERROR: pip's dependency resolver does not currently take into account all the packages that are installed. This behaviour is the source of the following dependency conflicts.\n",
            "orbax-checkpoint 0.4.1 requires jax>=0.4.9, but you have jax 0.3.25 which is incompatible.\u001b[0m\u001b[31m\n",
            "\u001b[0mSuccessfully installed jax-0.3.25 jaxlib-0.3.25\n"
          ]
        },
        {
          "output_type": "display_data",
          "data": {
            "application/vnd.colab-display-data+json": {
              "pip_warning": {
                "packages": [
                  "jax",
                  "jaxlib"
                ]
              }
            }
          },
          "metadata": {}
        }
      ]
    },
    {
      "cell_type": "code",
      "source": [
        "import jax.tools.colab_tpu\n",
        "jax.tools.colab_tpu.setup_tpu()\n",
        "\n",
        "from jax.experimental import pjit"
      ],
      "metadata": {
        "id": "oT1xPUrACCTS"
      },
      "execution_count": 1,
      "outputs": []
    },
    {
      "cell_type": "code",
      "source": [
        "%cd t5x\n",
        "!python3 -m pip install -e . -f \\\n",
        "  https://storage.googleapis.com/jax-releases/libtpu_releases.html"
      ],
      "metadata": {
        "colab": {
          "base_uri": "https://localhost:8080/"
        },
        "id": "-3OubWGWE68a",
        "outputId": "3a120915-2e84-42be-f5cf-8f7ab6210015"
      },
      "execution_count": 3,
      "outputs": [
        {
          "output_type": "stream",
          "name": "stdout",
          "text": [
            "/content/t5x\n",
            "Looking in links: https://storage.googleapis.com/jax-releases/libtpu_releases.html\n",
            "Obtaining file:///content/t5x\n",
            "  Preparing metadata (setup.py) ... \u001b[?25l\u001b[?25hdone\n",
            "Collecting clu@ git+https://github.com/google/CommonLoopUtils#egg=clu (from t5x==0.0.0)\n",
            "  Cloning https://github.com/google/CommonLoopUtils to /tmp/pip-install-98c5zytb/clu_2fbd0226229e4e1dab2fe5ae0a406d6d\n",
            "  Running command git clone --filter=blob:none --quiet https://github.com/google/CommonLoopUtils /tmp/pip-install-98c5zytb/clu_2fbd0226229e4e1dab2fe5ae0a406d6d\n",
            "  Resolved https://github.com/google/CommonLoopUtils to commit be91a3100e06ca16265e5e823e7a146f05b09e57\n",
            "  Preparing metadata (setup.py) ... \u001b[?25l\u001b[?25hdone\n",
            "Collecting flax@ git+https://github.com/google/flax#egg=flax (from t5x==0.0.0)\n",
            "  Cloning https://github.com/google/flax to /tmp/pip-install-98c5zytb/flax_dbc11ddfaeb94c2a9700649fff45f442\n",
            "  Running command git clone --filter=blob:none --quiet https://github.com/google/flax /tmp/pip-install-98c5zytb/flax_dbc11ddfaeb94c2a9700649fff45f442\n",
            "  Resolved https://github.com/google/flax to commit bf2928c8636a2dab8da7a7256c4cba9dc8279dcb\n",
            "  Installing build dependencies ... \u001b[?25l\u001b[?25hdone\n",
            "  Getting requirements to build wheel ... \u001b[?25l\u001b[?25hdone\n",
            "  Installing backend dependencies ... \u001b[?25l\u001b[?25hdone\n",
            "  Preparing metadata (pyproject.toml) ... \u001b[?25l\u001b[?25hdone\n",
            "Collecting jestimator@ git+https://github.com/google-research/jestimator#egg=jestimator (from t5x==0.0.0)\n",
            "  Cloning https://github.com/google-research/jestimator to /tmp/pip-install-98c5zytb/jestimator_f2afb89c0f3348ef9bb1614996b95273\n",
            "  Running command git clone --filter=blob:none --quiet https://github.com/google-research/jestimator /tmp/pip-install-98c5zytb/jestimator_f2afb89c0f3348ef9bb1614996b95273\n",
            "  Resolved https://github.com/google-research/jestimator to commit fa143d93e337ca8ab77c4510baf21ae52af24ab2\n",
            "  Installing build dependencies ... \u001b[?25l\u001b[?25hdone\n",
            "  Getting requirements to build wheel ... \u001b[?25l\u001b[?25hdone\n",
            "  Preparing metadata (pyproject.toml) ... \u001b[?25l\u001b[?25hdone\n",
            "Collecting optax@ git+https://github.com/deepmind/optax#egg=optax (from t5x==0.0.0)\n",
            "  Cloning https://github.com/deepmind/optax to /tmp/pip-install-98c5zytb/optax_cda36f45530c4b4e8d63e2aa346c208b\n",
            "  Running command git clone --filter=blob:none --quiet https://github.com/deepmind/optax /tmp/pip-install-98c5zytb/optax_cda36f45530c4b4e8d63e2aa346c208b\n",
            "  Resolved https://github.com/deepmind/optax to commit dbe26115cfd343c0c8966380f468a88f2b69d26b\n",
            "  Installing build dependencies ... \u001b[?25l\u001b[?25hdone\n",
            "  Getting requirements to build wheel ... \u001b[?25l\u001b[?25hdone\n",
            "  Preparing metadata (pyproject.toml) ... \u001b[?25l\u001b[?25hdone\n",
            "Collecting seqio@ git+https://github.com/google/seqio#egg=seqio (from t5x==0.0.0)\n",
            "  Cloning https://github.com/google/seqio to /tmp/pip-install-98c5zytb/seqio_5c54670eef264104b92a7e5a507dad77\n",
            "  Running command git clone --filter=blob:none --quiet https://github.com/google/seqio /tmp/pip-install-98c5zytb/seqio_5c54670eef264104b92a7e5a507dad77\n",
            "  Resolved https://github.com/google/seqio to commit 58f65bf1689e97c4cebf6b919490d106aa6e8bb9\n",
            "  Preparing metadata (setup.py) ... \u001b[?25l\u001b[?25hdone\n",
            "Requirement already satisfied: absl-py in /usr/local/lib/python3.10/dist-packages (from t5x==0.0.0) (1.4.0)\n",
            "Requirement already satisfied: cached_property in /usr/local/lib/python3.10/dist-packages (from t5x==0.0.0) (1.5.2)\n",
            "Collecting fiddle>=0.2.5 (from t5x==0.0.0)\n",
            "  Downloading fiddle-0.2.11-py3-none-any.whl (396 kB)\n",
            "\u001b[2K     \u001b[90m━━━━━━━━━━━━━━━━━━━━━━━━━━━━━━━━━━━━━━━━\u001b[0m \u001b[32m396.4/396.4 kB\u001b[0m \u001b[31m4.5 MB/s\u001b[0m eta \u001b[36m0:00:00\u001b[0m\n",
            "\u001b[?25hRequirement already satisfied: gin-config in /usr/local/lib/python3.10/dist-packages (from t5x==0.0.0) (0.5.0)\n",
            "Collecting jax>=0.4.16 (from t5x==0.0.0)\n",
            "  Using cached jax-0.4.19-py3-none-any.whl (1.7 MB)\n",
            "Collecting jaxlib>=0.4.16 (from t5x==0.0.0)\n",
            "  Using cached jaxlib-0.4.19-cp310-cp310-manylinux2014_x86_64.whl (85.3 MB)\n",
            "Requirement already satisfied: numpy in /usr/local/lib/python3.10/dist-packages (from t5x==0.0.0) (1.23.5)\n",
            "Requirement already satisfied: orbax-checkpoint in /usr/local/lib/python3.10/dist-packages (from t5x==0.0.0) (0.4.1)\n",
            "Collecting tensorflow-cpu (from t5x==0.0.0)\n",
            "  Downloading tensorflow_cpu-2.14.0-cp310-cp310-manylinux_2_17_x86_64.manylinux2014_x86_64.whl (198.2 MB)\n",
            "\u001b[2K     \u001b[90m━━━━━━━━━━━━━━━━━━━━━━━━━━━━━━━━━━━━━━━━\u001b[0m \u001b[32m198.2/198.2 MB\u001b[0m \u001b[31m5.4 MB/s\u001b[0m eta \u001b[36m0:00:00\u001b[0m\n",
            "\u001b[?25hRequirement already satisfied: tensorstore>=0.1.20 in /usr/local/lib/python3.10/dist-packages (from t5x==0.0.0) (0.1.45)\n",
            "Requirement already satisfied: protobuf==3.20.3 in /usr/local/lib/python3.10/dist-packages (from t5x==0.0.0) (3.20.3)\n",
            "Requirement already satisfied: graphviz in /usr/local/lib/python3.10/dist-packages (from fiddle>=0.2.5->t5x==0.0.0) (0.20.1)\n",
            "Collecting libcst (from fiddle>=0.2.5->t5x==0.0.0)\n",
            "  Downloading libcst-1.1.0-cp310-cp310-manylinux_2_17_x86_64.manylinux2014_x86_64.whl (3.2 MB)\n",
            "\u001b[2K     \u001b[90m━━━━━━━━━━━━━━━━━━━━━━━━━━━━━━━━━━━━━━━━\u001b[0m \u001b[32m3.2/3.2 MB\u001b[0m \u001b[31m70.3 MB/s\u001b[0m eta \u001b[36m0:00:00\u001b[0m\n",
            "\u001b[?25hRequirement already satisfied: typing-extensions in /usr/local/lib/python3.10/dist-packages (from fiddle>=0.2.5->t5x==0.0.0) (4.5.0)\n",
            "Requirement already satisfied: ml-dtypes>=0.2.0 in /usr/local/lib/python3.10/dist-packages (from jax>=0.4.16->t5x==0.0.0) (0.2.0)\n",
            "Requirement already satisfied: opt-einsum in /usr/local/lib/python3.10/dist-packages (from jax>=0.4.16->t5x==0.0.0) (3.3.0)\n",
            "Requirement already satisfied: scipy>=1.9 in /usr/local/lib/python3.10/dist-packages (from jax>=0.4.16->t5x==0.0.0) (1.11.3)\n",
            "Requirement already satisfied: etils[epath] in /usr/local/lib/python3.10/dist-packages (from clu@ git+https://github.com/google/CommonLoopUtils#egg=clu->t5x==0.0.0) (1.5.1)\n",
            "Collecting ml_collections (from clu@ git+https://github.com/google/CommonLoopUtils#egg=clu->t5x==0.0.0)\n",
            "  Downloading ml_collections-0.1.1.tar.gz (77 kB)\n",
            "\u001b[2K     \u001b[90m━━━━━━━━━━━━━━━━━━━━━━━━━━━━━━━━━━━━━━━━\u001b[0m \u001b[32m77.9/77.9 kB\u001b[0m \u001b[31m7.7 MB/s\u001b[0m eta \u001b[36m0:00:00\u001b[0m\n",
            "\u001b[?25h  Preparing metadata (setup.py) ... \u001b[?25l\u001b[?25hdone\n",
            "Requirement already satisfied: packaging in /usr/local/lib/python3.10/dist-packages (from clu@ git+https://github.com/google/CommonLoopUtils#egg=clu->t5x==0.0.0) (23.2)\n",
            "Requirement already satisfied: wrapt in /usr/local/lib/python3.10/dist-packages (from clu@ git+https://github.com/google/CommonLoopUtils#egg=clu->t5x==0.0.0) (1.14.1)\n",
            "Requirement already satisfied: msgpack in /usr/local/lib/python3.10/dist-packages (from flax@ git+https://github.com/google/flax#egg=flax->t5x==0.0.0) (1.0.7)\n",
            "Requirement already satisfied: rich>=11.1 in /usr/local/lib/python3.10/dist-packages (from flax@ git+https://github.com/google/flax#egg=flax->t5x==0.0.0) (13.6.0)\n",
            "Requirement already satisfied: PyYAML>=5.4.1 in /usr/local/lib/python3.10/dist-packages (from flax@ git+https://github.com/google/flax#egg=flax->t5x==0.0.0) (6.0.1)\n",
            "Requirement already satisfied: chex>=0.1.5 in /usr/local/lib/python3.10/dist-packages (from optax@ git+https://github.com/deepmind/optax#egg=optax->t5x==0.0.0) (0.1.6)\n",
            "Requirement already satisfied: nest_asyncio in /usr/local/lib/python3.10/dist-packages (from orbax-checkpoint->t5x==0.0.0) (1.5.8)\n",
            "Requirement already satisfied: editdistance in /usr/local/lib/python3.10/dist-packages (from seqio@ git+https://github.com/google/seqio#egg=seqio->t5x==0.0.0) (0.6.2)\n",
            "Collecting pyglove (from seqio@ git+https://github.com/google/seqio#egg=seqio->t5x==0.0.0)\n",
            "  Downloading pyglove-0.4.3-py3-none-any.whl (568 kB)\n",
            "\u001b[2K     \u001b[90m━━━━━━━━━━━━━━━━━━━━━━━━━━━━━━━━━━━━━━━━\u001b[0m \u001b[32m568.5/568.5 kB\u001b[0m \u001b[31m37.4 MB/s\u001b[0m eta \u001b[36m0:00:00\u001b[0m\n",
            "\u001b[?25hCollecting sentencepiece (from seqio@ git+https://github.com/google/seqio#egg=seqio->t5x==0.0.0)\n",
            "  Downloading sentencepiece-0.1.99-cp310-cp310-manylinux_2_17_x86_64.manylinux2014_x86_64.whl (1.3 MB)\n",
            "\u001b[2K     \u001b[90m━━━━━━━━━━━━━━━━━━━━━━━━━━━━━━━━━━━━━━━━\u001b[0m \u001b[32m1.3/1.3 MB\u001b[0m \u001b[31m59.1 MB/s\u001b[0m eta \u001b[36m0:00:00\u001b[0m\n",
            "\u001b[?25hCollecting tensorflow-text (from seqio@ git+https://github.com/google/seqio#egg=seqio->t5x==0.0.0)\n",
            "  Downloading tensorflow_text-2.14.0-cp310-cp310-manylinux_2_17_x86_64.manylinux2014_x86_64.whl (6.5 MB)\n",
            "\u001b[2K     \u001b[90m━━━━━━━━━━━━━━━━━━━━━━━━━━━━━━━━━━━━━━━━\u001b[0m \u001b[32m6.5/6.5 MB\u001b[0m \u001b[31m80.8 MB/s\u001b[0m eta \u001b[36m0:00:00\u001b[0m\n",
            "\u001b[?25hCollecting tfds-nightly==4.9.2.dev202308090034 (from seqio@ git+https://github.com/google/seqio#egg=seqio->t5x==0.0.0)\n",
            "  Downloading tfds_nightly-4.9.2.dev202308090034-py3-none-any.whl (5.0 MB)\n",
            "\u001b[2K     \u001b[90m━━━━━━━━━━━━━━━━━━━━━━━━━━━━━━━━━━━━━━━━\u001b[0m \u001b[32m5.0/5.0 MB\u001b[0m \u001b[31m81.3 MB/s\u001b[0m eta \u001b[36m0:00:00\u001b[0m\n",
            "\u001b[?25hRequirement already satisfied: array-record in /usr/local/lib/python3.10/dist-packages (from tfds-nightly==4.9.2.dev202308090034->seqio@ git+https://github.com/google/seqio#egg=seqio->t5x==0.0.0) (0.5.0)\n",
            "Requirement already satisfied: click in /usr/local/lib/python3.10/dist-packages (from tfds-nightly==4.9.2.dev202308090034->seqio@ git+https://github.com/google/seqio#egg=seqio->t5x==0.0.0) (8.1.7)\n",
            "Requirement already satisfied: dm-tree in /usr/local/lib/python3.10/dist-packages (from tfds-nightly==4.9.2.dev202308090034->seqio@ git+https://github.com/google/seqio#egg=seqio->t5x==0.0.0) (0.1.8)\n",
            "Requirement already satisfied: promise in /usr/local/lib/python3.10/dist-packages (from tfds-nightly==4.9.2.dev202308090034->seqio@ git+https://github.com/google/seqio#egg=seqio->t5x==0.0.0) (2.3)\n",
            "Requirement already satisfied: psutil in /usr/local/lib/python3.10/dist-packages (from tfds-nightly==4.9.2.dev202308090034->seqio@ git+https://github.com/google/seqio#egg=seqio->t5x==0.0.0) (5.9.5)\n",
            "Requirement already satisfied: requests>=2.19.0 in /usr/local/lib/python3.10/dist-packages (from tfds-nightly==4.9.2.dev202308090034->seqio@ git+https://github.com/google/seqio#egg=seqio->t5x==0.0.0) (2.31.0)\n",
            "Requirement already satisfied: tensorflow-metadata in /usr/local/lib/python3.10/dist-packages (from tfds-nightly==4.9.2.dev202308090034->seqio@ git+https://github.com/google/seqio#egg=seqio->t5x==0.0.0) (1.14.0)\n",
            "Requirement already satisfied: termcolor in /usr/local/lib/python3.10/dist-packages (from tfds-nightly==4.9.2.dev202308090034->seqio@ git+https://github.com/google/seqio#egg=seqio->t5x==0.0.0) (2.3.0)\n",
            "Requirement already satisfied: toml in /usr/local/lib/python3.10/dist-packages (from tfds-nightly==4.9.2.dev202308090034->seqio@ git+https://github.com/google/seqio#egg=seqio->t5x==0.0.0) (0.10.2)\n",
            "Requirement already satisfied: tqdm in /usr/local/lib/python3.10/dist-packages (from tfds-nightly==4.9.2.dev202308090034->seqio@ git+https://github.com/google/seqio#egg=seqio->t5x==0.0.0) (4.66.1)\n",
            "Requirement already satisfied: astunparse>=1.6.0 in /usr/local/lib/python3.10/dist-packages (from tensorflow-cpu->t5x==0.0.0) (1.6.3)\n",
            "Requirement already satisfied: flatbuffers>=23.5.26 in /usr/local/lib/python3.10/dist-packages (from tensorflow-cpu->t5x==0.0.0) (23.5.26)\n",
            "Requirement already satisfied: gast!=0.5.0,!=0.5.1,!=0.5.2,>=0.2.1 in /usr/local/lib/python3.10/dist-packages (from tensorflow-cpu->t5x==0.0.0) (0.4.0)\n",
            "Requirement already satisfied: google-pasta>=0.1.1 in /usr/local/lib/python3.10/dist-packages (from tensorflow-cpu->t5x==0.0.0) (0.2.0)\n",
            "Requirement already satisfied: h5py>=2.9.0 in /usr/local/lib/python3.10/dist-packages (from tensorflow-cpu->t5x==0.0.0) (3.9.0)\n",
            "Requirement already satisfied: libclang>=13.0.0 in /usr/local/lib/python3.10/dist-packages (from tensorflow-cpu->t5x==0.0.0) (16.0.6)\n",
            "Requirement already satisfied: setuptools in /usr/local/lib/python3.10/dist-packages (from tensorflow-cpu->t5x==0.0.0) (67.7.2)\n",
            "Requirement already satisfied: six>=1.12.0 in /usr/local/lib/python3.10/dist-packages (from tensorflow-cpu->t5x==0.0.0) (1.16.0)\n",
            "Requirement already satisfied: tensorflow-io-gcs-filesystem>=0.23.1 in /usr/local/lib/python3.10/dist-packages (from tensorflow-cpu->t5x==0.0.0) (0.34.0)\n",
            "Requirement already satisfied: grpcio<2.0,>=1.24.3 in /usr/local/lib/python3.10/dist-packages (from tensorflow-cpu->t5x==0.0.0) (1.59.0)\n",
            "Collecting tensorboard<2.15,>=2.14 (from tensorflow-cpu->t5x==0.0.0)\n",
            "  Downloading tensorboard-2.14.1-py3-none-any.whl (5.5 MB)\n",
            "\u001b[2K     \u001b[90m━━━━━━━━━━━━━━━━━━━━━━━━━━━━━━━━━━━━━━━━\u001b[0m \u001b[32m5.5/5.5 MB\u001b[0m \u001b[31m59.6 MB/s\u001b[0m eta \u001b[36m0:00:00\u001b[0m\n",
            "\u001b[?25hCollecting tensorflow-estimator<2.15,>=2.14.0 (from tensorflow-cpu->t5x==0.0.0)\n",
            "  Downloading tensorflow_estimator-2.14.0-py2.py3-none-any.whl (440 kB)\n",
            "\u001b[2K     \u001b[90m━━━━━━━━━━━━━━━━━━━━━━━━━━━━━━━━━━━━━━━━\u001b[0m \u001b[32m440.7/440.7 kB\u001b[0m \u001b[31m28.9 MB/s\u001b[0m eta \u001b[36m0:00:00\u001b[0m\n",
            "\u001b[?25hCollecting keras<2.15,>=2.14.0 (from tensorflow-cpu->t5x==0.0.0)\n",
            "  Downloading keras-2.14.0-py3-none-any.whl (1.7 MB)\n",
            "\u001b[2K     \u001b[90m━━━━━━━━━━━━━━━━━━━━━━━━━━━━━━━━━━━━━━━━\u001b[0m \u001b[32m1.7/1.7 MB\u001b[0m \u001b[31m61.7 MB/s\u001b[0m eta \u001b[36m0:00:00\u001b[0m\n",
            "\u001b[?25hRequirement already satisfied: wheel<1.0,>=0.23.0 in /usr/local/lib/python3.10/dist-packages (from astunparse>=1.6.0->tensorflow-cpu->t5x==0.0.0) (0.41.2)\n",
            "Requirement already satisfied: toolz>=0.9.0 in /usr/local/lib/python3.10/dist-packages (from chex>=0.1.5->optax@ git+https://github.com/deepmind/optax#egg=optax->t5x==0.0.0) (0.12.0)\n",
            "Requirement already satisfied: markdown-it-py>=2.2.0 in /usr/local/lib/python3.10/dist-packages (from rich>=11.1->flax@ git+https://github.com/google/flax#egg=flax->t5x==0.0.0) (3.0.0)\n",
            "Requirement already satisfied: pygments<3.0.0,>=2.13.0 in /usr/local/lib/python3.10/dist-packages (from rich>=11.1->flax@ git+https://github.com/google/flax#egg=flax->t5x==0.0.0) (2.16.1)\n",
            "Requirement already satisfied: google-auth<3,>=1.6.3 in /usr/local/lib/python3.10/dist-packages (from tensorboard<2.15,>=2.14->tensorflow-cpu->t5x==0.0.0) (2.17.3)\n",
            "Collecting google-auth-oauthlib<1.1,>=0.5 (from tensorboard<2.15,>=2.14->tensorflow-cpu->t5x==0.0.0)\n",
            "  Downloading google_auth_oauthlib-1.0.0-py2.py3-none-any.whl (18 kB)\n",
            "Requirement already satisfied: markdown>=2.6.8 in /usr/local/lib/python3.10/dist-packages (from tensorboard<2.15,>=2.14->tensorflow-cpu->t5x==0.0.0) (3.5)\n",
            "Requirement already satisfied: tensorboard-data-server<0.8.0,>=0.7.0 in /usr/local/lib/python3.10/dist-packages (from tensorboard<2.15,>=2.14->tensorflow-cpu->t5x==0.0.0) (0.7.1)\n",
            "Requirement already satisfied: werkzeug>=1.0.1 in /usr/local/lib/python3.10/dist-packages (from tensorboard<2.15,>=2.14->tensorflow-cpu->t5x==0.0.0) (3.0.0)\n",
            "Requirement already satisfied: fsspec in /usr/local/lib/python3.10/dist-packages (from etils[epath]->clu@ git+https://github.com/google/CommonLoopUtils#egg=clu->t5x==0.0.0) (2023.6.0)\n",
            "Requirement already satisfied: importlib_resources in /usr/local/lib/python3.10/dist-packages (from etils[epath]->clu@ git+https://github.com/google/CommonLoopUtils#egg=clu->t5x==0.0.0) (6.1.0)\n",
            "Requirement already satisfied: zipp in /usr/local/lib/python3.10/dist-packages (from etils[epath]->clu@ git+https://github.com/google/CommonLoopUtils#egg=clu->t5x==0.0.0) (3.17.0)\n",
            "Collecting typing-inspect>=0.4.0 (from libcst->fiddle>=0.2.5->t5x==0.0.0)\n",
            "  Downloading typing_inspect-0.9.0-py3-none-any.whl (8.8 kB)\n",
            "Requirement already satisfied: contextlib2 in /usr/local/lib/python3.10/dist-packages (from ml_collections->clu@ git+https://github.com/google/CommonLoopUtils#egg=clu->t5x==0.0.0) (21.6.0)\n",
            "Collecting docstring-parser>=0.12 (from pyglove->seqio@ git+https://github.com/google/seqio#egg=seqio->t5x==0.0.0)\n",
            "  Downloading docstring_parser-0.15-py3-none-any.whl (36 kB)\n",
            "Requirement already satisfied: tensorflow-hub>=0.13.0 in /usr/local/lib/python3.10/dist-packages (from tensorflow-text->seqio@ git+https://github.com/google/seqio#egg=seqio->t5x==0.0.0) (0.15.0)\n",
            "Collecting tensorflow<2.15,>=2.14.0 (from tensorflow-text->seqio@ git+https://github.com/google/seqio#egg=seqio->t5x==0.0.0)\n",
            "  Downloading tensorflow-2.14.0-cp310-cp310-manylinux_2_17_x86_64.manylinux2014_x86_64.whl (489.8 MB)\n",
            "\u001b[2K     \u001b[90m━━━━━━━━━━━━━━━━━━━━━━━━━━━━━━━━━━━━━━━━\u001b[0m \u001b[32m489.8/489.8 MB\u001b[0m \u001b[31m2.6 MB/s\u001b[0m eta \u001b[36m0:00:00\u001b[0m\n",
            "\u001b[?25hRequirement already satisfied: cachetools<6.0,>=2.0.0 in /usr/local/lib/python3.10/dist-packages (from google-auth<3,>=1.6.3->tensorboard<2.15,>=2.14->tensorflow-cpu->t5x==0.0.0) (5.3.1)\n",
            "Requirement already satisfied: pyasn1-modules>=0.2.1 in /usr/local/lib/python3.10/dist-packages (from google-auth<3,>=1.6.3->tensorboard<2.15,>=2.14->tensorflow-cpu->t5x==0.0.0) (0.3.0)\n",
            "Requirement already satisfied: rsa<5,>=3.1.4 in /usr/local/lib/python3.10/dist-packages (from google-auth<3,>=1.6.3->tensorboard<2.15,>=2.14->tensorflow-cpu->t5x==0.0.0) (4.9)\n",
            "Requirement already satisfied: requests-oauthlib>=0.7.0 in /usr/local/lib/python3.10/dist-packages (from google-auth-oauthlib<1.1,>=0.5->tensorboard<2.15,>=2.14->tensorflow-cpu->t5x==0.0.0) (1.3.1)\n",
            "Requirement already satisfied: mdurl~=0.1 in /usr/local/lib/python3.10/dist-packages (from markdown-it-py>=2.2.0->rich>=11.1->flax@ git+https://github.com/google/flax#egg=flax->t5x==0.0.0) (0.1.2)\n",
            "Requirement already satisfied: charset-normalizer<4,>=2 in /usr/local/lib/python3.10/dist-packages (from requests>=2.19.0->tfds-nightly==4.9.2.dev202308090034->seqio@ git+https://github.com/google/seqio#egg=seqio->t5x==0.0.0) (3.3.0)\n",
            "Requirement already satisfied: idna<4,>=2.5 in /usr/local/lib/python3.10/dist-packages (from requests>=2.19.0->tfds-nightly==4.9.2.dev202308090034->seqio@ git+https://github.com/google/seqio#egg=seqio->t5x==0.0.0) (3.4)\n",
            "Requirement already satisfied: urllib3<3,>=1.21.1 in /usr/local/lib/python3.10/dist-packages (from requests>=2.19.0->tfds-nightly==4.9.2.dev202308090034->seqio@ git+https://github.com/google/seqio#egg=seqio->t5x==0.0.0) (2.0.7)\n",
            "Requirement already satisfied: certifi>=2017.4.17 in /usr/local/lib/python3.10/dist-packages (from requests>=2.19.0->tfds-nightly==4.9.2.dev202308090034->seqio@ git+https://github.com/google/seqio#egg=seqio->t5x==0.0.0) (2023.7.22)\n",
            "Collecting mypy-extensions>=0.3.0 (from typing-inspect>=0.4.0->libcst->fiddle>=0.2.5->t5x==0.0.0)\n",
            "  Downloading mypy_extensions-1.0.0-py3-none-any.whl (4.7 kB)\n",
            "Requirement already satisfied: MarkupSafe>=2.1.1 in /usr/local/lib/python3.10/dist-packages (from werkzeug>=1.0.1->tensorboard<2.15,>=2.14->tensorflow-cpu->t5x==0.0.0) (2.1.3)\n",
            "Requirement already satisfied: googleapis-common-protos<2,>=1.52.0 in /usr/local/lib/python3.10/dist-packages (from tensorflow-metadata->tfds-nightly==4.9.2.dev202308090034->seqio@ git+https://github.com/google/seqio#egg=seqio->t5x==0.0.0) (1.61.0)\n",
            "Requirement already satisfied: pyasn1<0.6.0,>=0.4.6 in /usr/local/lib/python3.10/dist-packages (from pyasn1-modules>=0.2.1->google-auth<3,>=1.6.3->tensorboard<2.15,>=2.14->tensorflow-cpu->t5x==0.0.0) (0.5.0)\n",
            "Requirement already satisfied: oauthlib>=3.0.0 in /usr/local/lib/python3.10/dist-packages (from requests-oauthlib>=0.7.0->google-auth-oauthlib<1.1,>=0.5->tensorboard<2.15,>=2.14->tensorflow-cpu->t5x==0.0.0) (3.2.2)\n",
            "Building wheels for collected packages: clu, flax, jestimator, optax, seqio, ml_collections\n",
            "  Building wheel for clu (setup.py) ... \u001b[?25l\u001b[?25hdone\n",
            "  Created wheel for clu: filename=clu-0.0.11-py3-none-any.whl size=100847 sha256=38fa854beccd6ab3a162409c081ff32548a4d54a81af0cc7691c9b62960b4e23\n",
            "  Stored in directory: /tmp/pip-ephem-wheel-cache-g5qap_sn/wheels/39/c1/24/1c54cf87b5c57f73c428681b03e228d5187b900bbd1c33b90f\n",
            "  Building wheel for flax (pyproject.toml) ... \u001b[?25l\u001b[?25hdone\n",
            "  Created wheel for flax: filename=flax-0.7.5-py3-none-any.whl size=244206 sha256=cb74bdd6c1bc6bc0e0dfd3fe619828c4e66e879428c47c254fcf8d26d2486215\n",
            "  Stored in directory: /tmp/pip-ephem-wheel-cache-g5qap_sn/wheels/c2/b5/6c/e10d1bcdb3a30e0ffa048cf3a43762bb6f93c8262a27dd9a5d\n",
            "  Building wheel for jestimator (pyproject.toml) ... \u001b[?25l\u001b[?25hdone\n",
            "  Created wheel for jestimator: filename=jestimator-0.3.3-py3-none-any.whl size=2114058 sha256=326224f21e8d31d8487b00657954cddbfbe36bd1c0a20a51bf2aff04397003ed\n",
            "  Stored in directory: /tmp/pip-ephem-wheel-cache-g5qap_sn/wheels/0e/85/c0/a42e70edeb24559d5bb400f24e4f2220f99ad02c1ef7ceaac6\n",
            "  Building wheel for optax (pyproject.toml) ... \u001b[?25l\u001b[?25hdone\n",
            "  Created wheel for optax: filename=optax-0.1.8.dev0-py3-none-any.whl size=173608 sha256=d7d72a7758a2237fb13768b468dca880ac7ecb42955d23fa90224517ca9ba01e\n",
            "  Stored in directory: /tmp/pip-ephem-wheel-cache-g5qap_sn/wheels/23/21/3e/1d698479dc8dc59adfe13d4a2983e18cb2b95a251bcfde9718\n",
            "  Building wheel for seqio (setup.py) ... \u001b[?25l\u001b[?25hdone\n",
            "  Created wheel for seqio: filename=seqio-0.0.17-py3-none-any.whl size=352863 sha256=22e6163ca29fe39c35d94172c6c9887455d26d8fd1cf54c2e5f4b01e8a4f8373\n",
            "  Stored in directory: /tmp/pip-ephem-wheel-cache-g5qap_sn/wheels/f3/82/f4/d9062a177e9f3274845c1f495e749c4f943f963ab5ca5836c0\n",
            "  Building wheel for ml_collections (setup.py) ... \u001b[?25l\u001b[?25hdone\n",
            "  Created wheel for ml_collections: filename=ml_collections-0.1.1-py3-none-any.whl size=94506 sha256=8fec1f092ca46b9eeacd7633d04bcb6d83488d38598f91ebbd6c024eb544c13c\n",
            "  Stored in directory: /root/.cache/pip/wheels/7b/89/c9/a9b87790789e94aadcfc393c283e3ecd5ab916aed0a31be8fe\n",
            "Successfully built clu flax jestimator optax seqio ml_collections\n",
            "Installing collected packages: sentencepiece, tensorflow-estimator, mypy-extensions, ml_collections, keras, docstring-parser, typing-inspect, pyglove, jaxlib, jax, libcst, google-auth-oauthlib, tensorboard, optax, fiddle, tfds-nightly, tensorflow-cpu, tensorflow, flax, tensorflow-text, jestimator, clu, seqio, t5x\n",
            "  Attempting uninstall: tensorflow-estimator\n",
            "    Found existing installation: tensorflow-estimator 2.12.0\n",
            "    Uninstalling tensorflow-estimator-2.12.0:\n",
            "      Successfully uninstalled tensorflow-estimator-2.12.0\n",
            "  Attempting uninstall: keras\n",
            "    Found existing installation: keras 2.12.0\n",
            "    Uninstalling keras-2.12.0:\n",
            "      Successfully uninstalled keras-2.12.0\n",
            "  Attempting uninstall: jaxlib\n",
            "    Found existing installation: jaxlib 0.3.25\n",
            "    Uninstalling jaxlib-0.3.25:\n",
            "      Successfully uninstalled jaxlib-0.3.25\n",
            "  Attempting uninstall: jax\n",
            "    Found existing installation: jax 0.3.25\n",
            "    Uninstalling jax-0.3.25:\n",
            "      Successfully uninstalled jax-0.3.25\n",
            "  Attempting uninstall: google-auth-oauthlib\n",
            "    Found existing installation: google-auth-oauthlib 0.4.6\n",
            "    Uninstalling google-auth-oauthlib-0.4.6:\n",
            "      Successfully uninstalled google-auth-oauthlib-0.4.6\n",
            "  Attempting uninstall: tensorboard\n",
            "    Found existing installation: tensorboard 2.12.0\n",
            "    Uninstalling tensorboard-2.12.0:\n",
            "      Successfully uninstalled tensorboard-2.12.0\n",
            "  Attempting uninstall: optax\n",
            "    Found existing installation: optax 0.1.7\n",
            "    Uninstalling optax-0.1.7:\n",
            "      Successfully uninstalled optax-0.1.7\n",
            "  Attempting uninstall: tensorflow\n",
            "    Found existing installation: tensorflow 2.12.0\n",
            "    Uninstalling tensorflow-2.12.0:\n",
            "      Successfully uninstalled tensorflow-2.12.0\n",
            "  Attempting uninstall: flax\n",
            "    Found existing installation: flax 0.6.4\n",
            "    Uninstalling flax-0.6.4:\n",
            "      Successfully uninstalled flax-0.6.4\n",
            "  Running setup.py develop for t5x\n",
            "Successfully installed clu-0.0.11 docstring-parser-0.15 fiddle-0.2.11 flax-0.7.5 google-auth-oauthlib-1.0.0 jax-0.4.19 jaxlib-0.4.19 jestimator-0.3.3 keras-2.14.0 libcst-1.1.0 ml_collections-0.1.1 mypy-extensions-1.0.0 optax-0.1.8.dev0 pyglove-0.4.3 sentencepiece-0.1.99 seqio-0.0.17 t5x tensorboard-2.14.1 tensorflow-2.14.0 tensorflow-cpu-2.14.0 tensorflow-estimator-2.14.0 tensorflow-text-2.14.0 tfds-nightly-4.9.2.dev202308090034 typing-inspect-0.9.0\n"
          ]
        }
      ]
    },
    {
      "cell_type": "code",
      "source": [
        "import jax.tools.colab_tpu\n",
        "jax.tools.colab_tpu.setup_tpu()\n",
        "jax.local_devices()"
      ],
      "metadata": {
        "colab": {
          "base_uri": "https://localhost:8080/"
        },
        "id": "j4hcd2--F-ap",
        "outputId": "b3c19f32-e783-4ac8-9e3f-d1c9e2935d20"
      },
      "execution_count": 4,
      "outputs": [
        {
          "output_type": "execute_result",
          "data": {
            "text/plain": [
              "[TpuDevice(id=0, process_index=0, coords=(0,0,0), core_on_chip=0),\n",
              " TpuDevice(id=1, process_index=0, coords=(0,0,0), core_on_chip=1),\n",
              " TpuDevice(id=2, process_index=0, coords=(1,0,0), core_on_chip=0),\n",
              " TpuDevice(id=3, process_index=0, coords=(1,0,0), core_on_chip=1),\n",
              " TpuDevice(id=4, process_index=0, coords=(0,1,0), core_on_chip=0),\n",
              " TpuDevice(id=5, process_index=0, coords=(0,1,0), core_on_chip=1),\n",
              " TpuDevice(id=6, process_index=0, coords=(1,1,0), core_on_chip=0),\n",
              " TpuDevice(id=7, process_index=0, coords=(1,1,0), core_on_chip=1)]"
            ]
          },
          "metadata": {},
          "execution_count": 4
        }
      ]
    },
    {
      "cell_type": "code",
      "source": [
        "!pip install -U tensorflow-gcs-config==2.3.0"
      ],
      "metadata": {
        "colab": {
          "base_uri": "https://localhost:8080/"
        },
        "id": "R6DP4aXYHChu",
        "outputId": "2328902f-87fd-4b6f-9cbb-6df6523be77d"
      },
      "execution_count": 45,
      "outputs": [
        {
          "output_type": "stream",
          "name": "stdout",
          "text": [
            "Collecting tensorflow-gcs-config==2.3.0\n",
            "  Downloading tensorflow_gcs_config-2.3.0-py3-none-any.whl (3.2 MB)\n",
            "\u001b[2K     \u001b[90m━━━━━━━━━━━━━━━━━━━━━━━━━━━━━━━━━━━━━━━━\u001b[0m \u001b[32m3.2/3.2 MB\u001b[0m \u001b[31m6.4 MB/s\u001b[0m eta \u001b[36m0:00:00\u001b[0m\n",
            "\u001b[?25hInstalling collected packages: tensorflow-gcs-config\n",
            "  Attempting uninstall: tensorflow-gcs-config\n",
            "    Found existing installation: tensorflow-gcs-config 2.1.3\n",
            "    Uninstalling tensorflow-gcs-config-2.1.3:\n",
            "      Successfully uninstalled tensorflow-gcs-config-2.1.3\n",
            "Successfully installed tensorflow-gcs-config-2.3.0\n"
          ]
        }
      ]
    },
    {
      "cell_type": "code",
      "source": [
        "print(\"Setting up GCS access...\")\n",
        "import tensorflow as tf\n",
        "#import tensorflow_gcs_config\n",
        "\n",
        "# Set credentials for GCS reading/writing from Colab and TPU.\n",
        "TPU_TOPOLOGY = \"2x2\"\n",
        "try:\n",
        "  tpu = tf.distribute.cluster_resolver.TPUClusterResolver()  # TPU detection\n",
        "  TPU_ADDRESS = tpu.get_master()\n",
        "  print('Running on TPU:', TPU_ADDRESS)\n",
        "except ValueError:\n",
        "  raise BaseException('ERROR: Not connected to a TPU runtime; please see the previous cell in this notebook for instructions!')\n",
        "auth.authenticate_user()\n",
        "#tf.config.experimental_connect_to_host(TPU_ADDRESS)\n",
        "#tensorflow_gcs_config.configure_gcs_from_colab_auth()\n",
        "\n",
        "%env TPU_ADDRESS=$TPU_ADDRESS"
      ],
      "metadata": {
        "colab": {
          "base_uri": "https://localhost:8080/"
        },
        "id": "aDDhFVvHGLSk",
        "outputId": "96018130-94a9-4cde-fb3d-32e88e554175"
      },
      "execution_count": 47,
      "outputs": [
        {
          "output_type": "stream",
          "name": "stdout",
          "text": [
            "Setting up GCS access...\n",
            "Running on TPU: grpc://10.36.230.242:8470\n",
            "env: TPU_ADDRESS=grpc://10.36.230.242:8470\n"
          ]
        }
      ]
    },
    {
      "cell_type": "code",
      "source": [
        "!pip install git+https://github.com/google-research/t5x.git"
      ],
      "metadata": {
        "colab": {
          "base_uri": "https://localhost:8080/"
        },
        "id": "GttIETiSZmjs",
        "outputId": "a0d26177-ab6e-48d6-c605-490b50f2db92"
      },
      "execution_count": 51,
      "outputs": [
        {
          "output_type": "stream",
          "name": "stdout",
          "text": [
            "Collecting git+https://github.com/google-research/t5x.git\n",
            "  Cloning https://github.com/google-research/t5x.git to /tmp/pip-req-build-6iislggc\n",
            "  Running command git clone --filter=blob:none --quiet https://github.com/google-research/t5x.git /tmp/pip-req-build-6iislggc\n",
            "  Resolved https://github.com/google-research/t5x.git to commit 0a5677649d2affbda128f4744610f950222c6392\n",
            "  Preparing metadata (setup.py) ... \u001b[?25l\u001b[?25hdone\n",
            "Collecting clu@ git+https://github.com/google/CommonLoopUtils#egg=clu (from t5x==0.0.0)\n",
            "  Cloning https://github.com/google/CommonLoopUtils to /tmp/pip-install-yszv_ibj/clu_4fed996bc23948479c2d641720e58e3a\n",
            "  Running command git clone --filter=blob:none --quiet https://github.com/google/CommonLoopUtils /tmp/pip-install-yszv_ibj/clu_4fed996bc23948479c2d641720e58e3a\n",
            "  Resolved https://github.com/google/CommonLoopUtils to commit be91a3100e06ca16265e5e823e7a146f05b09e57\n",
            "  Preparing metadata (setup.py) ... \u001b[?25l\u001b[?25hdone\n",
            "Collecting flax@ git+https://github.com/google/flax#egg=flax (from t5x==0.0.0)\n",
            "  Cloning https://github.com/google/flax to /tmp/pip-install-yszv_ibj/flax_d83e65b93e9b4d609c73019a931a0815\n",
            "  Running command git clone --filter=blob:none --quiet https://github.com/google/flax /tmp/pip-install-yszv_ibj/flax_d83e65b93e9b4d609c73019a931a0815\n",
            "  Resolved https://github.com/google/flax to commit bf2928c8636a2dab8da7a7256c4cba9dc8279dcb\n",
            "  Installing build dependencies ... \u001b[?25l\u001b[?25hdone\n",
            "  Getting requirements to build wheel ... \u001b[?25l\u001b[?25hdone\n",
            "  Installing backend dependencies ... \u001b[?25l\u001b[?25hdone\n",
            "  Preparing metadata (pyproject.toml) ... \u001b[?25l\u001b[?25hdone\n",
            "Collecting jestimator@ git+https://github.com/google-research/jestimator#egg=jestimator (from t5x==0.0.0)\n",
            "  Cloning https://github.com/google-research/jestimator to /tmp/pip-install-yszv_ibj/jestimator_0425c7137054464290e2b9b7af3bb0f2\n",
            "  Running command git clone --filter=blob:none --quiet https://github.com/google-research/jestimator /tmp/pip-install-yszv_ibj/jestimator_0425c7137054464290e2b9b7af3bb0f2\n",
            "  Resolved https://github.com/google-research/jestimator to commit fa143d93e337ca8ab77c4510baf21ae52af24ab2\n",
            "  Installing build dependencies ... \u001b[?25l\u001b[?25hdone\n",
            "  Getting requirements to build wheel ... \u001b[?25l\u001b[?25hdone\n",
            "  Preparing metadata (pyproject.toml) ... \u001b[?25l\u001b[?25hdone\n",
            "Collecting optax@ git+https://github.com/deepmind/optax#egg=optax (from t5x==0.0.0)\n",
            "  Cloning https://github.com/deepmind/optax to /tmp/pip-install-yszv_ibj/optax_cf93df828ada416ab7652ea5a14f5195\n",
            "  Running command git clone --filter=blob:none --quiet https://github.com/deepmind/optax /tmp/pip-install-yszv_ibj/optax_cf93df828ada416ab7652ea5a14f5195\n",
            "  Resolved https://github.com/deepmind/optax to commit 2ac9d669cd9c73d10382e71539f7ac51654f344f\n",
            "  Installing build dependencies ... \u001b[?25l\u001b[?25hdone\n",
            "  Getting requirements to build wheel ... \u001b[?25l\u001b[?25hdone\n",
            "  Preparing metadata (pyproject.toml) ... \u001b[?25l\u001b[?25hdone\n",
            "Collecting seqio@ git+https://github.com/google/seqio#egg=seqio (from t5x==0.0.0)\n",
            "  Cloning https://github.com/google/seqio to /tmp/pip-install-yszv_ibj/seqio_836abfaa3eb1458d9770271fbea15dce\n",
            "  Running command git clone --filter=blob:none --quiet https://github.com/google/seqio /tmp/pip-install-yszv_ibj/seqio_836abfaa3eb1458d9770271fbea15dce\n",
            "  Resolved https://github.com/google/seqio to commit 58f65bf1689e97c4cebf6b919490d106aa6e8bb9\n",
            "  Preparing metadata (setup.py) ... \u001b[?25l\u001b[?25hdone\n",
            "Requirement already satisfied: absl-py in /usr/local/lib/python3.10/dist-packages (from t5x==0.0.0) (1.4.0)\n",
            "Requirement already satisfied: cached_property in /usr/local/lib/python3.10/dist-packages (from t5x==0.0.0) (1.5.2)\n",
            "Requirement already satisfied: fiddle>=0.2.5 in /usr/local/lib/python3.10/dist-packages (from t5x==0.0.0) (0.2.11)\n",
            "Requirement already satisfied: gin-config in /usr/local/lib/python3.10/dist-packages (from t5x==0.0.0) (0.5.0)\n",
            "Requirement already satisfied: jax>=0.4.16 in /usr/local/lib/python3.10/dist-packages (from t5x==0.0.0) (0.4.19)\n",
            "Requirement already satisfied: jaxlib>=0.4.16 in /usr/local/lib/python3.10/dist-packages (from t5x==0.0.0) (0.4.19)\n",
            "Requirement already satisfied: numpy in /usr/local/lib/python3.10/dist-packages (from t5x==0.0.0) (1.23.5)\n",
            "Requirement already satisfied: orbax-checkpoint in /usr/local/lib/python3.10/dist-packages (from t5x==0.0.0) (0.4.1)\n",
            "Requirement already satisfied: tensorflow-cpu in /usr/local/lib/python3.10/dist-packages (from t5x==0.0.0) (2.14.0)\n",
            "Requirement already satisfied: tensorstore>=0.1.20 in /usr/local/lib/python3.10/dist-packages (from t5x==0.0.0) (0.1.45)\n",
            "Requirement already satisfied: protobuf==3.20.3 in /usr/local/lib/python3.10/dist-packages (from t5x==0.0.0) (3.20.3)\n",
            "Requirement already satisfied: graphviz in /usr/local/lib/python3.10/dist-packages (from fiddle>=0.2.5->t5x==0.0.0) (0.20.1)\n",
            "Requirement already satisfied: libcst in /usr/local/lib/python3.10/dist-packages (from fiddle>=0.2.5->t5x==0.0.0) (1.1.0)\n",
            "Requirement already satisfied: typing-extensions in /usr/local/lib/python3.10/dist-packages (from fiddle>=0.2.5->t5x==0.0.0) (4.5.0)\n",
            "Requirement already satisfied: ml-dtypes>=0.2.0 in /usr/local/lib/python3.10/dist-packages (from jax>=0.4.16->t5x==0.0.0) (0.2.0)\n",
            "Requirement already satisfied: opt-einsum in /usr/local/lib/python3.10/dist-packages (from jax>=0.4.16->t5x==0.0.0) (3.3.0)\n",
            "Requirement already satisfied: scipy>=1.9 in /usr/local/lib/python3.10/dist-packages (from jax>=0.4.16->t5x==0.0.0) (1.11.3)\n",
            "Requirement already satisfied: etils[epath] in /usr/local/lib/python3.10/dist-packages (from clu@ git+https://github.com/google/CommonLoopUtils#egg=clu->t5x==0.0.0) (1.5.1)\n",
            "Requirement already satisfied: ml_collections in /usr/local/lib/python3.10/dist-packages (from clu@ git+https://github.com/google/CommonLoopUtils#egg=clu->t5x==0.0.0) (0.1.1)\n",
            "Requirement already satisfied: packaging in /usr/local/lib/python3.10/dist-packages (from clu@ git+https://github.com/google/CommonLoopUtils#egg=clu->t5x==0.0.0) (23.2)\n",
            "Requirement already satisfied: wrapt in /usr/local/lib/python3.10/dist-packages (from clu@ git+https://github.com/google/CommonLoopUtils#egg=clu->t5x==0.0.0) (1.14.1)\n",
            "Requirement already satisfied: msgpack in /usr/local/lib/python3.10/dist-packages (from flax@ git+https://github.com/google/flax#egg=flax->t5x==0.0.0) (1.0.7)\n",
            "Requirement already satisfied: rich>=11.1 in /usr/local/lib/python3.10/dist-packages (from flax@ git+https://github.com/google/flax#egg=flax->t5x==0.0.0) (13.6.0)\n",
            "Requirement already satisfied: PyYAML>=5.4.1 in /usr/local/lib/python3.10/dist-packages (from flax@ git+https://github.com/google/flax#egg=flax->t5x==0.0.0) (6.0.1)\n",
            "Requirement already satisfied: chex>=0.1.5 in /usr/local/lib/python3.10/dist-packages (from optax@ git+https://github.com/deepmind/optax#egg=optax->t5x==0.0.0) (0.1.6)\n",
            "Requirement already satisfied: nest_asyncio in /usr/local/lib/python3.10/dist-packages (from orbax-checkpoint->t5x==0.0.0) (1.5.8)\n",
            "Requirement already satisfied: editdistance in /usr/local/lib/python3.10/dist-packages (from seqio@ git+https://github.com/google/seqio#egg=seqio->t5x==0.0.0) (0.6.2)\n",
            "Requirement already satisfied: pyglove in /usr/local/lib/python3.10/dist-packages (from seqio@ git+https://github.com/google/seqio#egg=seqio->t5x==0.0.0) (0.4.3)\n",
            "Requirement already satisfied: sentencepiece in /usr/local/lib/python3.10/dist-packages (from seqio@ git+https://github.com/google/seqio#egg=seqio->t5x==0.0.0) (0.1.99)\n",
            "Requirement already satisfied: tensorflow-text in /usr/local/lib/python3.10/dist-packages (from seqio@ git+https://github.com/google/seqio#egg=seqio->t5x==0.0.0) (2.14.0)\n",
            "Requirement already satisfied: tfds-nightly==4.9.2.dev202308090034 in /usr/local/lib/python3.10/dist-packages (from seqio@ git+https://github.com/google/seqio#egg=seqio->t5x==0.0.0) (4.9.2.dev202308090034)\n",
            "Requirement already satisfied: array-record in /usr/local/lib/python3.10/dist-packages (from tfds-nightly==4.9.2.dev202308090034->seqio@ git+https://github.com/google/seqio#egg=seqio->t5x==0.0.0) (0.5.0)\n",
            "Requirement already satisfied: click in /usr/local/lib/python3.10/dist-packages (from tfds-nightly==4.9.2.dev202308090034->seqio@ git+https://github.com/google/seqio#egg=seqio->t5x==0.0.0) (8.1.7)\n",
            "Requirement already satisfied: dm-tree in /usr/local/lib/python3.10/dist-packages (from tfds-nightly==4.9.2.dev202308090034->seqio@ git+https://github.com/google/seqio#egg=seqio->t5x==0.0.0) (0.1.8)\n",
            "Requirement already satisfied: promise in /usr/local/lib/python3.10/dist-packages (from tfds-nightly==4.9.2.dev202308090034->seqio@ git+https://github.com/google/seqio#egg=seqio->t5x==0.0.0) (2.3)\n",
            "Requirement already satisfied: psutil in /usr/local/lib/python3.10/dist-packages (from tfds-nightly==4.9.2.dev202308090034->seqio@ git+https://github.com/google/seqio#egg=seqio->t5x==0.0.0) (5.9.5)\n",
            "Requirement already satisfied: requests>=2.19.0 in /usr/local/lib/python3.10/dist-packages (from tfds-nightly==4.9.2.dev202308090034->seqio@ git+https://github.com/google/seqio#egg=seqio->t5x==0.0.0) (2.31.0)\n",
            "Requirement already satisfied: tensorflow-metadata in /usr/local/lib/python3.10/dist-packages (from tfds-nightly==4.9.2.dev202308090034->seqio@ git+https://github.com/google/seqio#egg=seqio->t5x==0.0.0) (1.14.0)\n",
            "Requirement already satisfied: termcolor in /usr/local/lib/python3.10/dist-packages (from tfds-nightly==4.9.2.dev202308090034->seqio@ git+https://github.com/google/seqio#egg=seqio->t5x==0.0.0) (2.3.0)\n",
            "Requirement already satisfied: toml in /usr/local/lib/python3.10/dist-packages (from tfds-nightly==4.9.2.dev202308090034->seqio@ git+https://github.com/google/seqio#egg=seqio->t5x==0.0.0) (0.10.2)\n",
            "Requirement already satisfied: tqdm in /usr/local/lib/python3.10/dist-packages (from tfds-nightly==4.9.2.dev202308090034->seqio@ git+https://github.com/google/seqio#egg=seqio->t5x==0.0.0) (4.66.1)\n",
            "Requirement already satisfied: astunparse>=1.6.0 in /usr/local/lib/python3.10/dist-packages (from tensorflow-cpu->t5x==0.0.0) (1.6.3)\n",
            "Requirement already satisfied: flatbuffers>=23.5.26 in /usr/local/lib/python3.10/dist-packages (from tensorflow-cpu->t5x==0.0.0) (23.5.26)\n",
            "Requirement already satisfied: gast!=0.5.0,!=0.5.1,!=0.5.2,>=0.2.1 in /usr/local/lib/python3.10/dist-packages (from tensorflow-cpu->t5x==0.0.0) (0.4.0)\n",
            "Requirement already satisfied: google-pasta>=0.1.1 in /usr/local/lib/python3.10/dist-packages (from tensorflow-cpu->t5x==0.0.0) (0.2.0)\n",
            "Requirement already satisfied: h5py>=2.9.0 in /usr/local/lib/python3.10/dist-packages (from tensorflow-cpu->t5x==0.0.0) (3.9.0)\n",
            "Requirement already satisfied: libclang>=13.0.0 in /usr/local/lib/python3.10/dist-packages (from tensorflow-cpu->t5x==0.0.0) (16.0.6)\n",
            "Requirement already satisfied: setuptools in /usr/local/lib/python3.10/dist-packages (from tensorflow-cpu->t5x==0.0.0) (67.7.2)\n",
            "Requirement already satisfied: six>=1.12.0 in /usr/local/lib/python3.10/dist-packages (from tensorflow-cpu->t5x==0.0.0) (1.16.0)\n",
            "Requirement already satisfied: tensorflow-io-gcs-filesystem>=0.23.1 in /usr/local/lib/python3.10/dist-packages (from tensorflow-cpu->t5x==0.0.0) (0.34.0)\n",
            "Requirement already satisfied: grpcio<2.0,>=1.24.3 in /usr/local/lib/python3.10/dist-packages (from tensorflow-cpu->t5x==0.0.0) (1.59.0)\n",
            "Requirement already satisfied: tensorboard<2.15,>=2.14 in /usr/local/lib/python3.10/dist-packages (from tensorflow-cpu->t5x==0.0.0) (2.14.1)\n",
            "Requirement already satisfied: tensorflow-estimator<2.15,>=2.14.0 in /usr/local/lib/python3.10/dist-packages (from tensorflow-cpu->t5x==0.0.0) (2.14.0)\n",
            "Requirement already satisfied: keras<2.15,>=2.14.0 in /usr/local/lib/python3.10/dist-packages (from tensorflow-cpu->t5x==0.0.0) (2.14.0)\n",
            "Requirement already satisfied: wheel<1.0,>=0.23.0 in /usr/local/lib/python3.10/dist-packages (from astunparse>=1.6.0->tensorflow-cpu->t5x==0.0.0) (0.41.2)\n",
            "Requirement already satisfied: toolz>=0.9.0 in /usr/local/lib/python3.10/dist-packages (from chex>=0.1.5->optax@ git+https://github.com/deepmind/optax#egg=optax->t5x==0.0.0) (0.12.0)\n",
            "Requirement already satisfied: markdown-it-py>=2.2.0 in /usr/local/lib/python3.10/dist-packages (from rich>=11.1->flax@ git+https://github.com/google/flax#egg=flax->t5x==0.0.0) (3.0.0)\n",
            "Requirement already satisfied: pygments<3.0.0,>=2.13.0 in /usr/local/lib/python3.10/dist-packages (from rich>=11.1->flax@ git+https://github.com/google/flax#egg=flax->t5x==0.0.0) (2.16.1)\n",
            "Requirement already satisfied: google-auth<3,>=1.6.3 in /usr/local/lib/python3.10/dist-packages (from tensorboard<2.15,>=2.14->tensorflow-cpu->t5x==0.0.0) (2.17.3)\n",
            "Requirement already satisfied: google-auth-oauthlib<1.1,>=0.5 in /usr/local/lib/python3.10/dist-packages (from tensorboard<2.15,>=2.14->tensorflow-cpu->t5x==0.0.0) (1.0.0)\n",
            "Requirement already satisfied: markdown>=2.6.8 in /usr/local/lib/python3.10/dist-packages (from tensorboard<2.15,>=2.14->tensorflow-cpu->t5x==0.0.0) (3.5)\n",
            "Requirement already satisfied: tensorboard-data-server<0.8.0,>=0.7.0 in /usr/local/lib/python3.10/dist-packages (from tensorboard<2.15,>=2.14->tensorflow-cpu->t5x==0.0.0) (0.7.1)\n",
            "Requirement already satisfied: werkzeug>=1.0.1 in /usr/local/lib/python3.10/dist-packages (from tensorboard<2.15,>=2.14->tensorflow-cpu->t5x==0.0.0) (3.0.0)\n",
            "Requirement already satisfied: fsspec in /usr/local/lib/python3.10/dist-packages (from etils[epath]->clu@ git+https://github.com/google/CommonLoopUtils#egg=clu->t5x==0.0.0) (2023.6.0)\n",
            "Requirement already satisfied: importlib_resources in /usr/local/lib/python3.10/dist-packages (from etils[epath]->clu@ git+https://github.com/google/CommonLoopUtils#egg=clu->t5x==0.0.0) (6.1.0)\n",
            "Requirement already satisfied: zipp in /usr/local/lib/python3.10/dist-packages (from etils[epath]->clu@ git+https://github.com/google/CommonLoopUtils#egg=clu->t5x==0.0.0) (3.17.0)\n",
            "Requirement already satisfied: typing-inspect>=0.4.0 in /usr/local/lib/python3.10/dist-packages (from libcst->fiddle>=0.2.5->t5x==0.0.0) (0.9.0)\n",
            "Requirement already satisfied: contextlib2 in /usr/local/lib/python3.10/dist-packages (from ml_collections->clu@ git+https://github.com/google/CommonLoopUtils#egg=clu->t5x==0.0.0) (21.6.0)\n",
            "Requirement already satisfied: docstring-parser>=0.12 in /usr/local/lib/python3.10/dist-packages (from pyglove->seqio@ git+https://github.com/google/seqio#egg=seqio->t5x==0.0.0) (0.15)\n",
            "Requirement already satisfied: tensorflow-hub>=0.13.0 in /usr/local/lib/python3.10/dist-packages (from tensorflow-text->seqio@ git+https://github.com/google/seqio#egg=seqio->t5x==0.0.0) (0.15.0)\n",
            "Requirement already satisfied: tensorflow<2.15,>=2.14.0 in /usr/local/lib/python3.10/dist-packages (from tensorflow-text->seqio@ git+https://github.com/google/seqio#egg=seqio->t5x==0.0.0) (2.14.0)\n",
            "Requirement already satisfied: cachetools<6.0,>=2.0.0 in /usr/local/lib/python3.10/dist-packages (from google-auth<3,>=1.6.3->tensorboard<2.15,>=2.14->tensorflow-cpu->t5x==0.0.0) (5.3.1)\n",
            "Requirement already satisfied: pyasn1-modules>=0.2.1 in /usr/local/lib/python3.10/dist-packages (from google-auth<3,>=1.6.3->tensorboard<2.15,>=2.14->tensorflow-cpu->t5x==0.0.0) (0.3.0)\n",
            "Requirement already satisfied: rsa<5,>=3.1.4 in /usr/local/lib/python3.10/dist-packages (from google-auth<3,>=1.6.3->tensorboard<2.15,>=2.14->tensorflow-cpu->t5x==0.0.0) (4.9)\n",
            "Requirement already satisfied: requests-oauthlib>=0.7.0 in /usr/local/lib/python3.10/dist-packages (from google-auth-oauthlib<1.1,>=0.5->tensorboard<2.15,>=2.14->tensorflow-cpu->t5x==0.0.0) (1.3.1)\n",
            "Requirement already satisfied: mdurl~=0.1 in /usr/local/lib/python3.10/dist-packages (from markdown-it-py>=2.2.0->rich>=11.1->flax@ git+https://github.com/google/flax#egg=flax->t5x==0.0.0) (0.1.2)\n",
            "Requirement already satisfied: charset-normalizer<4,>=2 in /usr/local/lib/python3.10/dist-packages (from requests>=2.19.0->tfds-nightly==4.9.2.dev202308090034->seqio@ git+https://github.com/google/seqio#egg=seqio->t5x==0.0.0) (3.3.0)\n",
            "Requirement already satisfied: idna<4,>=2.5 in /usr/local/lib/python3.10/dist-packages (from requests>=2.19.0->tfds-nightly==4.9.2.dev202308090034->seqio@ git+https://github.com/google/seqio#egg=seqio->t5x==0.0.0) (3.4)\n",
            "Requirement already satisfied: urllib3<3,>=1.21.1 in /usr/local/lib/python3.10/dist-packages (from requests>=2.19.0->tfds-nightly==4.9.2.dev202308090034->seqio@ git+https://github.com/google/seqio#egg=seqio->t5x==0.0.0) (2.0.7)\n",
            "Requirement already satisfied: certifi>=2017.4.17 in /usr/local/lib/python3.10/dist-packages (from requests>=2.19.0->tfds-nightly==4.9.2.dev202308090034->seqio@ git+https://github.com/google/seqio#egg=seqio->t5x==0.0.0) (2023.7.22)\n",
            "Requirement already satisfied: mypy-extensions>=0.3.0 in /usr/local/lib/python3.10/dist-packages (from typing-inspect>=0.4.0->libcst->fiddle>=0.2.5->t5x==0.0.0) (1.0.0)\n",
            "Requirement already satisfied: MarkupSafe>=2.1.1 in /usr/local/lib/python3.10/dist-packages (from werkzeug>=1.0.1->tensorboard<2.15,>=2.14->tensorflow-cpu->t5x==0.0.0) (2.1.3)\n",
            "Requirement already satisfied: googleapis-common-protos<2,>=1.52.0 in /usr/local/lib/python3.10/dist-packages (from tensorflow-metadata->tfds-nightly==4.9.2.dev202308090034->seqio@ git+https://github.com/google/seqio#egg=seqio->t5x==0.0.0) (1.61.0)\n",
            "Requirement already satisfied: pyasn1<0.6.0,>=0.4.6 in /usr/local/lib/python3.10/dist-packages (from pyasn1-modules>=0.2.1->google-auth<3,>=1.6.3->tensorboard<2.15,>=2.14->tensorflow-cpu->t5x==0.0.0) (0.5.0)\n",
            "Requirement already satisfied: oauthlib>=3.0.0 in /usr/local/lib/python3.10/dist-packages (from requests-oauthlib>=0.7.0->google-auth-oauthlib<1.1,>=0.5->tensorboard<2.15,>=2.14->tensorflow-cpu->t5x==0.0.0) (3.2.2)\n",
            "Building wheels for collected packages: t5x\n",
            "  Building wheel for t5x (setup.py) ... \u001b[?25l\u001b[?25hdone\n",
            "  Created wheel for t5x: filename=t5x-0.0.0-py3-none-any.whl size=537018 sha256=0caee314e6dc64ff99328e42a704580b8fdfa3ad709d4ca0b3e142cb0b2b56e3\n",
            "  Stored in directory: /tmp/pip-ephem-wheel-cache-_cjwqqqh/wheels/1e/04/22/c83d05e492eac448da15747f9063cafdcbe7110ce853471b97\n",
            "Successfully built t5x\n",
            "Installing collected packages: t5x\n",
            "  Attempting uninstall: t5x\n",
            "    Found existing installation: t5x 0.0.0\n",
            "    Uninstalling t5x-0.0.0:\n",
            "      Successfully uninstalled t5x-0.0.0\n",
            "Successfully installed t5x-0.0.0\n"
          ]
        }
      ]
    },
    {
      "cell_type": "code",
      "source": [
        "!pip install git+https://github.com/google-research/text-to-text-transfer-transformer.git"
      ],
      "metadata": {
        "colab": {
          "base_uri": "https://localhost:8080/"
        },
        "id": "ahxFaW6zb92R",
        "outputId": "fd241025-37b7-40e6-9cb9-3ed79320c023"
      },
      "execution_count": 57,
      "outputs": [
        {
          "output_type": "stream",
          "name": "stdout",
          "text": [
            "Collecting git+https://github.com/google-research/text-to-text-transfer-transformer.git\n",
            "  Cloning https://github.com/google-research/text-to-text-transfer-transformer.git to /tmp/pip-req-build-f43z0kxa\n",
            "  Running command git clone --filter=blob:none --quiet https://github.com/google-research/text-to-text-transfer-transformer.git /tmp/pip-req-build-f43z0kxa\n",
            "  Resolved https://github.com/google-research/text-to-text-transfer-transformer.git to commit dd1cededc64eae4ba0857f1c62edb02e8141674c\n",
            "  Preparing metadata (setup.py) ... \u001b[?25l\u001b[?25hdone\n",
            "Requirement already satisfied: absl-py in /usr/local/lib/python3.10/dist-packages (from t5==0.9.4) (1.4.0)\n",
            "Requirement already satisfied: babel in /usr/local/lib/python3.10/dist-packages (from t5==0.9.4) (2.13.0)\n",
            "Requirement already satisfied: editdistance in /usr/local/lib/python3.10/dist-packages (from t5==0.9.4) (0.6.2)\n",
            "Collecting immutabledict (from t5==0.9.4)\n",
            "  Downloading immutabledict-3.0.0-py3-none-any.whl (4.0 kB)\n",
            "Requirement already satisfied: gin-config in /usr/local/lib/python3.10/dist-packages (from t5==0.9.4) (0.5.0)\n",
            "Collecting mesh-tensorflow[transformer]>=0.1.13 (from t5==0.9.4)\n",
            "  Downloading mesh_tensorflow-0.1.21-py3-none-any.whl (385 kB)\n",
            "\u001b[2K     \u001b[90m━━━━━━━━━━━━━━━━━━━━━━━━━━━━━━━━━━━━━━━━\u001b[0m \u001b[32m385.2/385.2 kB\u001b[0m \u001b[31m4.4 MB/s\u001b[0m eta \u001b[36m0:00:00\u001b[0m\n",
            "\u001b[?25hRequirement already satisfied: nltk in /usr/local/lib/python3.10/dist-packages (from t5==0.9.4) (3.8.1)\n",
            "Requirement already satisfied: numpy in /usr/local/lib/python3.10/dist-packages (from t5==0.9.4) (1.23.5)\n",
            "Requirement already satisfied: pandas<2.0.0 in /usr/local/lib/python3.10/dist-packages (from t5==0.9.4) (1.5.3)\n",
            "Collecting rouge-score>=0.1.2 (from t5==0.9.4)\n",
            "  Downloading rouge_score-0.1.2.tar.gz (17 kB)\n",
            "  Preparing metadata (setup.py) ... \u001b[?25l\u001b[?25hdone\n",
            "Collecting sacrebleu (from t5==0.9.4)\n",
            "  Downloading sacrebleu-2.3.1-py3-none-any.whl (118 kB)\n",
            "\u001b[2K     \u001b[90m━━━━━━━━━━━━━━━━━━━━━━━━━━━━━━━━━━━━━━━━\u001b[0m \u001b[32m118.9/118.9 kB\u001b[0m \u001b[31m4.5 MB/s\u001b[0m eta \u001b[36m0:00:00\u001b[0m\n",
            "\u001b[?25hRequirement already satisfied: scikit-learn in /usr/local/lib/python3.10/dist-packages (from t5==0.9.4) (1.2.2)\n",
            "Requirement already satisfied: scipy in /usr/local/lib/python3.10/dist-packages (from t5==0.9.4) (1.11.3)\n",
            "Requirement already satisfied: sentencepiece in /usr/local/lib/python3.10/dist-packages (from t5==0.9.4) (0.1.99)\n",
            "Collecting seqio-nightly (from t5==0.9.4)\n",
            "  Downloading seqio_nightly-0.0.17.dev20231024-py3-none-any.whl (353 kB)\n",
            "\u001b[2K     \u001b[90m━━━━━━━━━━━━━━━━━━━━━━━━━━━━━━━━━━━━━━━━\u001b[0m \u001b[32m353.1/353.1 kB\u001b[0m \u001b[31m4.8 MB/s\u001b[0m eta \u001b[36m0:00:00\u001b[0m\n",
            "\u001b[?25hRequirement already satisfied: six>=1.14 in /usr/local/lib/python3.10/dist-packages (from t5==0.9.4) (1.16.0)\n",
            "Requirement already satisfied: tfds-nightly in /usr/local/lib/python3.10/dist-packages (from t5==0.9.4) (4.9.2.dev202308090034)\n",
            "Collecting transformers>=2.7.0 (from t5==0.9.4)\n",
            "  Downloading transformers-4.34.1-py3-none-any.whl (7.7 MB)\n",
            "\u001b[2K     \u001b[90m━━━━━━━━━━━━━━━━━━━━━━━━━━━━━━━━━━━━━━━━\u001b[0m \u001b[32m7.7/7.7 MB\u001b[0m \u001b[31m13.8 MB/s\u001b[0m eta \u001b[36m0:00:00\u001b[0m\n",
            "\u001b[?25hRequirement already satisfied: future in /usr/local/lib/python3.10/dist-packages (from mesh-tensorflow[transformer]>=0.1.13->t5==0.9.4) (0.18.3)\n",
            "Requirement already satisfied: tensorflow-datasets in /usr/local/lib/python3.10/dist-packages (from mesh-tensorflow[transformer]>=0.1.13->t5==0.9.4) (4.9.3)\n",
            "Requirement already satisfied: python-dateutil>=2.8.1 in /usr/local/lib/python3.10/dist-packages (from pandas<2.0.0->t5==0.9.4) (2.8.2)\n",
            "Requirement already satisfied: pytz>=2020.1 in /usr/local/lib/python3.10/dist-packages (from pandas<2.0.0->t5==0.9.4) (2023.3.post1)\n",
            "Requirement already satisfied: filelock in /usr/local/lib/python3.10/dist-packages (from transformers>=2.7.0->t5==0.9.4) (3.12.4)\n",
            "Collecting huggingface-hub<1.0,>=0.16.4 (from transformers>=2.7.0->t5==0.9.4)\n",
            "  Downloading huggingface_hub-0.18.0-py3-none-any.whl (301 kB)\n",
            "\u001b[2K     \u001b[90m━━━━━━━━━━━━━━━━━━━━━━━━━━━━━━━━━━━━━━━━\u001b[0m \u001b[32m302.0/302.0 kB\u001b[0m \u001b[31m12.4 MB/s\u001b[0m eta \u001b[36m0:00:00\u001b[0m\n",
            "\u001b[?25hRequirement already satisfied: packaging>=20.0 in /usr/local/lib/python3.10/dist-packages (from transformers>=2.7.0->t5==0.9.4) (23.2)\n",
            "Requirement already satisfied: pyyaml>=5.1 in /usr/local/lib/python3.10/dist-packages (from transformers>=2.7.0->t5==0.9.4) (6.0.1)\n",
            "Requirement already satisfied: regex!=2019.12.17 in /usr/local/lib/python3.10/dist-packages (from transformers>=2.7.0->t5==0.9.4) (2023.6.3)\n",
            "Requirement already satisfied: requests in /usr/local/lib/python3.10/dist-packages (from transformers>=2.7.0->t5==0.9.4) (2.31.0)\n",
            "Collecting tokenizers<0.15,>=0.14 (from transformers>=2.7.0->t5==0.9.4)\n",
            "  Downloading tokenizers-0.14.1-cp310-cp310-manylinux_2_17_x86_64.manylinux2014_x86_64.whl (3.8 MB)\n",
            "\u001b[2K     \u001b[90m━━━━━━━━━━━━━━━━━━━━━━━━━━━━━━━━━━━━━━━━\u001b[0m \u001b[32m3.8/3.8 MB\u001b[0m \u001b[31m12.5 MB/s\u001b[0m eta \u001b[36m0:00:00\u001b[0m\n",
            "\u001b[?25hCollecting safetensors>=0.3.1 (from transformers>=2.7.0->t5==0.9.4)\n",
            "  Downloading safetensors-0.4.0-cp310-cp310-manylinux_2_17_x86_64.manylinux2014_x86_64.whl (1.3 MB)\n",
            "\u001b[2K     \u001b[90m━━━━━━━━━━━━━━━━━━━━━━━━━━━━━━━━━━━━━━━━\u001b[0m \u001b[32m1.3/1.3 MB\u001b[0m \u001b[31m4.7 MB/s\u001b[0m eta \u001b[36m0:00:00\u001b[0m\n",
            "\u001b[?25hRequirement already satisfied: tqdm>=4.27 in /usr/local/lib/python3.10/dist-packages (from transformers>=2.7.0->t5==0.9.4) (4.66.1)\n",
            "Requirement already satisfied: click in /usr/local/lib/python3.10/dist-packages (from nltk->t5==0.9.4) (8.1.7)\n",
            "Requirement already satisfied: joblib in /usr/local/lib/python3.10/dist-packages (from nltk->t5==0.9.4) (1.3.2)\n",
            "Collecting portalocker (from sacrebleu->t5==0.9.4)\n",
            "  Downloading portalocker-2.8.2-py3-none-any.whl (17 kB)\n",
            "Requirement already satisfied: tabulate>=0.8.9 in /usr/local/lib/python3.10/dist-packages (from sacrebleu->t5==0.9.4) (0.9.0)\n",
            "Collecting colorama (from sacrebleu->t5==0.9.4)\n",
            "  Downloading colorama-0.4.6-py2.py3-none-any.whl (25 kB)\n",
            "Requirement already satisfied: lxml in /usr/local/lib/python3.10/dist-packages (from sacrebleu->t5==0.9.4) (4.9.3)\n",
            "Requirement already satisfied: threadpoolctl>=2.0.0 in /usr/local/lib/python3.10/dist-packages (from scikit-learn->t5==0.9.4) (3.2.0)\n",
            "Requirement already satisfied: clu in /usr/local/lib/python3.10/dist-packages (from seqio-nightly->t5==0.9.4) (0.0.11)\n",
            "Requirement already satisfied: jax in /usr/local/lib/python3.10/dist-packages (from seqio-nightly->t5==0.9.4) (0.4.19)\n",
            "Requirement already satisfied: jaxlib in /usr/local/lib/python3.10/dist-packages (from seqio-nightly->t5==0.9.4) (0.4.19)\n",
            "Requirement already satisfied: pyglove in /usr/local/lib/python3.10/dist-packages (from seqio-nightly->t5==0.9.4) (0.4.3)\n",
            "Requirement already satisfied: tensorflow-text in /usr/local/lib/python3.10/dist-packages (from seqio-nightly->t5==0.9.4) (2.14.0)\n",
            "Requirement already satisfied: protobuf<=3.20.3 in /usr/local/lib/python3.10/dist-packages (from seqio-nightly->t5==0.9.4) (3.20.3)\n",
            "Requirement already satisfied: array-record in /usr/local/lib/python3.10/dist-packages (from tfds-nightly->t5==0.9.4) (0.5.0)\n",
            "Requirement already satisfied: dm-tree in /usr/local/lib/python3.10/dist-packages (from tfds-nightly->t5==0.9.4) (0.1.8)\n",
            "Requirement already satisfied: etils[enp,epath,etree]>=0.9.0 in /usr/local/lib/python3.10/dist-packages (from tfds-nightly->t5==0.9.4) (1.5.1)\n",
            "Requirement already satisfied: promise in /usr/local/lib/python3.10/dist-packages (from tfds-nightly->t5==0.9.4) (2.3)\n",
            "Requirement already satisfied: psutil in /usr/local/lib/python3.10/dist-packages (from tfds-nightly->t5==0.9.4) (5.9.5)\n",
            "Requirement already satisfied: tensorflow-metadata in /usr/local/lib/python3.10/dist-packages (from tfds-nightly->t5==0.9.4) (1.14.0)\n",
            "Requirement already satisfied: termcolor in /usr/local/lib/python3.10/dist-packages (from tfds-nightly->t5==0.9.4) (2.3.0)\n",
            "Requirement already satisfied: toml in /usr/local/lib/python3.10/dist-packages (from tfds-nightly->t5==0.9.4) (0.10.2)\n",
            "Requirement already satisfied: wrapt in /usr/local/lib/python3.10/dist-packages (from tfds-nightly->t5==0.9.4) (1.14.1)\n",
            "Requirement already satisfied: fsspec in /usr/local/lib/python3.10/dist-packages (from etils[enp,epath,etree]>=0.9.0->tfds-nightly->t5==0.9.4) (2023.6.0)\n",
            "Requirement already satisfied: importlib_resources in /usr/local/lib/python3.10/dist-packages (from etils[enp,epath,etree]>=0.9.0->tfds-nightly->t5==0.9.4) (6.1.0)\n",
            "Requirement already satisfied: typing_extensions in /usr/local/lib/python3.10/dist-packages (from etils[enp,epath,etree]>=0.9.0->tfds-nightly->t5==0.9.4) (4.5.0)\n",
            "Requirement already satisfied: zipp in /usr/local/lib/python3.10/dist-packages (from etils[enp,epath,etree]>=0.9.0->tfds-nightly->t5==0.9.4) (3.17.0)\n",
            "Requirement already satisfied: charset-normalizer<4,>=2 in /usr/local/lib/python3.10/dist-packages (from requests->transformers>=2.7.0->t5==0.9.4) (3.3.0)\n",
            "Requirement already satisfied: idna<4,>=2.5 in /usr/local/lib/python3.10/dist-packages (from requests->transformers>=2.7.0->t5==0.9.4) (3.4)\n",
            "Requirement already satisfied: urllib3<3,>=1.21.1 in /usr/local/lib/python3.10/dist-packages (from requests->transformers>=2.7.0->t5==0.9.4) (2.0.7)\n",
            "Requirement already satisfied: certifi>=2017.4.17 in /usr/local/lib/python3.10/dist-packages (from requests->transformers>=2.7.0->t5==0.9.4) (2023.7.22)\n",
            "Collecting huggingface-hub<1.0,>=0.16.4 (from transformers>=2.7.0->t5==0.9.4)\n",
            "  Downloading huggingface_hub-0.17.3-py3-none-any.whl (295 kB)\n",
            "\u001b[2K     \u001b[90m━━━━━━━━━━━━━━━━━━━━━━━━━━━━━━━━━━━━━━━━\u001b[0m \u001b[32m295.0/295.0 kB\u001b[0m \u001b[31m5.6 MB/s\u001b[0m eta \u001b[36m0:00:00\u001b[0m\n",
            "\u001b[?25hRequirement already satisfied: flax in /usr/local/lib/python3.10/dist-packages (from clu->seqio-nightly->t5==0.9.4) (0.7.5)\n",
            "Requirement already satisfied: ml-collections in /usr/local/lib/python3.10/dist-packages (from clu->seqio-nightly->t5==0.9.4) (0.1.1)\n",
            "Requirement already satisfied: ml-dtypes>=0.2.0 in /usr/local/lib/python3.10/dist-packages (from jax->seqio-nightly->t5==0.9.4) (0.2.0)\n",
            "Requirement already satisfied: opt-einsum in /usr/local/lib/python3.10/dist-packages (from jax->seqio-nightly->t5==0.9.4) (3.3.0)\n",
            "Requirement already satisfied: docstring-parser>=0.12 in /usr/local/lib/python3.10/dist-packages (from pyglove->seqio-nightly->t5==0.9.4) (0.15)\n",
            "Requirement already satisfied: googleapis-common-protos<2,>=1.52.0 in /usr/local/lib/python3.10/dist-packages (from tensorflow-metadata->tfds-nightly->t5==0.9.4) (1.61.0)\n",
            "Requirement already satisfied: tensorflow-hub>=0.13.0 in /usr/local/lib/python3.10/dist-packages (from tensorflow-text->seqio-nightly->t5==0.9.4) (0.15.0)\n",
            "Requirement already satisfied: tensorflow<2.15,>=2.14.0 in /usr/local/lib/python3.10/dist-packages (from tensorflow-text->seqio-nightly->t5==0.9.4) (2.14.0)\n",
            "Requirement already satisfied: astunparse>=1.6.0 in /usr/local/lib/python3.10/dist-packages (from tensorflow<2.15,>=2.14.0->tensorflow-text->seqio-nightly->t5==0.9.4) (1.6.3)\n",
            "Requirement already satisfied: flatbuffers>=23.5.26 in /usr/local/lib/python3.10/dist-packages (from tensorflow<2.15,>=2.14.0->tensorflow-text->seqio-nightly->t5==0.9.4) (23.5.26)\n",
            "Requirement already satisfied: gast!=0.5.0,!=0.5.1,!=0.5.2,>=0.2.1 in /usr/local/lib/python3.10/dist-packages (from tensorflow<2.15,>=2.14.0->tensorflow-text->seqio-nightly->t5==0.9.4) (0.4.0)\n",
            "Requirement already satisfied: google-pasta>=0.1.1 in /usr/local/lib/python3.10/dist-packages (from tensorflow<2.15,>=2.14.0->tensorflow-text->seqio-nightly->t5==0.9.4) (0.2.0)\n",
            "Requirement already satisfied: h5py>=2.9.0 in /usr/local/lib/python3.10/dist-packages (from tensorflow<2.15,>=2.14.0->tensorflow-text->seqio-nightly->t5==0.9.4) (3.9.0)\n",
            "Requirement already satisfied: libclang>=13.0.0 in /usr/local/lib/python3.10/dist-packages (from tensorflow<2.15,>=2.14.0->tensorflow-text->seqio-nightly->t5==0.9.4) (16.0.6)\n",
            "Requirement already satisfied: setuptools in /usr/local/lib/python3.10/dist-packages (from tensorflow<2.15,>=2.14.0->tensorflow-text->seqio-nightly->t5==0.9.4) (67.7.2)\n",
            "Requirement already satisfied: tensorflow-io-gcs-filesystem>=0.23.1 in /usr/local/lib/python3.10/dist-packages (from tensorflow<2.15,>=2.14.0->tensorflow-text->seqio-nightly->t5==0.9.4) (0.34.0)\n",
            "Requirement already satisfied: grpcio<2.0,>=1.24.3 in /usr/local/lib/python3.10/dist-packages (from tensorflow<2.15,>=2.14.0->tensorflow-text->seqio-nightly->t5==0.9.4) (1.59.0)\n",
            "Requirement already satisfied: tensorboard<2.15,>=2.14 in /usr/local/lib/python3.10/dist-packages (from tensorflow<2.15,>=2.14.0->tensorflow-text->seqio-nightly->t5==0.9.4) (2.14.1)\n",
            "Requirement already satisfied: tensorflow-estimator<2.15,>=2.14.0 in /usr/local/lib/python3.10/dist-packages (from tensorflow<2.15,>=2.14.0->tensorflow-text->seqio-nightly->t5==0.9.4) (2.14.0)\n",
            "Requirement already satisfied: keras<2.15,>=2.14.0 in /usr/local/lib/python3.10/dist-packages (from tensorflow<2.15,>=2.14.0->tensorflow-text->seqio-nightly->t5==0.9.4) (2.14.0)\n",
            "Requirement already satisfied: msgpack in /usr/local/lib/python3.10/dist-packages (from flax->clu->seqio-nightly->t5==0.9.4) (1.0.7)\n",
            "Requirement already satisfied: optax in /usr/local/lib/python3.10/dist-packages (from flax->clu->seqio-nightly->t5==0.9.4) (0.1.8.dev0)\n",
            "Requirement already satisfied: orbax-checkpoint in /usr/local/lib/python3.10/dist-packages (from flax->clu->seqio-nightly->t5==0.9.4) (0.4.1)\n",
            "Requirement already satisfied: tensorstore in /usr/local/lib/python3.10/dist-packages (from flax->clu->seqio-nightly->t5==0.9.4) (0.1.45)\n",
            "Requirement already satisfied: rich>=11.1 in /usr/local/lib/python3.10/dist-packages (from flax->clu->seqio-nightly->t5==0.9.4) (13.6.0)\n",
            "Requirement already satisfied: contextlib2 in /usr/local/lib/python3.10/dist-packages (from ml-collections->clu->seqio-nightly->t5==0.9.4) (21.6.0)\n",
            "Requirement already satisfied: wheel<1.0,>=0.23.0 in /usr/local/lib/python3.10/dist-packages (from astunparse>=1.6.0->tensorflow<2.15,>=2.14.0->tensorflow-text->seqio-nightly->t5==0.9.4) (0.41.2)\n",
            "Requirement already satisfied: markdown-it-py>=2.2.0 in /usr/local/lib/python3.10/dist-packages (from rich>=11.1->flax->clu->seqio-nightly->t5==0.9.4) (3.0.0)\n",
            "Requirement already satisfied: pygments<3.0.0,>=2.13.0 in /usr/local/lib/python3.10/dist-packages (from rich>=11.1->flax->clu->seqio-nightly->t5==0.9.4) (2.16.1)\n",
            "Requirement already satisfied: google-auth<3,>=1.6.3 in /usr/local/lib/python3.10/dist-packages (from tensorboard<2.15,>=2.14->tensorflow<2.15,>=2.14.0->tensorflow-text->seqio-nightly->t5==0.9.4) (2.17.3)\n",
            "Requirement already satisfied: google-auth-oauthlib<1.1,>=0.5 in /usr/local/lib/python3.10/dist-packages (from tensorboard<2.15,>=2.14->tensorflow<2.15,>=2.14.0->tensorflow-text->seqio-nightly->t5==0.9.4) (1.0.0)\n",
            "Requirement already satisfied: markdown>=2.6.8 in /usr/local/lib/python3.10/dist-packages (from tensorboard<2.15,>=2.14->tensorflow<2.15,>=2.14.0->tensorflow-text->seqio-nightly->t5==0.9.4) (3.5)\n",
            "Requirement already satisfied: tensorboard-data-server<0.8.0,>=0.7.0 in /usr/local/lib/python3.10/dist-packages (from tensorboard<2.15,>=2.14->tensorflow<2.15,>=2.14.0->tensorflow-text->seqio-nightly->t5==0.9.4) (0.7.1)\n",
            "Requirement already satisfied: werkzeug>=1.0.1 in /usr/local/lib/python3.10/dist-packages (from tensorboard<2.15,>=2.14->tensorflow<2.15,>=2.14.0->tensorflow-text->seqio-nightly->t5==0.9.4) (3.0.0)\n",
            "Requirement already satisfied: chex>=0.1.5 in /usr/local/lib/python3.10/dist-packages (from optax->flax->clu->seqio-nightly->t5==0.9.4) (0.1.6)\n",
            "Requirement already satisfied: nest_asyncio in /usr/local/lib/python3.10/dist-packages (from orbax-checkpoint->flax->clu->seqio-nightly->t5==0.9.4) (1.5.8)\n",
            "Requirement already satisfied: toolz>=0.9.0 in /usr/local/lib/python3.10/dist-packages (from chex>=0.1.5->optax->flax->clu->seqio-nightly->t5==0.9.4) (0.12.0)\n",
            "Requirement already satisfied: cachetools<6.0,>=2.0.0 in /usr/local/lib/python3.10/dist-packages (from google-auth<3,>=1.6.3->tensorboard<2.15,>=2.14->tensorflow<2.15,>=2.14.0->tensorflow-text->seqio-nightly->t5==0.9.4) (5.3.1)\n",
            "Requirement already satisfied: pyasn1-modules>=0.2.1 in /usr/local/lib/python3.10/dist-packages (from google-auth<3,>=1.6.3->tensorboard<2.15,>=2.14->tensorflow<2.15,>=2.14.0->tensorflow-text->seqio-nightly->t5==0.9.4) (0.3.0)\n",
            "Requirement already satisfied: rsa<5,>=3.1.4 in /usr/local/lib/python3.10/dist-packages (from google-auth<3,>=1.6.3->tensorboard<2.15,>=2.14->tensorflow<2.15,>=2.14.0->tensorflow-text->seqio-nightly->t5==0.9.4) (4.9)\n",
            "Requirement already satisfied: requests-oauthlib>=0.7.0 in /usr/local/lib/python3.10/dist-packages (from google-auth-oauthlib<1.1,>=0.5->tensorboard<2.15,>=2.14->tensorflow<2.15,>=2.14.0->tensorflow-text->seqio-nightly->t5==0.9.4) (1.3.1)\n",
            "Requirement already satisfied: mdurl~=0.1 in /usr/local/lib/python3.10/dist-packages (from markdown-it-py>=2.2.0->rich>=11.1->flax->clu->seqio-nightly->t5==0.9.4) (0.1.2)\n",
            "Requirement already satisfied: MarkupSafe>=2.1.1 in /usr/local/lib/python3.10/dist-packages (from werkzeug>=1.0.1->tensorboard<2.15,>=2.14->tensorflow<2.15,>=2.14.0->tensorflow-text->seqio-nightly->t5==0.9.4) (2.1.3)\n",
            "Requirement already satisfied: pyasn1<0.6.0,>=0.4.6 in /usr/local/lib/python3.10/dist-packages (from pyasn1-modules>=0.2.1->google-auth<3,>=1.6.3->tensorboard<2.15,>=2.14->tensorflow<2.15,>=2.14.0->tensorflow-text->seqio-nightly->t5==0.9.4) (0.5.0)\n",
            "Requirement already satisfied: oauthlib>=3.0.0 in /usr/local/lib/python3.10/dist-packages (from requests-oauthlib>=0.7.0->google-auth-oauthlib<1.1,>=0.5->tensorboard<2.15,>=2.14->tensorflow<2.15,>=2.14.0->tensorflow-text->seqio-nightly->t5==0.9.4) (3.2.2)\n",
            "Building wheels for collected packages: t5, rouge-score\n",
            "  Building wheel for t5 (setup.py) ... \u001b[?25l\u001b[?25hdone\n",
            "  Created wheel for t5: filename=t5-0.9.4-py3-none-any.whl size=167338 sha256=95b8f4f43b6d015134ba3819b4f745b0717647d39631c3de47b61336dc36bf39\n",
            "  Stored in directory: /tmp/pip-ephem-wheel-cache-l8hvpkw_/wheels/6c/c0/92/ea680189aa4a4a784ebe974f3ee9d9a245b2a6b709485f2a4e\n",
            "  Building wheel for rouge-score (setup.py) ... \u001b[?25l\u001b[?25hdone\n",
            "  Created wheel for rouge-score: filename=rouge_score-0.1.2-py3-none-any.whl size=24932 sha256=405f2cad69fd6aae3de1a89940c452ead3cb478853a62ae1fa5e780dc7e3a6bd\n",
            "  Stored in directory: /root/.cache/pip/wheels/5f/dd/89/461065a73be61a532ff8599a28e9beef17985c9e9c31e541b4\n",
            "Successfully built t5 rouge-score\n",
            "Installing collected packages: safetensors, portalocker, mesh-tensorflow, immutabledict, colorama, sacrebleu, rouge-score, huggingface-hub, tokenizers, transformers, seqio-nightly, t5\n",
            "Successfully installed colorama-0.4.6 huggingface-hub-0.17.3 immutabledict-3.0.0 mesh-tensorflow-0.1.21 portalocker-2.8.2 rouge-score-0.1.2 sacrebleu-2.3.1 safetensors-0.4.0 seqio-nightly-0.0.17.dev20231024 t5-0.9.4 tokenizers-0.14.1 transformers-4.34.1\n"
          ]
        }
      ]
    },
    {
      "cell_type": "code",
      "source": [
        "pwd"
      ],
      "metadata": {
        "colab": {
          "base_uri": "https://localhost:8080/",
          "height": 36
        },
        "id": "ACDaTPpEuy6A",
        "outputId": "228b5b61-811c-4c99-a71c-92ba40cd80d2"
      },
      "execution_count": 61,
      "outputs": [
        {
          "output_type": "execute_result",
          "data": {
            "text/plain": [
              "'/content/t5x'"
            ],
            "application/vnd.google.colaboratory.intrinsic+json": {
              "type": "string"
            }
          },
          "metadata": {},
          "execution_count": 61
        }
      ]
    },
    {
      "cell_type": "code",
      "source": [
        "!pip install --upgrade tensorflow\n",
        "!pip install --upgrade jax jaxlib\n"
      ],
      "metadata": {
        "colab": {
          "base_uri": "https://localhost:8080/"
        },
        "id": "tD0qNdh_wUZx",
        "outputId": "db3ee9c7-6d9d-486a-ab6a-4e17fb40cd5f"
      },
      "execution_count": 72,
      "outputs": [
        {
          "output_type": "stream",
          "name": "stdout",
          "text": [
            "Requirement already satisfied: tensorflow in /usr/local/lib/python3.10/dist-packages (2.14.0)\n",
            "Requirement already satisfied: absl-py>=1.0.0 in /usr/local/lib/python3.10/dist-packages (from tensorflow) (1.4.0)\n",
            "Requirement already satisfied: astunparse>=1.6.0 in /usr/local/lib/python3.10/dist-packages (from tensorflow) (1.6.3)\n",
            "Requirement already satisfied: flatbuffers>=23.5.26 in /usr/local/lib/python3.10/dist-packages (from tensorflow) (23.5.26)\n",
            "Requirement already satisfied: gast!=0.5.0,!=0.5.1,!=0.5.2,>=0.2.1 in /usr/local/lib/python3.10/dist-packages (from tensorflow) (0.4.0)\n",
            "Requirement already satisfied: google-pasta>=0.1.1 in /usr/local/lib/python3.10/dist-packages (from tensorflow) (0.2.0)\n",
            "Requirement already satisfied: h5py>=2.9.0 in /usr/local/lib/python3.10/dist-packages (from tensorflow) (3.9.0)\n",
            "Requirement already satisfied: libclang>=13.0.0 in /usr/local/lib/python3.10/dist-packages (from tensorflow) (16.0.6)\n",
            "Requirement already satisfied: ml-dtypes==0.2.0 in /usr/local/lib/python3.10/dist-packages (from tensorflow) (0.2.0)\n",
            "Requirement already satisfied: numpy>=1.23.5 in /usr/local/lib/python3.10/dist-packages (from tensorflow) (1.23.5)\n",
            "Requirement already satisfied: opt-einsum>=2.3.2 in /usr/local/lib/python3.10/dist-packages (from tensorflow) (3.3.0)\n",
            "Requirement already satisfied: packaging in /usr/local/lib/python3.10/dist-packages (from tensorflow) (23.2)\n",
            "Requirement already satisfied: protobuf!=4.21.0,!=4.21.1,!=4.21.2,!=4.21.3,!=4.21.4,!=4.21.5,<5.0.0dev,>=3.20.3 in /usr/local/lib/python3.10/dist-packages (from tensorflow) (3.20.3)\n",
            "Requirement already satisfied: setuptools in /usr/local/lib/python3.10/dist-packages (from tensorflow) (67.7.2)\n",
            "Requirement already satisfied: six>=1.12.0 in /usr/local/lib/python3.10/dist-packages (from tensorflow) (1.16.0)\n",
            "Requirement already satisfied: termcolor>=1.1.0 in /usr/local/lib/python3.10/dist-packages (from tensorflow) (2.3.0)\n",
            "Requirement already satisfied: typing-extensions>=3.6.6 in /usr/local/lib/python3.10/dist-packages (from tensorflow) (4.5.0)\n",
            "Requirement already satisfied: wrapt<1.15,>=1.11.0 in /usr/local/lib/python3.10/dist-packages (from tensorflow) (1.14.1)\n",
            "Requirement already satisfied: tensorflow-io-gcs-filesystem>=0.23.1 in /usr/local/lib/python3.10/dist-packages (from tensorflow) (0.34.0)\n",
            "Requirement already satisfied: grpcio<2.0,>=1.24.3 in /usr/local/lib/python3.10/dist-packages (from tensorflow) (1.59.0)\n",
            "Requirement already satisfied: tensorboard<2.15,>=2.14 in /usr/local/lib/python3.10/dist-packages (from tensorflow) (2.14.1)\n",
            "Requirement already satisfied: tensorflow-estimator<2.15,>=2.14.0 in /usr/local/lib/python3.10/dist-packages (from tensorflow) (2.14.0)\n",
            "Requirement already satisfied: keras<2.15,>=2.14.0 in /usr/local/lib/python3.10/dist-packages (from tensorflow) (2.14.0)\n",
            "Requirement already satisfied: wheel<1.0,>=0.23.0 in /usr/local/lib/python3.10/dist-packages (from astunparse>=1.6.0->tensorflow) (0.41.2)\n",
            "Requirement already satisfied: google-auth<3,>=1.6.3 in /usr/local/lib/python3.10/dist-packages (from tensorboard<2.15,>=2.14->tensorflow) (2.17.3)\n",
            "Requirement already satisfied: google-auth-oauthlib<1.1,>=0.5 in /usr/local/lib/python3.10/dist-packages (from tensorboard<2.15,>=2.14->tensorflow) (1.0.0)\n",
            "Requirement already satisfied: markdown>=2.6.8 in /usr/local/lib/python3.10/dist-packages (from tensorboard<2.15,>=2.14->tensorflow) (3.5)\n",
            "Requirement already satisfied: requests<3,>=2.21.0 in /usr/local/lib/python3.10/dist-packages (from tensorboard<2.15,>=2.14->tensorflow) (2.31.0)\n",
            "Requirement already satisfied: tensorboard-data-server<0.8.0,>=0.7.0 in /usr/local/lib/python3.10/dist-packages (from tensorboard<2.15,>=2.14->tensorflow) (0.7.1)\n",
            "Requirement already satisfied: werkzeug>=1.0.1 in /usr/local/lib/python3.10/dist-packages (from tensorboard<2.15,>=2.14->tensorflow) (3.0.0)\n",
            "Requirement already satisfied: cachetools<6.0,>=2.0.0 in /usr/local/lib/python3.10/dist-packages (from google-auth<3,>=1.6.3->tensorboard<2.15,>=2.14->tensorflow) (5.3.1)\n",
            "Requirement already satisfied: pyasn1-modules>=0.2.1 in /usr/local/lib/python3.10/dist-packages (from google-auth<3,>=1.6.3->tensorboard<2.15,>=2.14->tensorflow) (0.3.0)\n",
            "Requirement already satisfied: rsa<5,>=3.1.4 in /usr/local/lib/python3.10/dist-packages (from google-auth<3,>=1.6.3->tensorboard<2.15,>=2.14->tensorflow) (4.9)\n",
            "Requirement already satisfied: requests-oauthlib>=0.7.0 in /usr/local/lib/python3.10/dist-packages (from google-auth-oauthlib<1.1,>=0.5->tensorboard<2.15,>=2.14->tensorflow) (1.3.1)\n",
            "Requirement already satisfied: charset-normalizer<4,>=2 in /usr/local/lib/python3.10/dist-packages (from requests<3,>=2.21.0->tensorboard<2.15,>=2.14->tensorflow) (3.3.0)\n",
            "Requirement already satisfied: idna<4,>=2.5 in /usr/local/lib/python3.10/dist-packages (from requests<3,>=2.21.0->tensorboard<2.15,>=2.14->tensorflow) (3.4)\n",
            "Requirement already satisfied: urllib3<3,>=1.21.1 in /usr/local/lib/python3.10/dist-packages (from requests<3,>=2.21.0->tensorboard<2.15,>=2.14->tensorflow) (2.0.7)\n",
            "Requirement already satisfied: certifi>=2017.4.17 in /usr/local/lib/python3.10/dist-packages (from requests<3,>=2.21.0->tensorboard<2.15,>=2.14->tensorflow) (2023.7.22)\n",
            "Requirement already satisfied: MarkupSafe>=2.1.1 in /usr/local/lib/python3.10/dist-packages (from werkzeug>=1.0.1->tensorboard<2.15,>=2.14->tensorflow) (2.1.3)\n",
            "Requirement already satisfied: pyasn1<0.6.0,>=0.4.6 in /usr/local/lib/python3.10/dist-packages (from pyasn1-modules>=0.2.1->google-auth<3,>=1.6.3->tensorboard<2.15,>=2.14->tensorflow) (0.5.0)\n",
            "Requirement already satisfied: oauthlib>=3.0.0 in /usr/local/lib/python3.10/dist-packages (from requests-oauthlib>=0.7.0->google-auth-oauthlib<1.1,>=0.5->tensorboard<2.15,>=2.14->tensorflow) (3.2.2)\n",
            "Requirement already satisfied: jax in /usr/local/lib/python3.10/dist-packages (0.4.19)\n",
            "Requirement already satisfied: jaxlib in /usr/local/lib/python3.10/dist-packages (0.4.19)\n",
            "Requirement already satisfied: ml-dtypes>=0.2.0 in /usr/local/lib/python3.10/dist-packages (from jax) (0.2.0)\n",
            "Requirement already satisfied: numpy>=1.22 in /usr/local/lib/python3.10/dist-packages (from jax) (1.23.5)\n",
            "Requirement already satisfied: opt-einsum in /usr/local/lib/python3.10/dist-packages (from jax) (3.3.0)\n",
            "Requirement already satisfied: scipy>=1.9 in /usr/local/lib/python3.10/dist-packages (from jax) (1.11.3)\n"
          ]
        }
      ]
    },
    {
      "cell_type": "code",
      "source": [
        "import jax"
      ],
      "metadata": {
        "id": "tAOMNzB--QQl"
      },
      "execution_count": 75,
      "outputs": []
    },
    {
      "cell_type": "code",
      "source": [
        "from google.colab import auth\n",
        "\n",
        "# Autorizujte Colab k přístupu k GCS (Google Cloud Storage) bucketu, pokud to je potřeba\n",
        "auth.authenticate_user()\n",
        "\n",
        "# Definice cest k adresářům\n",
        "MODEL_DIR = \"../model_dir\"  # Nahraďte skutečnou cestou k modelovému adresáři\n",
        "T5X_DIR = \"../t5x/t5x\"  # Nahraďte cestou k adresáři T5X repozitáře\n",
        "TFDS_DATA_DIR = \"../data_dir\"  # Nahraďte cestou k datům\n",
        "\n",
        "# Spuštění tréninku\n",
        "!python3 $T5X_DIR/train.py --gin_file=\"t5x/examples/t5/t5_1_1/examples/base_wmt_from_scratch.gin\" --gin.MODEL_DIR=\"$MODEL_DIR\" --tfds_data_dir=\"$TFDS_DATA_DIR\"\n"
      ],
      "metadata": {
        "colab": {
          "base_uri": "https://localhost:8080/"
        },
        "id": "CZrmecCFta2r",
        "outputId": "084c9eed-8f75-4a56-b69c-71e7d89a8ee4"
      },
      "execution_count": 76,
      "outputs": [
        {
          "output_type": "stream",
          "name": "stdout",
          "text": [
            "2023-10-24 18:36:22.645015: E tensorflow/compiler/xla/stream_executor/cuda/cuda_dnn.cc:9342] Unable to register cuDNN factory: Attempting to register factory for plugin cuDNN when one has already been registered\n",
            "2023-10-24 18:36:22.645128: E tensorflow/compiler/xla/stream_executor/cuda/cuda_fft.cc:609] Unable to register cuFFT factory: Attempting to register factory for plugin cuFFT when one has already been registered\n",
            "2023-10-24 18:36:22.645279: E tensorflow/compiler/xla/stream_executor/cuda/cuda_blas.cc:1518] Unable to register cuBLAS factory: Attempting to register factory for plugin cuBLAS when one has already been registered\n",
            "2023-10-24 18:36:32.367401: W tensorflow/compiler/tf2tensorrt/utils/py_utils.cc:38] TF-TRT Warning: Could not find TensorRT\n",
            "Traceback (most recent call last):\n",
            "  File \"/content/t5x/../t5x/t5x/train.py\", line 41, in <module>\n",
            "    from t5x import checkpoints\n",
            "  File \"/usr/local/lib/python3.10/dist-packages/t5x/__init__.py\", line 17, in <module>\n",
            "    import t5x.adafactor\n",
            "  File \"/usr/local/lib/python3.10/dist-packages/t5x/adafactor.py\", line 64, in <module>\n",
            "    from t5x import utils\n",
            "  File \"/usr/local/lib/python3.10/dist-packages/t5x/utils.py\", line 43, in <module>\n",
            "    import orbax.checkpoint\n",
            "  File \"/usr/local/lib/python3.10/dist-packages/orbax/checkpoint/__init__.py\", line 19, in <module>\n",
            "    from orbax.checkpoint import checkpoint_utils\n",
            "  File \"/usr/local/lib/python3.10/dist-packages/orbax/checkpoint/checkpoint_utils.py\", line 25, in <module>\n",
            "    from orbax.checkpoint import type_handlers\n",
            "  File \"/usr/local/lib/python3.10/dist-packages/orbax/checkpoint/type_handlers.py\", line 24, in <module>\n",
            "    from jax.experimental.gda_serialization import serialization\n",
            "ModuleNotFoundError: No module named 'jax.experimental.gda_serialization'\n"
          ]
        }
      ]
    }
  ]
}