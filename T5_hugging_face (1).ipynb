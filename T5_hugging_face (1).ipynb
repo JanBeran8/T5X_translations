{
  "nbformat": 4,
  "nbformat_minor": 0,
  "metadata": {
    "colab": {
      "provenance": [],
      "collapsed_sections": [
        "-YSIaLjkBMW-"
      ]
    },
    "kernelspec": {
      "name": "python3",
      "display_name": "Python 3"
    },
    "language_info": {
      "name": "python"
    },
    "widgets": {
      "application/vnd.jupyter.widget-state+json": {
        "af93cf2194994ba3a3b12d7eee36f9e5": {
          "model_module": "@jupyter-widgets/controls",
          "model_name": "HBoxModel",
          "model_module_version": "1.5.0",
          "state": {
            "_dom_classes": [],
            "_model_module": "@jupyter-widgets/controls",
            "_model_module_version": "1.5.0",
            "_model_name": "HBoxModel",
            "_view_count": null,
            "_view_module": "@jupyter-widgets/controls",
            "_view_module_version": "1.5.0",
            "_view_name": "HBoxView",
            "box_style": "",
            "children": [
              "IPY_MODEL_d034de78dd9446ec9aac5b169c2431d0",
              "IPY_MODEL_28e66f91e51f4784b67fc4f53a4b77f0",
              "IPY_MODEL_1b90af92a60e49918b435247e8662224"
            ],
            "layout": "IPY_MODEL_d2af9706875444feb0336b3d474f6edd"
          }
        },
        "d034de78dd9446ec9aac5b169c2431d0": {
          "model_module": "@jupyter-widgets/controls",
          "model_name": "HTMLModel",
          "model_module_version": "1.5.0",
          "state": {
            "_dom_classes": [],
            "_model_module": "@jupyter-widgets/controls",
            "_model_module_version": "1.5.0",
            "_model_name": "HTMLModel",
            "_view_count": null,
            "_view_module": "@jupyter-widgets/controls",
            "_view_module_version": "1.5.0",
            "_view_name": "HTMLView",
            "description": "",
            "description_tooltip": null,
            "layout": "IPY_MODEL_da1fa1ae649942b0a450e42c3b0c1992",
            "placeholder": "​",
            "style": "IPY_MODEL_95db9b11fe4e4f2a8cb200f2df8db2bc",
            "value": "Downloading builder script: 100%"
          }
        },
        "28e66f91e51f4784b67fc4f53a4b77f0": {
          "model_module": "@jupyter-widgets/controls",
          "model_name": "FloatProgressModel",
          "model_module_version": "1.5.0",
          "state": {
            "_dom_classes": [],
            "_model_module": "@jupyter-widgets/controls",
            "_model_module_version": "1.5.0",
            "_model_name": "FloatProgressModel",
            "_view_count": null,
            "_view_module": "@jupyter-widgets/controls",
            "_view_module_version": "1.5.0",
            "_view_name": "ProgressView",
            "bar_style": "success",
            "description": "",
            "description_tooltip": null,
            "layout": "IPY_MODEL_3a5da8f531664f2ea0d33c40b5e8555c",
            "max": 6081,
            "min": 0,
            "orientation": "horizontal",
            "style": "IPY_MODEL_bc62544ff38f4c5cb0512eef8d548700",
            "value": 6081
          }
        },
        "1b90af92a60e49918b435247e8662224": {
          "model_module": "@jupyter-widgets/controls",
          "model_name": "HTMLModel",
          "model_module_version": "1.5.0",
          "state": {
            "_dom_classes": [],
            "_model_module": "@jupyter-widgets/controls",
            "_model_module_version": "1.5.0",
            "_model_name": "HTMLModel",
            "_view_count": null,
            "_view_module": "@jupyter-widgets/controls",
            "_view_module_version": "1.5.0",
            "_view_name": "HTMLView",
            "description": "",
            "description_tooltip": null,
            "layout": "IPY_MODEL_ce2eea91edde42aa8273aac3b786872d",
            "placeholder": "​",
            "style": "IPY_MODEL_ac4714c771354fb28b3c60ad2cfe753a",
            "value": " 6.08k/6.08k [00:00&lt;00:00, 301kB/s]"
          }
        },
        "d2af9706875444feb0336b3d474f6edd": {
          "model_module": "@jupyter-widgets/base",
          "model_name": "LayoutModel",
          "model_module_version": "1.2.0",
          "state": {
            "_model_module": "@jupyter-widgets/base",
            "_model_module_version": "1.2.0",
            "_model_name": "LayoutModel",
            "_view_count": null,
            "_view_module": "@jupyter-widgets/base",
            "_view_module_version": "1.2.0",
            "_view_name": "LayoutView",
            "align_content": null,
            "align_items": null,
            "align_self": null,
            "border": null,
            "bottom": null,
            "display": null,
            "flex": null,
            "flex_flow": null,
            "grid_area": null,
            "grid_auto_columns": null,
            "grid_auto_flow": null,
            "grid_auto_rows": null,
            "grid_column": null,
            "grid_gap": null,
            "grid_row": null,
            "grid_template_areas": null,
            "grid_template_columns": null,
            "grid_template_rows": null,
            "height": null,
            "justify_content": null,
            "justify_items": null,
            "left": null,
            "margin": null,
            "max_height": null,
            "max_width": null,
            "min_height": null,
            "min_width": null,
            "object_fit": null,
            "object_position": null,
            "order": null,
            "overflow": null,
            "overflow_x": null,
            "overflow_y": null,
            "padding": null,
            "right": null,
            "top": null,
            "visibility": null,
            "width": null
          }
        },
        "da1fa1ae649942b0a450e42c3b0c1992": {
          "model_module": "@jupyter-widgets/base",
          "model_name": "LayoutModel",
          "model_module_version": "1.2.0",
          "state": {
            "_model_module": "@jupyter-widgets/base",
            "_model_module_version": "1.2.0",
            "_model_name": "LayoutModel",
            "_view_count": null,
            "_view_module": "@jupyter-widgets/base",
            "_view_module_version": "1.2.0",
            "_view_name": "LayoutView",
            "align_content": null,
            "align_items": null,
            "align_self": null,
            "border": null,
            "bottom": null,
            "display": null,
            "flex": null,
            "flex_flow": null,
            "grid_area": null,
            "grid_auto_columns": null,
            "grid_auto_flow": null,
            "grid_auto_rows": null,
            "grid_column": null,
            "grid_gap": null,
            "grid_row": null,
            "grid_template_areas": null,
            "grid_template_columns": null,
            "grid_template_rows": null,
            "height": null,
            "justify_content": null,
            "justify_items": null,
            "left": null,
            "margin": null,
            "max_height": null,
            "max_width": null,
            "min_height": null,
            "min_width": null,
            "object_fit": null,
            "object_position": null,
            "order": null,
            "overflow": null,
            "overflow_x": null,
            "overflow_y": null,
            "padding": null,
            "right": null,
            "top": null,
            "visibility": null,
            "width": null
          }
        },
        "95db9b11fe4e4f2a8cb200f2df8db2bc": {
          "model_module": "@jupyter-widgets/controls",
          "model_name": "DescriptionStyleModel",
          "model_module_version": "1.5.0",
          "state": {
            "_model_module": "@jupyter-widgets/controls",
            "_model_module_version": "1.5.0",
            "_model_name": "DescriptionStyleModel",
            "_view_count": null,
            "_view_module": "@jupyter-widgets/base",
            "_view_module_version": "1.2.0",
            "_view_name": "StyleView",
            "description_width": ""
          }
        },
        "3a5da8f531664f2ea0d33c40b5e8555c": {
          "model_module": "@jupyter-widgets/base",
          "model_name": "LayoutModel",
          "model_module_version": "1.2.0",
          "state": {
            "_model_module": "@jupyter-widgets/base",
            "_model_module_version": "1.2.0",
            "_model_name": "LayoutModel",
            "_view_count": null,
            "_view_module": "@jupyter-widgets/base",
            "_view_module_version": "1.2.0",
            "_view_name": "LayoutView",
            "align_content": null,
            "align_items": null,
            "align_self": null,
            "border": null,
            "bottom": null,
            "display": null,
            "flex": null,
            "flex_flow": null,
            "grid_area": null,
            "grid_auto_columns": null,
            "grid_auto_flow": null,
            "grid_auto_rows": null,
            "grid_column": null,
            "grid_gap": null,
            "grid_row": null,
            "grid_template_areas": null,
            "grid_template_columns": null,
            "grid_template_rows": null,
            "height": null,
            "justify_content": null,
            "justify_items": null,
            "left": null,
            "margin": null,
            "max_height": null,
            "max_width": null,
            "min_height": null,
            "min_width": null,
            "object_fit": null,
            "object_position": null,
            "order": null,
            "overflow": null,
            "overflow_x": null,
            "overflow_y": null,
            "padding": null,
            "right": null,
            "top": null,
            "visibility": null,
            "width": null
          }
        },
        "bc62544ff38f4c5cb0512eef8d548700": {
          "model_module": "@jupyter-widgets/controls",
          "model_name": "ProgressStyleModel",
          "model_module_version": "1.5.0",
          "state": {
            "_model_module": "@jupyter-widgets/controls",
            "_model_module_version": "1.5.0",
            "_model_name": "ProgressStyleModel",
            "_view_count": null,
            "_view_module": "@jupyter-widgets/base",
            "_view_module_version": "1.2.0",
            "_view_name": "StyleView",
            "bar_color": null,
            "description_width": ""
          }
        },
        "ce2eea91edde42aa8273aac3b786872d": {
          "model_module": "@jupyter-widgets/base",
          "model_name": "LayoutModel",
          "model_module_version": "1.2.0",
          "state": {
            "_model_module": "@jupyter-widgets/base",
            "_model_module_version": "1.2.0",
            "_model_name": "LayoutModel",
            "_view_count": null,
            "_view_module": "@jupyter-widgets/base",
            "_view_module_version": "1.2.0",
            "_view_name": "LayoutView",
            "align_content": null,
            "align_items": null,
            "align_self": null,
            "border": null,
            "bottom": null,
            "display": null,
            "flex": null,
            "flex_flow": null,
            "grid_area": null,
            "grid_auto_columns": null,
            "grid_auto_flow": null,
            "grid_auto_rows": null,
            "grid_column": null,
            "grid_gap": null,
            "grid_row": null,
            "grid_template_areas": null,
            "grid_template_columns": null,
            "grid_template_rows": null,
            "height": null,
            "justify_content": null,
            "justify_items": null,
            "left": null,
            "margin": null,
            "max_height": null,
            "max_width": null,
            "min_height": null,
            "min_width": null,
            "object_fit": null,
            "object_position": null,
            "order": null,
            "overflow": null,
            "overflow_x": null,
            "overflow_y": null,
            "padding": null,
            "right": null,
            "top": null,
            "visibility": null,
            "width": null
          }
        },
        "ac4714c771354fb28b3c60ad2cfe753a": {
          "model_module": "@jupyter-widgets/controls",
          "model_name": "DescriptionStyleModel",
          "model_module_version": "1.5.0",
          "state": {
            "_model_module": "@jupyter-widgets/controls",
            "_model_module_version": "1.5.0",
            "_model_name": "DescriptionStyleModel",
            "_view_count": null,
            "_view_module": "@jupyter-widgets/base",
            "_view_module_version": "1.2.0",
            "_view_name": "StyleView",
            "description_width": ""
          }
        },
        "6999b7a1037542f288f45d3c448f2f72": {
          "model_module": "@jupyter-widgets/controls",
          "model_name": "HBoxModel",
          "model_module_version": "1.5.0",
          "state": {
            "_dom_classes": [],
            "_model_module": "@jupyter-widgets/controls",
            "_model_module_version": "1.5.0",
            "_model_name": "HBoxModel",
            "_view_count": null,
            "_view_module": "@jupyter-widgets/controls",
            "_view_module_version": "1.5.0",
            "_view_name": "HBoxView",
            "box_style": "",
            "children": [
              "IPY_MODEL_070098cec0104938bcb727c7c4b94b8d",
              "IPY_MODEL_d3315dd067ea4b8e82cc382f731dd048",
              "IPY_MODEL_15007b2229004e0aa80aa796c4221385"
            ],
            "layout": "IPY_MODEL_59a031dba62a40cebcccc595f1ecc542"
          }
        },
        "070098cec0104938bcb727c7c4b94b8d": {
          "model_module": "@jupyter-widgets/controls",
          "model_name": "HTMLModel",
          "model_module_version": "1.5.0",
          "state": {
            "_dom_classes": [],
            "_model_module": "@jupyter-widgets/controls",
            "_model_module_version": "1.5.0",
            "_model_name": "HTMLModel",
            "_view_count": null,
            "_view_module": "@jupyter-widgets/controls",
            "_view_module_version": "1.5.0",
            "_view_name": "HTMLView",
            "description": "",
            "description_tooltip": null,
            "layout": "IPY_MODEL_022bdaa8aa7040fcb94cc88b73caf9e1",
            "placeholder": "​",
            "style": "IPY_MODEL_2427153ab0e146edaea6b9f4536bc9e7",
            "value": "Downloading metadata: 100%"
          }
        },
        "d3315dd067ea4b8e82cc382f731dd048": {
          "model_module": "@jupyter-widgets/controls",
          "model_name": "FloatProgressModel",
          "model_module_version": "1.5.0",
          "state": {
            "_dom_classes": [],
            "_model_module": "@jupyter-widgets/controls",
            "_model_module_version": "1.5.0",
            "_model_name": "FloatProgressModel",
            "_view_count": null,
            "_view_module": "@jupyter-widgets/controls",
            "_view_module_version": "1.5.0",
            "_view_name": "ProgressView",
            "bar_style": "success",
            "description": "",
            "description_tooltip": null,
            "layout": "IPY_MODEL_948e4ab83e9b42fba0fb1c66f9cd0cb5",
            "max": 161154,
            "min": 0,
            "orientation": "horizontal",
            "style": "IPY_MODEL_9acb089e03bf41fb9be8da2d3b8f7151",
            "value": 161154
          }
        },
        "15007b2229004e0aa80aa796c4221385": {
          "model_module": "@jupyter-widgets/controls",
          "model_name": "HTMLModel",
          "model_module_version": "1.5.0",
          "state": {
            "_dom_classes": [],
            "_model_module": "@jupyter-widgets/controls",
            "_model_module_version": "1.5.0",
            "_model_name": "HTMLModel",
            "_view_count": null,
            "_view_module": "@jupyter-widgets/controls",
            "_view_module_version": "1.5.0",
            "_view_name": "HTMLView",
            "description": "",
            "description_tooltip": null,
            "layout": "IPY_MODEL_6b17166e81544c65878fa2252971d3e5",
            "placeholder": "​",
            "style": "IPY_MODEL_f0952e0d16a34ad698213b0cc64a5554",
            "value": " 161k/161k [00:00&lt;00:00, 1.32MB/s]"
          }
        },
        "59a031dba62a40cebcccc595f1ecc542": {
          "model_module": "@jupyter-widgets/base",
          "model_name": "LayoutModel",
          "model_module_version": "1.2.0",
          "state": {
            "_model_module": "@jupyter-widgets/base",
            "_model_module_version": "1.2.0",
            "_model_name": "LayoutModel",
            "_view_count": null,
            "_view_module": "@jupyter-widgets/base",
            "_view_module_version": "1.2.0",
            "_view_name": "LayoutView",
            "align_content": null,
            "align_items": null,
            "align_self": null,
            "border": null,
            "bottom": null,
            "display": null,
            "flex": null,
            "flex_flow": null,
            "grid_area": null,
            "grid_auto_columns": null,
            "grid_auto_flow": null,
            "grid_auto_rows": null,
            "grid_column": null,
            "grid_gap": null,
            "grid_row": null,
            "grid_template_areas": null,
            "grid_template_columns": null,
            "grid_template_rows": null,
            "height": null,
            "justify_content": null,
            "justify_items": null,
            "left": null,
            "margin": null,
            "max_height": null,
            "max_width": null,
            "min_height": null,
            "min_width": null,
            "object_fit": null,
            "object_position": null,
            "order": null,
            "overflow": null,
            "overflow_x": null,
            "overflow_y": null,
            "padding": null,
            "right": null,
            "top": null,
            "visibility": null,
            "width": null
          }
        },
        "022bdaa8aa7040fcb94cc88b73caf9e1": {
          "model_module": "@jupyter-widgets/base",
          "model_name": "LayoutModel",
          "model_module_version": "1.2.0",
          "state": {
            "_model_module": "@jupyter-widgets/base",
            "_model_module_version": "1.2.0",
            "_model_name": "LayoutModel",
            "_view_count": null,
            "_view_module": "@jupyter-widgets/base",
            "_view_module_version": "1.2.0",
            "_view_name": "LayoutView",
            "align_content": null,
            "align_items": null,
            "align_self": null,
            "border": null,
            "bottom": null,
            "display": null,
            "flex": null,
            "flex_flow": null,
            "grid_area": null,
            "grid_auto_columns": null,
            "grid_auto_flow": null,
            "grid_auto_rows": null,
            "grid_column": null,
            "grid_gap": null,
            "grid_row": null,
            "grid_template_areas": null,
            "grid_template_columns": null,
            "grid_template_rows": null,
            "height": null,
            "justify_content": null,
            "justify_items": null,
            "left": null,
            "margin": null,
            "max_height": null,
            "max_width": null,
            "min_height": null,
            "min_width": null,
            "object_fit": null,
            "object_position": null,
            "order": null,
            "overflow": null,
            "overflow_x": null,
            "overflow_y": null,
            "padding": null,
            "right": null,
            "top": null,
            "visibility": null,
            "width": null
          }
        },
        "2427153ab0e146edaea6b9f4536bc9e7": {
          "model_module": "@jupyter-widgets/controls",
          "model_name": "DescriptionStyleModel",
          "model_module_version": "1.5.0",
          "state": {
            "_model_module": "@jupyter-widgets/controls",
            "_model_module_version": "1.5.0",
            "_model_name": "DescriptionStyleModel",
            "_view_count": null,
            "_view_module": "@jupyter-widgets/base",
            "_view_module_version": "1.2.0",
            "_view_name": "StyleView",
            "description_width": ""
          }
        },
        "948e4ab83e9b42fba0fb1c66f9cd0cb5": {
          "model_module": "@jupyter-widgets/base",
          "model_name": "LayoutModel",
          "model_module_version": "1.2.0",
          "state": {
            "_model_module": "@jupyter-widgets/base",
            "_model_module_version": "1.2.0",
            "_model_name": "LayoutModel",
            "_view_count": null,
            "_view_module": "@jupyter-widgets/base",
            "_view_module_version": "1.2.0",
            "_view_name": "LayoutView",
            "align_content": null,
            "align_items": null,
            "align_self": null,
            "border": null,
            "bottom": null,
            "display": null,
            "flex": null,
            "flex_flow": null,
            "grid_area": null,
            "grid_auto_columns": null,
            "grid_auto_flow": null,
            "grid_auto_rows": null,
            "grid_column": null,
            "grid_gap": null,
            "grid_row": null,
            "grid_template_areas": null,
            "grid_template_columns": null,
            "grid_template_rows": null,
            "height": null,
            "justify_content": null,
            "justify_items": null,
            "left": null,
            "margin": null,
            "max_height": null,
            "max_width": null,
            "min_height": null,
            "min_width": null,
            "object_fit": null,
            "object_position": null,
            "order": null,
            "overflow": null,
            "overflow_x": null,
            "overflow_y": null,
            "padding": null,
            "right": null,
            "top": null,
            "visibility": null,
            "width": null
          }
        },
        "9acb089e03bf41fb9be8da2d3b8f7151": {
          "model_module": "@jupyter-widgets/controls",
          "model_name": "ProgressStyleModel",
          "model_module_version": "1.5.0",
          "state": {
            "_model_module": "@jupyter-widgets/controls",
            "_model_module_version": "1.5.0",
            "_model_name": "ProgressStyleModel",
            "_view_count": null,
            "_view_module": "@jupyter-widgets/base",
            "_view_module_version": "1.2.0",
            "_view_name": "StyleView",
            "bar_color": null,
            "description_width": ""
          }
        },
        "6b17166e81544c65878fa2252971d3e5": {
          "model_module": "@jupyter-widgets/base",
          "model_name": "LayoutModel",
          "model_module_version": "1.2.0",
          "state": {
            "_model_module": "@jupyter-widgets/base",
            "_model_module_version": "1.2.0",
            "_model_name": "LayoutModel",
            "_view_count": null,
            "_view_module": "@jupyter-widgets/base",
            "_view_module_version": "1.2.0",
            "_view_name": "LayoutView",
            "align_content": null,
            "align_items": null,
            "align_self": null,
            "border": null,
            "bottom": null,
            "display": null,
            "flex": null,
            "flex_flow": null,
            "grid_area": null,
            "grid_auto_columns": null,
            "grid_auto_flow": null,
            "grid_auto_rows": null,
            "grid_column": null,
            "grid_gap": null,
            "grid_row": null,
            "grid_template_areas": null,
            "grid_template_columns": null,
            "grid_template_rows": null,
            "height": null,
            "justify_content": null,
            "justify_items": null,
            "left": null,
            "margin": null,
            "max_height": null,
            "max_width": null,
            "min_height": null,
            "min_width": null,
            "object_fit": null,
            "object_position": null,
            "order": null,
            "overflow": null,
            "overflow_x": null,
            "overflow_y": null,
            "padding": null,
            "right": null,
            "top": null,
            "visibility": null,
            "width": null
          }
        },
        "f0952e0d16a34ad698213b0cc64a5554": {
          "model_module": "@jupyter-widgets/controls",
          "model_name": "DescriptionStyleModel",
          "model_module_version": "1.5.0",
          "state": {
            "_model_module": "@jupyter-widgets/controls",
            "_model_module_version": "1.5.0",
            "_model_name": "DescriptionStyleModel",
            "_view_count": null,
            "_view_module": "@jupyter-widgets/base",
            "_view_module_version": "1.2.0",
            "_view_name": "StyleView",
            "description_width": ""
          }
        },
        "ba5d841c3c9d40d3b0994f435e87e8af": {
          "model_module": "@jupyter-widgets/controls",
          "model_name": "HBoxModel",
          "model_module_version": "1.5.0",
          "state": {
            "_dom_classes": [],
            "_model_module": "@jupyter-widgets/controls",
            "_model_module_version": "1.5.0",
            "_model_name": "HBoxModel",
            "_view_count": null,
            "_view_module": "@jupyter-widgets/controls",
            "_view_module_version": "1.5.0",
            "_view_name": "HBoxView",
            "box_style": "",
            "children": [
              "IPY_MODEL_1fdd5806edc74091936e54abff41e8cf",
              "IPY_MODEL_5fba35d0b8084df5897120c2825d6475",
              "IPY_MODEL_f41274554d5d4ff783e52ddcff6d854c"
            ],
            "layout": "IPY_MODEL_9e40b3d862d14949810e6301fbf27ed1"
          }
        },
        "1fdd5806edc74091936e54abff41e8cf": {
          "model_module": "@jupyter-widgets/controls",
          "model_name": "HTMLModel",
          "model_module_version": "1.5.0",
          "state": {
            "_dom_classes": [],
            "_model_module": "@jupyter-widgets/controls",
            "_model_module_version": "1.5.0",
            "_model_name": "HTMLModel",
            "_view_count": null,
            "_view_module": "@jupyter-widgets/controls",
            "_view_module_version": "1.5.0",
            "_view_name": "HTMLView",
            "description": "",
            "description_tooltip": null,
            "layout": "IPY_MODEL_5fa0086f5f674abcaee3176f3e9ccd35",
            "placeholder": "​",
            "style": "IPY_MODEL_47c3ac5e289d4d26bfd268ec38fd012b",
            "value": "Downloading readme: 100%"
          }
        },
        "5fba35d0b8084df5897120c2825d6475": {
          "model_module": "@jupyter-widgets/controls",
          "model_name": "FloatProgressModel",
          "model_module_version": "1.5.0",
          "state": {
            "_dom_classes": [],
            "_model_module": "@jupyter-widgets/controls",
            "_model_module_version": "1.5.0",
            "_model_name": "FloatProgressModel",
            "_view_count": null,
            "_view_module": "@jupyter-widgets/controls",
            "_view_module_version": "1.5.0",
            "_view_name": "ProgressView",
            "bar_style": "success",
            "description": "",
            "description_tooltip": null,
            "layout": "IPY_MODEL_a60bfc38d1e045b5a11e0803da08d4c2",
            "max": 20464,
            "min": 0,
            "orientation": "horizontal",
            "style": "IPY_MODEL_931aa402f3b049c3b53662f8f0f047eb",
            "value": 20464
          }
        },
        "f41274554d5d4ff783e52ddcff6d854c": {
          "model_module": "@jupyter-widgets/controls",
          "model_name": "HTMLModel",
          "model_module_version": "1.5.0",
          "state": {
            "_dom_classes": [],
            "_model_module": "@jupyter-widgets/controls",
            "_model_module_version": "1.5.0",
            "_model_name": "HTMLModel",
            "_view_count": null,
            "_view_module": "@jupyter-widgets/controls",
            "_view_module_version": "1.5.0",
            "_view_name": "HTMLView",
            "description": "",
            "description_tooltip": null,
            "layout": "IPY_MODEL_e8be7a158ccc49b082bc14baef1434e5",
            "placeholder": "​",
            "style": "IPY_MODEL_fd888a96575a4adeb77f0971b47f3ae5",
            "value": " 20.5k/20.5k [00:00&lt;00:00, 223kB/s]"
          }
        },
        "9e40b3d862d14949810e6301fbf27ed1": {
          "model_module": "@jupyter-widgets/base",
          "model_name": "LayoutModel",
          "model_module_version": "1.2.0",
          "state": {
            "_model_module": "@jupyter-widgets/base",
            "_model_module_version": "1.2.0",
            "_model_name": "LayoutModel",
            "_view_count": null,
            "_view_module": "@jupyter-widgets/base",
            "_view_module_version": "1.2.0",
            "_view_name": "LayoutView",
            "align_content": null,
            "align_items": null,
            "align_self": null,
            "border": null,
            "bottom": null,
            "display": null,
            "flex": null,
            "flex_flow": null,
            "grid_area": null,
            "grid_auto_columns": null,
            "grid_auto_flow": null,
            "grid_auto_rows": null,
            "grid_column": null,
            "grid_gap": null,
            "grid_row": null,
            "grid_template_areas": null,
            "grid_template_columns": null,
            "grid_template_rows": null,
            "height": null,
            "justify_content": null,
            "justify_items": null,
            "left": null,
            "margin": null,
            "max_height": null,
            "max_width": null,
            "min_height": null,
            "min_width": null,
            "object_fit": null,
            "object_position": null,
            "order": null,
            "overflow": null,
            "overflow_x": null,
            "overflow_y": null,
            "padding": null,
            "right": null,
            "top": null,
            "visibility": null,
            "width": null
          }
        },
        "5fa0086f5f674abcaee3176f3e9ccd35": {
          "model_module": "@jupyter-widgets/base",
          "model_name": "LayoutModel",
          "model_module_version": "1.2.0",
          "state": {
            "_model_module": "@jupyter-widgets/base",
            "_model_module_version": "1.2.0",
            "_model_name": "LayoutModel",
            "_view_count": null,
            "_view_module": "@jupyter-widgets/base",
            "_view_module_version": "1.2.0",
            "_view_name": "LayoutView",
            "align_content": null,
            "align_items": null,
            "align_self": null,
            "border": null,
            "bottom": null,
            "display": null,
            "flex": null,
            "flex_flow": null,
            "grid_area": null,
            "grid_auto_columns": null,
            "grid_auto_flow": null,
            "grid_auto_rows": null,
            "grid_column": null,
            "grid_gap": null,
            "grid_row": null,
            "grid_template_areas": null,
            "grid_template_columns": null,
            "grid_template_rows": null,
            "height": null,
            "justify_content": null,
            "justify_items": null,
            "left": null,
            "margin": null,
            "max_height": null,
            "max_width": null,
            "min_height": null,
            "min_width": null,
            "object_fit": null,
            "object_position": null,
            "order": null,
            "overflow": null,
            "overflow_x": null,
            "overflow_y": null,
            "padding": null,
            "right": null,
            "top": null,
            "visibility": null,
            "width": null
          }
        },
        "47c3ac5e289d4d26bfd268ec38fd012b": {
          "model_module": "@jupyter-widgets/controls",
          "model_name": "DescriptionStyleModel",
          "model_module_version": "1.5.0",
          "state": {
            "_model_module": "@jupyter-widgets/controls",
            "_model_module_version": "1.5.0",
            "_model_name": "DescriptionStyleModel",
            "_view_count": null,
            "_view_module": "@jupyter-widgets/base",
            "_view_module_version": "1.2.0",
            "_view_name": "StyleView",
            "description_width": ""
          }
        },
        "a60bfc38d1e045b5a11e0803da08d4c2": {
          "model_module": "@jupyter-widgets/base",
          "model_name": "LayoutModel",
          "model_module_version": "1.2.0",
          "state": {
            "_model_module": "@jupyter-widgets/base",
            "_model_module_version": "1.2.0",
            "_model_name": "LayoutModel",
            "_view_count": null,
            "_view_module": "@jupyter-widgets/base",
            "_view_module_version": "1.2.0",
            "_view_name": "LayoutView",
            "align_content": null,
            "align_items": null,
            "align_self": null,
            "border": null,
            "bottom": null,
            "display": null,
            "flex": null,
            "flex_flow": null,
            "grid_area": null,
            "grid_auto_columns": null,
            "grid_auto_flow": null,
            "grid_auto_rows": null,
            "grid_column": null,
            "grid_gap": null,
            "grid_row": null,
            "grid_template_areas": null,
            "grid_template_columns": null,
            "grid_template_rows": null,
            "height": null,
            "justify_content": null,
            "justify_items": null,
            "left": null,
            "margin": null,
            "max_height": null,
            "max_width": null,
            "min_height": null,
            "min_width": null,
            "object_fit": null,
            "object_position": null,
            "order": null,
            "overflow": null,
            "overflow_x": null,
            "overflow_y": null,
            "padding": null,
            "right": null,
            "top": null,
            "visibility": null,
            "width": null
          }
        },
        "931aa402f3b049c3b53662f8f0f047eb": {
          "model_module": "@jupyter-widgets/controls",
          "model_name": "ProgressStyleModel",
          "model_module_version": "1.5.0",
          "state": {
            "_model_module": "@jupyter-widgets/controls",
            "_model_module_version": "1.5.0",
            "_model_name": "ProgressStyleModel",
            "_view_count": null,
            "_view_module": "@jupyter-widgets/base",
            "_view_module_version": "1.2.0",
            "_view_name": "StyleView",
            "bar_color": null,
            "description_width": ""
          }
        },
        "e8be7a158ccc49b082bc14baef1434e5": {
          "model_module": "@jupyter-widgets/base",
          "model_name": "LayoutModel",
          "model_module_version": "1.2.0",
          "state": {
            "_model_module": "@jupyter-widgets/base",
            "_model_module_version": "1.2.0",
            "_model_name": "LayoutModel",
            "_view_count": null,
            "_view_module": "@jupyter-widgets/base",
            "_view_module_version": "1.2.0",
            "_view_name": "LayoutView",
            "align_content": null,
            "align_items": null,
            "align_self": null,
            "border": null,
            "bottom": null,
            "display": null,
            "flex": null,
            "flex_flow": null,
            "grid_area": null,
            "grid_auto_columns": null,
            "grid_auto_flow": null,
            "grid_auto_rows": null,
            "grid_column": null,
            "grid_gap": null,
            "grid_row": null,
            "grid_template_areas": null,
            "grid_template_columns": null,
            "grid_template_rows": null,
            "height": null,
            "justify_content": null,
            "justify_items": null,
            "left": null,
            "margin": null,
            "max_height": null,
            "max_width": null,
            "min_height": null,
            "min_width": null,
            "object_fit": null,
            "object_position": null,
            "order": null,
            "overflow": null,
            "overflow_x": null,
            "overflow_y": null,
            "padding": null,
            "right": null,
            "top": null,
            "visibility": null,
            "width": null
          }
        },
        "fd888a96575a4adeb77f0971b47f3ae5": {
          "model_module": "@jupyter-widgets/controls",
          "model_name": "DescriptionStyleModel",
          "model_module_version": "1.5.0",
          "state": {
            "_model_module": "@jupyter-widgets/controls",
            "_model_module_version": "1.5.0",
            "_model_name": "DescriptionStyleModel",
            "_view_count": null,
            "_view_module": "@jupyter-widgets/base",
            "_view_module_version": "1.2.0",
            "_view_name": "StyleView",
            "description_width": ""
          }
        },
        "6a3d1585c6d4474e8f344866062aa1b3": {
          "model_module": "@jupyter-widgets/controls",
          "model_name": "HBoxModel",
          "model_module_version": "1.5.0",
          "state": {
            "_dom_classes": [],
            "_model_module": "@jupyter-widgets/controls",
            "_model_module_version": "1.5.0",
            "_model_name": "HBoxModel",
            "_view_count": null,
            "_view_module": "@jupyter-widgets/controls",
            "_view_module_version": "1.5.0",
            "_view_name": "HBoxView",
            "box_style": "",
            "children": [
              "IPY_MODEL_58c6ff0ace04438393b91b4860783fbf",
              "IPY_MODEL_8154debbcef74e2aa979b6867cb545f8",
              "IPY_MODEL_bfabefe6126a4eee858f2c91f60b046d"
            ],
            "layout": "IPY_MODEL_479e9d9ab99d4b5eb964896a21432961"
          }
        },
        "58c6ff0ace04438393b91b4860783fbf": {
          "model_module": "@jupyter-widgets/controls",
          "model_name": "HTMLModel",
          "model_module_version": "1.5.0",
          "state": {
            "_dom_classes": [],
            "_model_module": "@jupyter-widgets/controls",
            "_model_module_version": "1.5.0",
            "_model_name": "HTMLModel",
            "_view_count": null,
            "_view_module": "@jupyter-widgets/controls",
            "_view_module_version": "1.5.0",
            "_view_name": "HTMLView",
            "description": "",
            "description_tooltip": null,
            "layout": "IPY_MODEL_345ead3a1f12405fab845322a861e773",
            "placeholder": "​",
            "style": "IPY_MODEL_949283f369ae406c863c43b8d788843d",
            "value": "Downloading data: 100%"
          }
        },
        "8154debbcef74e2aa979b6867cb545f8": {
          "model_module": "@jupyter-widgets/controls",
          "model_name": "FloatProgressModel",
          "model_module_version": "1.5.0",
          "state": {
            "_dom_classes": [],
            "_model_module": "@jupyter-widgets/controls",
            "_model_module_version": "1.5.0",
            "_model_name": "FloatProgressModel",
            "_view_count": null,
            "_view_module": "@jupyter-widgets/controls",
            "_view_module_version": "1.5.0",
            "_view_name": "ProgressView",
            "bar_style": "success",
            "description": "",
            "description_tooltip": null,
            "layout": "IPY_MODEL_4f83212d4a194c1abf604c9c010066c4",
            "max": 12009501,
            "min": 0,
            "orientation": "horizontal",
            "style": "IPY_MODEL_e8ba75bc2734423a9b6bc1ca7b2b383c",
            "value": 12009501
          }
        },
        "bfabefe6126a4eee858f2c91f60b046d": {
          "model_module": "@jupyter-widgets/controls",
          "model_name": "HTMLModel",
          "model_module_version": "1.5.0",
          "state": {
            "_dom_classes": [],
            "_model_module": "@jupyter-widgets/controls",
            "_model_module_version": "1.5.0",
            "_model_name": "HTMLModel",
            "_view_count": null,
            "_view_module": "@jupyter-widgets/controls",
            "_view_module_version": "1.5.0",
            "_view_name": "HTMLView",
            "description": "",
            "description_tooltip": null,
            "layout": "IPY_MODEL_c7c933b848d24b03b77ba7b0bcc99fbe",
            "placeholder": "​",
            "style": "IPY_MODEL_1c534aa0381d4885a49dc96679ed4644",
            "value": " 12.0M/12.0M [00:01&lt;00:00, 16.2MB/s]"
          }
        },
        "479e9d9ab99d4b5eb964896a21432961": {
          "model_module": "@jupyter-widgets/base",
          "model_name": "LayoutModel",
          "model_module_version": "1.2.0",
          "state": {
            "_model_module": "@jupyter-widgets/base",
            "_model_module_version": "1.2.0",
            "_model_name": "LayoutModel",
            "_view_count": null,
            "_view_module": "@jupyter-widgets/base",
            "_view_module_version": "1.2.0",
            "_view_name": "LayoutView",
            "align_content": null,
            "align_items": null,
            "align_self": null,
            "border": null,
            "bottom": null,
            "display": null,
            "flex": null,
            "flex_flow": null,
            "grid_area": null,
            "grid_auto_columns": null,
            "grid_auto_flow": null,
            "grid_auto_rows": null,
            "grid_column": null,
            "grid_gap": null,
            "grid_row": null,
            "grid_template_areas": null,
            "grid_template_columns": null,
            "grid_template_rows": null,
            "height": null,
            "justify_content": null,
            "justify_items": null,
            "left": null,
            "margin": null,
            "max_height": null,
            "max_width": null,
            "min_height": null,
            "min_width": null,
            "object_fit": null,
            "object_position": null,
            "order": null,
            "overflow": null,
            "overflow_x": null,
            "overflow_y": null,
            "padding": null,
            "right": null,
            "top": null,
            "visibility": null,
            "width": null
          }
        },
        "345ead3a1f12405fab845322a861e773": {
          "model_module": "@jupyter-widgets/base",
          "model_name": "LayoutModel",
          "model_module_version": "1.2.0",
          "state": {
            "_model_module": "@jupyter-widgets/base",
            "_model_module_version": "1.2.0",
            "_model_name": "LayoutModel",
            "_view_count": null,
            "_view_module": "@jupyter-widgets/base",
            "_view_module_version": "1.2.0",
            "_view_name": "LayoutView",
            "align_content": null,
            "align_items": null,
            "align_self": null,
            "border": null,
            "bottom": null,
            "display": null,
            "flex": null,
            "flex_flow": null,
            "grid_area": null,
            "grid_auto_columns": null,
            "grid_auto_flow": null,
            "grid_auto_rows": null,
            "grid_column": null,
            "grid_gap": null,
            "grid_row": null,
            "grid_template_areas": null,
            "grid_template_columns": null,
            "grid_template_rows": null,
            "height": null,
            "justify_content": null,
            "justify_items": null,
            "left": null,
            "margin": null,
            "max_height": null,
            "max_width": null,
            "min_height": null,
            "min_width": null,
            "object_fit": null,
            "object_position": null,
            "order": null,
            "overflow": null,
            "overflow_x": null,
            "overflow_y": null,
            "padding": null,
            "right": null,
            "top": null,
            "visibility": null,
            "width": null
          }
        },
        "949283f369ae406c863c43b8d788843d": {
          "model_module": "@jupyter-widgets/controls",
          "model_name": "DescriptionStyleModel",
          "model_module_version": "1.5.0",
          "state": {
            "_model_module": "@jupyter-widgets/controls",
            "_model_module_version": "1.5.0",
            "_model_name": "DescriptionStyleModel",
            "_view_count": null,
            "_view_module": "@jupyter-widgets/base",
            "_view_module_version": "1.2.0",
            "_view_name": "StyleView",
            "description_width": ""
          }
        },
        "4f83212d4a194c1abf604c9c010066c4": {
          "model_module": "@jupyter-widgets/base",
          "model_name": "LayoutModel",
          "model_module_version": "1.2.0",
          "state": {
            "_model_module": "@jupyter-widgets/base",
            "_model_module_version": "1.2.0",
            "_model_name": "LayoutModel",
            "_view_count": null,
            "_view_module": "@jupyter-widgets/base",
            "_view_module_version": "1.2.0",
            "_view_name": "LayoutView",
            "align_content": null,
            "align_items": null,
            "align_self": null,
            "border": null,
            "bottom": null,
            "display": null,
            "flex": null,
            "flex_flow": null,
            "grid_area": null,
            "grid_auto_columns": null,
            "grid_auto_flow": null,
            "grid_auto_rows": null,
            "grid_column": null,
            "grid_gap": null,
            "grid_row": null,
            "grid_template_areas": null,
            "grid_template_columns": null,
            "grid_template_rows": null,
            "height": null,
            "justify_content": null,
            "justify_items": null,
            "left": null,
            "margin": null,
            "max_height": null,
            "max_width": null,
            "min_height": null,
            "min_width": null,
            "object_fit": null,
            "object_position": null,
            "order": null,
            "overflow": null,
            "overflow_x": null,
            "overflow_y": null,
            "padding": null,
            "right": null,
            "top": null,
            "visibility": null,
            "width": null
          }
        },
        "e8ba75bc2734423a9b6bc1ca7b2b383c": {
          "model_module": "@jupyter-widgets/controls",
          "model_name": "ProgressStyleModel",
          "model_module_version": "1.5.0",
          "state": {
            "_model_module": "@jupyter-widgets/controls",
            "_model_module_version": "1.5.0",
            "_model_name": "ProgressStyleModel",
            "_view_count": null,
            "_view_module": "@jupyter-widgets/base",
            "_view_module_version": "1.2.0",
            "_view_name": "StyleView",
            "bar_color": null,
            "description_width": ""
          }
        },
        "c7c933b848d24b03b77ba7b0bcc99fbe": {
          "model_module": "@jupyter-widgets/base",
          "model_name": "LayoutModel",
          "model_module_version": "1.2.0",
          "state": {
            "_model_module": "@jupyter-widgets/base",
            "_model_module_version": "1.2.0",
            "_model_name": "LayoutModel",
            "_view_count": null,
            "_view_module": "@jupyter-widgets/base",
            "_view_module_version": "1.2.0",
            "_view_name": "LayoutView",
            "align_content": null,
            "align_items": null,
            "align_self": null,
            "border": null,
            "bottom": null,
            "display": null,
            "flex": null,
            "flex_flow": null,
            "grid_area": null,
            "grid_auto_columns": null,
            "grid_auto_flow": null,
            "grid_auto_rows": null,
            "grid_column": null,
            "grid_gap": null,
            "grid_row": null,
            "grid_template_areas": null,
            "grid_template_columns": null,
            "grid_template_rows": null,
            "height": null,
            "justify_content": null,
            "justify_items": null,
            "left": null,
            "margin": null,
            "max_height": null,
            "max_width": null,
            "min_height": null,
            "min_width": null,
            "object_fit": null,
            "object_position": null,
            "order": null,
            "overflow": null,
            "overflow_x": null,
            "overflow_y": null,
            "padding": null,
            "right": null,
            "top": null,
            "visibility": null,
            "width": null
          }
        },
        "1c534aa0381d4885a49dc96679ed4644": {
          "model_module": "@jupyter-widgets/controls",
          "model_name": "DescriptionStyleModel",
          "model_module_version": "1.5.0",
          "state": {
            "_model_module": "@jupyter-widgets/controls",
            "_model_module_version": "1.5.0",
            "_model_name": "DescriptionStyleModel",
            "_view_count": null,
            "_view_module": "@jupyter-widgets/base",
            "_view_module_version": "1.2.0",
            "_view_name": "StyleView",
            "description_width": ""
          }
        },
        "7202a156fb2140ce98b86275bebfc388": {
          "model_module": "@jupyter-widgets/controls",
          "model_name": "HBoxModel",
          "model_module_version": "1.5.0",
          "state": {
            "_dom_classes": [],
            "_model_module": "@jupyter-widgets/controls",
            "_model_module_version": "1.5.0",
            "_model_name": "HBoxModel",
            "_view_count": null,
            "_view_module": "@jupyter-widgets/controls",
            "_view_module_version": "1.5.0",
            "_view_name": "HBoxView",
            "box_style": "",
            "children": [
              "IPY_MODEL_25926f0d11084097b2708757b93781e2",
              "IPY_MODEL_0771e30af02b41d48a89f2dcc1644d49",
              "IPY_MODEL_429c7f3055a94daaa47a4c76986c019b"
            ],
            "layout": "IPY_MODEL_f2b5b82efb284a4fa3ec9022f99bd936"
          }
        },
        "25926f0d11084097b2708757b93781e2": {
          "model_module": "@jupyter-widgets/controls",
          "model_name": "HTMLModel",
          "model_module_version": "1.5.0",
          "state": {
            "_dom_classes": [],
            "_model_module": "@jupyter-widgets/controls",
            "_model_module_version": "1.5.0",
            "_model_name": "HTMLModel",
            "_view_count": null,
            "_view_module": "@jupyter-widgets/controls",
            "_view_module_version": "1.5.0",
            "_view_name": "HTMLView",
            "description": "",
            "description_tooltip": null,
            "layout": "IPY_MODEL_fe7971ee7d484740b32ac0ea11f5738c",
            "placeholder": "​",
            "style": "IPY_MODEL_bedc8f34d3a34c1db968a202e480b5f0",
            "value": "Generating train split: 100%"
          }
        },
        "0771e30af02b41d48a89f2dcc1644d49": {
          "model_module": "@jupyter-widgets/controls",
          "model_name": "FloatProgressModel",
          "model_module_version": "1.5.0",
          "state": {
            "_dom_classes": [],
            "_model_module": "@jupyter-widgets/controls",
            "_model_module_version": "1.5.0",
            "_model_name": "FloatProgressModel",
            "_view_count": null,
            "_view_module": "@jupyter-widgets/controls",
            "_view_module_version": "1.5.0",
            "_view_name": "ProgressView",
            "bar_style": "success",
            "description": "",
            "description_tooltip": null,
            "layout": "IPY_MODEL_b6e704dd2baa47629c711b734353d13a",
            "max": 127085,
            "min": 0,
            "orientation": "horizontal",
            "style": "IPY_MODEL_91c507e56bae488ba13cb68bd579ffc9",
            "value": 127085
          }
        },
        "429c7f3055a94daaa47a4c76986c019b": {
          "model_module": "@jupyter-widgets/controls",
          "model_name": "HTMLModel",
          "model_module_version": "1.5.0",
          "state": {
            "_dom_classes": [],
            "_model_module": "@jupyter-widgets/controls",
            "_model_module_version": "1.5.0",
            "_model_name": "HTMLModel",
            "_view_count": null,
            "_view_module": "@jupyter-widgets/controls",
            "_view_module_version": "1.5.0",
            "_view_name": "HTMLView",
            "description": "",
            "description_tooltip": null,
            "layout": "IPY_MODEL_2d1a0973cafa4028ad41f4e2b65bfb48",
            "placeholder": "​",
            "style": "IPY_MODEL_4a861c1432304157a6e2850e3cff54e2",
            "value": " 127085/127085 [00:14&lt;00:00, 8990.93 examples/s]"
          }
        },
        "f2b5b82efb284a4fa3ec9022f99bd936": {
          "model_module": "@jupyter-widgets/base",
          "model_name": "LayoutModel",
          "model_module_version": "1.2.0",
          "state": {
            "_model_module": "@jupyter-widgets/base",
            "_model_module_version": "1.2.0",
            "_model_name": "LayoutModel",
            "_view_count": null,
            "_view_module": "@jupyter-widgets/base",
            "_view_module_version": "1.2.0",
            "_view_name": "LayoutView",
            "align_content": null,
            "align_items": null,
            "align_self": null,
            "border": null,
            "bottom": null,
            "display": null,
            "flex": null,
            "flex_flow": null,
            "grid_area": null,
            "grid_auto_columns": null,
            "grid_auto_flow": null,
            "grid_auto_rows": null,
            "grid_column": null,
            "grid_gap": null,
            "grid_row": null,
            "grid_template_areas": null,
            "grid_template_columns": null,
            "grid_template_rows": null,
            "height": null,
            "justify_content": null,
            "justify_items": null,
            "left": null,
            "margin": null,
            "max_height": null,
            "max_width": null,
            "min_height": null,
            "min_width": null,
            "object_fit": null,
            "object_position": null,
            "order": null,
            "overflow": null,
            "overflow_x": null,
            "overflow_y": null,
            "padding": null,
            "right": null,
            "top": null,
            "visibility": null,
            "width": null
          }
        },
        "fe7971ee7d484740b32ac0ea11f5738c": {
          "model_module": "@jupyter-widgets/base",
          "model_name": "LayoutModel",
          "model_module_version": "1.2.0",
          "state": {
            "_model_module": "@jupyter-widgets/base",
            "_model_module_version": "1.2.0",
            "_model_name": "LayoutModel",
            "_view_count": null,
            "_view_module": "@jupyter-widgets/base",
            "_view_module_version": "1.2.0",
            "_view_name": "LayoutView",
            "align_content": null,
            "align_items": null,
            "align_self": null,
            "border": null,
            "bottom": null,
            "display": null,
            "flex": null,
            "flex_flow": null,
            "grid_area": null,
            "grid_auto_columns": null,
            "grid_auto_flow": null,
            "grid_auto_rows": null,
            "grid_column": null,
            "grid_gap": null,
            "grid_row": null,
            "grid_template_areas": null,
            "grid_template_columns": null,
            "grid_template_rows": null,
            "height": null,
            "justify_content": null,
            "justify_items": null,
            "left": null,
            "margin": null,
            "max_height": null,
            "max_width": null,
            "min_height": null,
            "min_width": null,
            "object_fit": null,
            "object_position": null,
            "order": null,
            "overflow": null,
            "overflow_x": null,
            "overflow_y": null,
            "padding": null,
            "right": null,
            "top": null,
            "visibility": null,
            "width": null
          }
        },
        "bedc8f34d3a34c1db968a202e480b5f0": {
          "model_module": "@jupyter-widgets/controls",
          "model_name": "DescriptionStyleModel",
          "model_module_version": "1.5.0",
          "state": {
            "_model_module": "@jupyter-widgets/controls",
            "_model_module_version": "1.5.0",
            "_model_name": "DescriptionStyleModel",
            "_view_count": null,
            "_view_module": "@jupyter-widgets/base",
            "_view_module_version": "1.2.0",
            "_view_name": "StyleView",
            "description_width": ""
          }
        },
        "b6e704dd2baa47629c711b734353d13a": {
          "model_module": "@jupyter-widgets/base",
          "model_name": "LayoutModel",
          "model_module_version": "1.2.0",
          "state": {
            "_model_module": "@jupyter-widgets/base",
            "_model_module_version": "1.2.0",
            "_model_name": "LayoutModel",
            "_view_count": null,
            "_view_module": "@jupyter-widgets/base",
            "_view_module_version": "1.2.0",
            "_view_name": "LayoutView",
            "align_content": null,
            "align_items": null,
            "align_self": null,
            "border": null,
            "bottom": null,
            "display": null,
            "flex": null,
            "flex_flow": null,
            "grid_area": null,
            "grid_auto_columns": null,
            "grid_auto_flow": null,
            "grid_auto_rows": null,
            "grid_column": null,
            "grid_gap": null,
            "grid_row": null,
            "grid_template_areas": null,
            "grid_template_columns": null,
            "grid_template_rows": null,
            "height": null,
            "justify_content": null,
            "justify_items": null,
            "left": null,
            "margin": null,
            "max_height": null,
            "max_width": null,
            "min_height": null,
            "min_width": null,
            "object_fit": null,
            "object_position": null,
            "order": null,
            "overflow": null,
            "overflow_x": null,
            "overflow_y": null,
            "padding": null,
            "right": null,
            "top": null,
            "visibility": null,
            "width": null
          }
        },
        "91c507e56bae488ba13cb68bd579ffc9": {
          "model_module": "@jupyter-widgets/controls",
          "model_name": "ProgressStyleModel",
          "model_module_version": "1.5.0",
          "state": {
            "_model_module": "@jupyter-widgets/controls",
            "_model_module_version": "1.5.0",
            "_model_name": "ProgressStyleModel",
            "_view_count": null,
            "_view_module": "@jupyter-widgets/base",
            "_view_module_version": "1.2.0",
            "_view_name": "StyleView",
            "bar_color": null,
            "description_width": ""
          }
        },
        "2d1a0973cafa4028ad41f4e2b65bfb48": {
          "model_module": "@jupyter-widgets/base",
          "model_name": "LayoutModel",
          "model_module_version": "1.2.0",
          "state": {
            "_model_module": "@jupyter-widgets/base",
            "_model_module_version": "1.2.0",
            "_model_name": "LayoutModel",
            "_view_count": null,
            "_view_module": "@jupyter-widgets/base",
            "_view_module_version": "1.2.0",
            "_view_name": "LayoutView",
            "align_content": null,
            "align_items": null,
            "align_self": null,
            "border": null,
            "bottom": null,
            "display": null,
            "flex": null,
            "flex_flow": null,
            "grid_area": null,
            "grid_auto_columns": null,
            "grid_auto_flow": null,
            "grid_auto_rows": null,
            "grid_column": null,
            "grid_gap": null,
            "grid_row": null,
            "grid_template_areas": null,
            "grid_template_columns": null,
            "grid_template_rows": null,
            "height": null,
            "justify_content": null,
            "justify_items": null,
            "left": null,
            "margin": null,
            "max_height": null,
            "max_width": null,
            "min_height": null,
            "min_width": null,
            "object_fit": null,
            "object_position": null,
            "order": null,
            "overflow": null,
            "overflow_x": null,
            "overflow_y": null,
            "padding": null,
            "right": null,
            "top": null,
            "visibility": null,
            "width": null
          }
        },
        "4a861c1432304157a6e2850e3cff54e2": {
          "model_module": "@jupyter-widgets/controls",
          "model_name": "DescriptionStyleModel",
          "model_module_version": "1.5.0",
          "state": {
            "_model_module": "@jupyter-widgets/controls",
            "_model_module_version": "1.5.0",
            "_model_name": "DescriptionStyleModel",
            "_view_count": null,
            "_view_module": "@jupyter-widgets/base",
            "_view_module_version": "1.2.0",
            "_view_name": "StyleView",
            "description_width": ""
          }
        },
        "a34a18b28bf04beda556fc7c59cbcf14": {
          "model_module": "@jupyter-widgets/controls",
          "model_name": "HBoxModel",
          "model_module_version": "1.5.0",
          "state": {
            "_dom_classes": [],
            "_model_module": "@jupyter-widgets/controls",
            "_model_module_version": "1.5.0",
            "_model_name": "HBoxModel",
            "_view_count": null,
            "_view_module": "@jupyter-widgets/controls",
            "_view_module_version": "1.5.0",
            "_view_name": "HBoxView",
            "box_style": "",
            "children": [
              "IPY_MODEL_5c67e1c4a87a4ea7b7414d0f8fd4460a",
              "IPY_MODEL_2c745b7787974e3581db3a4feda244a3",
              "IPY_MODEL_3fb62fdcfd9e474599c38ccf9d2a99a4"
            ],
            "layout": "IPY_MODEL_9678e705b22444c98f9ecf0d686d6e24"
          }
        },
        "5c67e1c4a87a4ea7b7414d0f8fd4460a": {
          "model_module": "@jupyter-widgets/controls",
          "model_name": "HTMLModel",
          "model_module_version": "1.5.0",
          "state": {
            "_dom_classes": [],
            "_model_module": "@jupyter-widgets/controls",
            "_model_module_version": "1.5.0",
            "_model_name": "HTMLModel",
            "_view_count": null,
            "_view_module": "@jupyter-widgets/controls",
            "_view_module_version": "1.5.0",
            "_view_name": "HTMLView",
            "description": "",
            "description_tooltip": null,
            "layout": "IPY_MODEL_d986a801172e4ca7af96ff456bbf56ce",
            "placeholder": "​",
            "style": "IPY_MODEL_c3ed08e841d44b6bad26d574b73e879f",
            "value": "tokenizer_config.json: 100%"
          }
        },
        "2c745b7787974e3581db3a4feda244a3": {
          "model_module": "@jupyter-widgets/controls",
          "model_name": "FloatProgressModel",
          "model_module_version": "1.5.0",
          "state": {
            "_dom_classes": [],
            "_model_module": "@jupyter-widgets/controls",
            "_model_module_version": "1.5.0",
            "_model_name": "FloatProgressModel",
            "_view_count": null,
            "_view_module": "@jupyter-widgets/controls",
            "_view_module_version": "1.5.0",
            "_view_name": "ProgressView",
            "bar_style": "success",
            "description": "",
            "description_tooltip": null,
            "layout": "IPY_MODEL_7277d2e5d0ce4841a68a0829d4d8058c",
            "max": 2324,
            "min": 0,
            "orientation": "horizontal",
            "style": "IPY_MODEL_e143d70e04c34f19804cb1e5768962ac",
            "value": 2324
          }
        },
        "3fb62fdcfd9e474599c38ccf9d2a99a4": {
          "model_module": "@jupyter-widgets/controls",
          "model_name": "HTMLModel",
          "model_module_version": "1.5.0",
          "state": {
            "_dom_classes": [],
            "_model_module": "@jupyter-widgets/controls",
            "_model_module_version": "1.5.0",
            "_model_name": "HTMLModel",
            "_view_count": null,
            "_view_module": "@jupyter-widgets/controls",
            "_view_module_version": "1.5.0",
            "_view_name": "HTMLView",
            "description": "",
            "description_tooltip": null,
            "layout": "IPY_MODEL_b360dcff7fa742708162f7a63e7942cd",
            "placeholder": "​",
            "style": "IPY_MODEL_1123d8c10e5c4c29a795362fcc40a9ff",
            "value": " 2.32k/2.32k [00:00&lt;00:00, 55.1kB/s]"
          }
        },
        "9678e705b22444c98f9ecf0d686d6e24": {
          "model_module": "@jupyter-widgets/base",
          "model_name": "LayoutModel",
          "model_module_version": "1.2.0",
          "state": {
            "_model_module": "@jupyter-widgets/base",
            "_model_module_version": "1.2.0",
            "_model_name": "LayoutModel",
            "_view_count": null,
            "_view_module": "@jupyter-widgets/base",
            "_view_module_version": "1.2.0",
            "_view_name": "LayoutView",
            "align_content": null,
            "align_items": null,
            "align_self": null,
            "border": null,
            "bottom": null,
            "display": null,
            "flex": null,
            "flex_flow": null,
            "grid_area": null,
            "grid_auto_columns": null,
            "grid_auto_flow": null,
            "grid_auto_rows": null,
            "grid_column": null,
            "grid_gap": null,
            "grid_row": null,
            "grid_template_areas": null,
            "grid_template_columns": null,
            "grid_template_rows": null,
            "height": null,
            "justify_content": null,
            "justify_items": null,
            "left": null,
            "margin": null,
            "max_height": null,
            "max_width": null,
            "min_height": null,
            "min_width": null,
            "object_fit": null,
            "object_position": null,
            "order": null,
            "overflow": null,
            "overflow_x": null,
            "overflow_y": null,
            "padding": null,
            "right": null,
            "top": null,
            "visibility": null,
            "width": null
          }
        },
        "d986a801172e4ca7af96ff456bbf56ce": {
          "model_module": "@jupyter-widgets/base",
          "model_name": "LayoutModel",
          "model_module_version": "1.2.0",
          "state": {
            "_model_module": "@jupyter-widgets/base",
            "_model_module_version": "1.2.0",
            "_model_name": "LayoutModel",
            "_view_count": null,
            "_view_module": "@jupyter-widgets/base",
            "_view_module_version": "1.2.0",
            "_view_name": "LayoutView",
            "align_content": null,
            "align_items": null,
            "align_self": null,
            "border": null,
            "bottom": null,
            "display": null,
            "flex": null,
            "flex_flow": null,
            "grid_area": null,
            "grid_auto_columns": null,
            "grid_auto_flow": null,
            "grid_auto_rows": null,
            "grid_column": null,
            "grid_gap": null,
            "grid_row": null,
            "grid_template_areas": null,
            "grid_template_columns": null,
            "grid_template_rows": null,
            "height": null,
            "justify_content": null,
            "justify_items": null,
            "left": null,
            "margin": null,
            "max_height": null,
            "max_width": null,
            "min_height": null,
            "min_width": null,
            "object_fit": null,
            "object_position": null,
            "order": null,
            "overflow": null,
            "overflow_x": null,
            "overflow_y": null,
            "padding": null,
            "right": null,
            "top": null,
            "visibility": null,
            "width": null
          }
        },
        "c3ed08e841d44b6bad26d574b73e879f": {
          "model_module": "@jupyter-widgets/controls",
          "model_name": "DescriptionStyleModel",
          "model_module_version": "1.5.0",
          "state": {
            "_model_module": "@jupyter-widgets/controls",
            "_model_module_version": "1.5.0",
            "_model_name": "DescriptionStyleModel",
            "_view_count": null,
            "_view_module": "@jupyter-widgets/base",
            "_view_module_version": "1.2.0",
            "_view_name": "StyleView",
            "description_width": ""
          }
        },
        "7277d2e5d0ce4841a68a0829d4d8058c": {
          "model_module": "@jupyter-widgets/base",
          "model_name": "LayoutModel",
          "model_module_version": "1.2.0",
          "state": {
            "_model_module": "@jupyter-widgets/base",
            "_model_module_version": "1.2.0",
            "_model_name": "LayoutModel",
            "_view_count": null,
            "_view_module": "@jupyter-widgets/base",
            "_view_module_version": "1.2.0",
            "_view_name": "LayoutView",
            "align_content": null,
            "align_items": null,
            "align_self": null,
            "border": null,
            "bottom": null,
            "display": null,
            "flex": null,
            "flex_flow": null,
            "grid_area": null,
            "grid_auto_columns": null,
            "grid_auto_flow": null,
            "grid_auto_rows": null,
            "grid_column": null,
            "grid_gap": null,
            "grid_row": null,
            "grid_template_areas": null,
            "grid_template_columns": null,
            "grid_template_rows": null,
            "height": null,
            "justify_content": null,
            "justify_items": null,
            "left": null,
            "margin": null,
            "max_height": null,
            "max_width": null,
            "min_height": null,
            "min_width": null,
            "object_fit": null,
            "object_position": null,
            "order": null,
            "overflow": null,
            "overflow_x": null,
            "overflow_y": null,
            "padding": null,
            "right": null,
            "top": null,
            "visibility": null,
            "width": null
          }
        },
        "e143d70e04c34f19804cb1e5768962ac": {
          "model_module": "@jupyter-widgets/controls",
          "model_name": "ProgressStyleModel",
          "model_module_version": "1.5.0",
          "state": {
            "_model_module": "@jupyter-widgets/controls",
            "_model_module_version": "1.5.0",
            "_model_name": "ProgressStyleModel",
            "_view_count": null,
            "_view_module": "@jupyter-widgets/base",
            "_view_module_version": "1.2.0",
            "_view_name": "StyleView",
            "bar_color": null,
            "description_width": ""
          }
        },
        "b360dcff7fa742708162f7a63e7942cd": {
          "model_module": "@jupyter-widgets/base",
          "model_name": "LayoutModel",
          "model_module_version": "1.2.0",
          "state": {
            "_model_module": "@jupyter-widgets/base",
            "_model_module_version": "1.2.0",
            "_model_name": "LayoutModel",
            "_view_count": null,
            "_view_module": "@jupyter-widgets/base",
            "_view_module_version": "1.2.0",
            "_view_name": "LayoutView",
            "align_content": null,
            "align_items": null,
            "align_self": null,
            "border": null,
            "bottom": null,
            "display": null,
            "flex": null,
            "flex_flow": null,
            "grid_area": null,
            "grid_auto_columns": null,
            "grid_auto_flow": null,
            "grid_auto_rows": null,
            "grid_column": null,
            "grid_gap": null,
            "grid_row": null,
            "grid_template_areas": null,
            "grid_template_columns": null,
            "grid_template_rows": null,
            "height": null,
            "justify_content": null,
            "justify_items": null,
            "left": null,
            "margin": null,
            "max_height": null,
            "max_width": null,
            "min_height": null,
            "min_width": null,
            "object_fit": null,
            "object_position": null,
            "order": null,
            "overflow": null,
            "overflow_x": null,
            "overflow_y": null,
            "padding": null,
            "right": null,
            "top": null,
            "visibility": null,
            "width": null
          }
        },
        "1123d8c10e5c4c29a795362fcc40a9ff": {
          "model_module": "@jupyter-widgets/controls",
          "model_name": "DescriptionStyleModel",
          "model_module_version": "1.5.0",
          "state": {
            "_model_module": "@jupyter-widgets/controls",
            "_model_module_version": "1.5.0",
            "_model_name": "DescriptionStyleModel",
            "_view_count": null,
            "_view_module": "@jupyter-widgets/base",
            "_view_module_version": "1.2.0",
            "_view_name": "StyleView",
            "description_width": ""
          }
        },
        "804eff9432fd467084f25a52fd73b4e6": {
          "model_module": "@jupyter-widgets/controls",
          "model_name": "HBoxModel",
          "model_module_version": "1.5.0",
          "state": {
            "_dom_classes": [],
            "_model_module": "@jupyter-widgets/controls",
            "_model_module_version": "1.5.0",
            "_model_name": "HBoxModel",
            "_view_count": null,
            "_view_module": "@jupyter-widgets/controls",
            "_view_module_version": "1.5.0",
            "_view_name": "HBoxView",
            "box_style": "",
            "children": [
              "IPY_MODEL_9c7cd33cd53548128b8876f6e6b2b4c0",
              "IPY_MODEL_4972a128433d490b90379306fd594928",
              "IPY_MODEL_66b8afc4db2142a1af02d5ce8107b821"
            ],
            "layout": "IPY_MODEL_ddd33d6428af4c5499195d9817680f3a"
          }
        },
        "9c7cd33cd53548128b8876f6e6b2b4c0": {
          "model_module": "@jupyter-widgets/controls",
          "model_name": "HTMLModel",
          "model_module_version": "1.5.0",
          "state": {
            "_dom_classes": [],
            "_model_module": "@jupyter-widgets/controls",
            "_model_module_version": "1.5.0",
            "_model_name": "HTMLModel",
            "_view_count": null,
            "_view_module": "@jupyter-widgets/controls",
            "_view_module_version": "1.5.0",
            "_view_name": "HTMLView",
            "description": "",
            "description_tooltip": null,
            "layout": "IPY_MODEL_6c929f1cb0a84595a914de2b47414c1f",
            "placeholder": "​",
            "style": "IPY_MODEL_b3257f68880a4bf488670cff07c62d95",
            "value": "spiece.model: 100%"
          }
        },
        "4972a128433d490b90379306fd594928": {
          "model_module": "@jupyter-widgets/controls",
          "model_name": "FloatProgressModel",
          "model_module_version": "1.5.0",
          "state": {
            "_dom_classes": [],
            "_model_module": "@jupyter-widgets/controls",
            "_model_module_version": "1.5.0",
            "_model_name": "FloatProgressModel",
            "_view_count": null,
            "_view_module": "@jupyter-widgets/controls",
            "_view_module_version": "1.5.0",
            "_view_name": "ProgressView",
            "bar_style": "success",
            "description": "",
            "description_tooltip": null,
            "layout": "IPY_MODEL_65b6717230bb4ae1b3b29cad07690606",
            "max": 791656,
            "min": 0,
            "orientation": "horizontal",
            "style": "IPY_MODEL_5d5a7262b5e74f05be8fb5fbb4062695",
            "value": 791656
          }
        },
        "66b8afc4db2142a1af02d5ce8107b821": {
          "model_module": "@jupyter-widgets/controls",
          "model_name": "HTMLModel",
          "model_module_version": "1.5.0",
          "state": {
            "_dom_classes": [],
            "_model_module": "@jupyter-widgets/controls",
            "_model_module_version": "1.5.0",
            "_model_name": "HTMLModel",
            "_view_count": null,
            "_view_module": "@jupyter-widgets/controls",
            "_view_module_version": "1.5.0",
            "_view_name": "HTMLView",
            "description": "",
            "description_tooltip": null,
            "layout": "IPY_MODEL_8a3b72228d6d4494b3a9f52f430cd772",
            "placeholder": "​",
            "style": "IPY_MODEL_1e8d2ce40a584bb39ba52d2fa1e92201",
            "value": " 792k/792k [00:00&lt;00:00, 4.81MB/s]"
          }
        },
        "ddd33d6428af4c5499195d9817680f3a": {
          "model_module": "@jupyter-widgets/base",
          "model_name": "LayoutModel",
          "model_module_version": "1.2.0",
          "state": {
            "_model_module": "@jupyter-widgets/base",
            "_model_module_version": "1.2.0",
            "_model_name": "LayoutModel",
            "_view_count": null,
            "_view_module": "@jupyter-widgets/base",
            "_view_module_version": "1.2.0",
            "_view_name": "LayoutView",
            "align_content": null,
            "align_items": null,
            "align_self": null,
            "border": null,
            "bottom": null,
            "display": null,
            "flex": null,
            "flex_flow": null,
            "grid_area": null,
            "grid_auto_columns": null,
            "grid_auto_flow": null,
            "grid_auto_rows": null,
            "grid_column": null,
            "grid_gap": null,
            "grid_row": null,
            "grid_template_areas": null,
            "grid_template_columns": null,
            "grid_template_rows": null,
            "height": null,
            "justify_content": null,
            "justify_items": null,
            "left": null,
            "margin": null,
            "max_height": null,
            "max_width": null,
            "min_height": null,
            "min_width": null,
            "object_fit": null,
            "object_position": null,
            "order": null,
            "overflow": null,
            "overflow_x": null,
            "overflow_y": null,
            "padding": null,
            "right": null,
            "top": null,
            "visibility": null,
            "width": null
          }
        },
        "6c929f1cb0a84595a914de2b47414c1f": {
          "model_module": "@jupyter-widgets/base",
          "model_name": "LayoutModel",
          "model_module_version": "1.2.0",
          "state": {
            "_model_module": "@jupyter-widgets/base",
            "_model_module_version": "1.2.0",
            "_model_name": "LayoutModel",
            "_view_count": null,
            "_view_module": "@jupyter-widgets/base",
            "_view_module_version": "1.2.0",
            "_view_name": "LayoutView",
            "align_content": null,
            "align_items": null,
            "align_self": null,
            "border": null,
            "bottom": null,
            "display": null,
            "flex": null,
            "flex_flow": null,
            "grid_area": null,
            "grid_auto_columns": null,
            "grid_auto_flow": null,
            "grid_auto_rows": null,
            "grid_column": null,
            "grid_gap": null,
            "grid_row": null,
            "grid_template_areas": null,
            "grid_template_columns": null,
            "grid_template_rows": null,
            "height": null,
            "justify_content": null,
            "justify_items": null,
            "left": null,
            "margin": null,
            "max_height": null,
            "max_width": null,
            "min_height": null,
            "min_width": null,
            "object_fit": null,
            "object_position": null,
            "order": null,
            "overflow": null,
            "overflow_x": null,
            "overflow_y": null,
            "padding": null,
            "right": null,
            "top": null,
            "visibility": null,
            "width": null
          }
        },
        "b3257f68880a4bf488670cff07c62d95": {
          "model_module": "@jupyter-widgets/controls",
          "model_name": "DescriptionStyleModel",
          "model_module_version": "1.5.0",
          "state": {
            "_model_module": "@jupyter-widgets/controls",
            "_model_module_version": "1.5.0",
            "_model_name": "DescriptionStyleModel",
            "_view_count": null,
            "_view_module": "@jupyter-widgets/base",
            "_view_module_version": "1.2.0",
            "_view_name": "StyleView",
            "description_width": ""
          }
        },
        "65b6717230bb4ae1b3b29cad07690606": {
          "model_module": "@jupyter-widgets/base",
          "model_name": "LayoutModel",
          "model_module_version": "1.2.0",
          "state": {
            "_model_module": "@jupyter-widgets/base",
            "_model_module_version": "1.2.0",
            "_model_name": "LayoutModel",
            "_view_count": null,
            "_view_module": "@jupyter-widgets/base",
            "_view_module_version": "1.2.0",
            "_view_name": "LayoutView",
            "align_content": null,
            "align_items": null,
            "align_self": null,
            "border": null,
            "bottom": null,
            "display": null,
            "flex": null,
            "flex_flow": null,
            "grid_area": null,
            "grid_auto_columns": null,
            "grid_auto_flow": null,
            "grid_auto_rows": null,
            "grid_column": null,
            "grid_gap": null,
            "grid_row": null,
            "grid_template_areas": null,
            "grid_template_columns": null,
            "grid_template_rows": null,
            "height": null,
            "justify_content": null,
            "justify_items": null,
            "left": null,
            "margin": null,
            "max_height": null,
            "max_width": null,
            "min_height": null,
            "min_width": null,
            "object_fit": null,
            "object_position": null,
            "order": null,
            "overflow": null,
            "overflow_x": null,
            "overflow_y": null,
            "padding": null,
            "right": null,
            "top": null,
            "visibility": null,
            "width": null
          }
        },
        "5d5a7262b5e74f05be8fb5fbb4062695": {
          "model_module": "@jupyter-widgets/controls",
          "model_name": "ProgressStyleModel",
          "model_module_version": "1.5.0",
          "state": {
            "_model_module": "@jupyter-widgets/controls",
            "_model_module_version": "1.5.0",
            "_model_name": "ProgressStyleModel",
            "_view_count": null,
            "_view_module": "@jupyter-widgets/base",
            "_view_module_version": "1.2.0",
            "_view_name": "StyleView",
            "bar_color": null,
            "description_width": ""
          }
        },
        "8a3b72228d6d4494b3a9f52f430cd772": {
          "model_module": "@jupyter-widgets/base",
          "model_name": "LayoutModel",
          "model_module_version": "1.2.0",
          "state": {
            "_model_module": "@jupyter-widgets/base",
            "_model_module_version": "1.2.0",
            "_model_name": "LayoutModel",
            "_view_count": null,
            "_view_module": "@jupyter-widgets/base",
            "_view_module_version": "1.2.0",
            "_view_name": "LayoutView",
            "align_content": null,
            "align_items": null,
            "align_self": null,
            "border": null,
            "bottom": null,
            "display": null,
            "flex": null,
            "flex_flow": null,
            "grid_area": null,
            "grid_auto_columns": null,
            "grid_auto_flow": null,
            "grid_auto_rows": null,
            "grid_column": null,
            "grid_gap": null,
            "grid_row": null,
            "grid_template_areas": null,
            "grid_template_columns": null,
            "grid_template_rows": null,
            "height": null,
            "justify_content": null,
            "justify_items": null,
            "left": null,
            "margin": null,
            "max_height": null,
            "max_width": null,
            "min_height": null,
            "min_width": null,
            "object_fit": null,
            "object_position": null,
            "order": null,
            "overflow": null,
            "overflow_x": null,
            "overflow_y": null,
            "padding": null,
            "right": null,
            "top": null,
            "visibility": null,
            "width": null
          }
        },
        "1e8d2ce40a584bb39ba52d2fa1e92201": {
          "model_module": "@jupyter-widgets/controls",
          "model_name": "DescriptionStyleModel",
          "model_module_version": "1.5.0",
          "state": {
            "_model_module": "@jupyter-widgets/controls",
            "_model_module_version": "1.5.0",
            "_model_name": "DescriptionStyleModel",
            "_view_count": null,
            "_view_module": "@jupyter-widgets/base",
            "_view_module_version": "1.2.0",
            "_view_name": "StyleView",
            "description_width": ""
          }
        },
        "d95451ef988f4d22a077f964313f1fb5": {
          "model_module": "@jupyter-widgets/controls",
          "model_name": "HBoxModel",
          "model_module_version": "1.5.0",
          "state": {
            "_dom_classes": [],
            "_model_module": "@jupyter-widgets/controls",
            "_model_module_version": "1.5.0",
            "_model_name": "HBoxModel",
            "_view_count": null,
            "_view_module": "@jupyter-widgets/controls",
            "_view_module_version": "1.5.0",
            "_view_name": "HBoxView",
            "box_style": "",
            "children": [
              "IPY_MODEL_db2983202df14b699a06a12bc8d21e36",
              "IPY_MODEL_f6498c80e67c4437b25ac05f217f3bf5",
              "IPY_MODEL_8e9c0b1039984184ae4dbda421b7bfbb"
            ],
            "layout": "IPY_MODEL_7fee8db80e934f29b26477ec2c8227a3"
          }
        },
        "db2983202df14b699a06a12bc8d21e36": {
          "model_module": "@jupyter-widgets/controls",
          "model_name": "HTMLModel",
          "model_module_version": "1.5.0",
          "state": {
            "_dom_classes": [],
            "_model_module": "@jupyter-widgets/controls",
            "_model_module_version": "1.5.0",
            "_model_name": "HTMLModel",
            "_view_count": null,
            "_view_module": "@jupyter-widgets/controls",
            "_view_module_version": "1.5.0",
            "_view_name": "HTMLView",
            "description": "",
            "description_tooltip": null,
            "layout": "IPY_MODEL_aa28d5755b8a429492b54a67556e0083",
            "placeholder": "​",
            "style": "IPY_MODEL_960e9466444b4a1e857df24f3c7b5464",
            "value": "tokenizer.json: 100%"
          }
        },
        "f6498c80e67c4437b25ac05f217f3bf5": {
          "model_module": "@jupyter-widgets/controls",
          "model_name": "FloatProgressModel",
          "model_module_version": "1.5.0",
          "state": {
            "_dom_classes": [],
            "_model_module": "@jupyter-widgets/controls",
            "_model_module_version": "1.5.0",
            "_model_name": "FloatProgressModel",
            "_view_count": null,
            "_view_module": "@jupyter-widgets/controls",
            "_view_module_version": "1.5.0",
            "_view_name": "ProgressView",
            "bar_style": "success",
            "description": "",
            "description_tooltip": null,
            "layout": "IPY_MODEL_d060421d67b445429a5c74950e231a8b",
            "max": 1389353,
            "min": 0,
            "orientation": "horizontal",
            "style": "IPY_MODEL_b57a6e4ce6aa432b9dced5c98b0b4782",
            "value": 1389353
          }
        },
        "8e9c0b1039984184ae4dbda421b7bfbb": {
          "model_module": "@jupyter-widgets/controls",
          "model_name": "HTMLModel",
          "model_module_version": "1.5.0",
          "state": {
            "_dom_classes": [],
            "_model_module": "@jupyter-widgets/controls",
            "_model_module_version": "1.5.0",
            "_model_name": "HTMLModel",
            "_view_count": null,
            "_view_module": "@jupyter-widgets/controls",
            "_view_module_version": "1.5.0",
            "_view_name": "HTMLView",
            "description": "",
            "description_tooltip": null,
            "layout": "IPY_MODEL_e05b3a6692474efd9d526e1f4b3ca947",
            "placeholder": "​",
            "style": "IPY_MODEL_d18ee96754b54ba88c681b1cc3b3bdc9",
            "value": " 1.39M/1.39M [00:00&lt;00:00, 13.2MB/s]"
          }
        },
        "7fee8db80e934f29b26477ec2c8227a3": {
          "model_module": "@jupyter-widgets/base",
          "model_name": "LayoutModel",
          "model_module_version": "1.2.0",
          "state": {
            "_model_module": "@jupyter-widgets/base",
            "_model_module_version": "1.2.0",
            "_model_name": "LayoutModel",
            "_view_count": null,
            "_view_module": "@jupyter-widgets/base",
            "_view_module_version": "1.2.0",
            "_view_name": "LayoutView",
            "align_content": null,
            "align_items": null,
            "align_self": null,
            "border": null,
            "bottom": null,
            "display": null,
            "flex": null,
            "flex_flow": null,
            "grid_area": null,
            "grid_auto_columns": null,
            "grid_auto_flow": null,
            "grid_auto_rows": null,
            "grid_column": null,
            "grid_gap": null,
            "grid_row": null,
            "grid_template_areas": null,
            "grid_template_columns": null,
            "grid_template_rows": null,
            "height": null,
            "justify_content": null,
            "justify_items": null,
            "left": null,
            "margin": null,
            "max_height": null,
            "max_width": null,
            "min_height": null,
            "min_width": null,
            "object_fit": null,
            "object_position": null,
            "order": null,
            "overflow": null,
            "overflow_x": null,
            "overflow_y": null,
            "padding": null,
            "right": null,
            "top": null,
            "visibility": null,
            "width": null
          }
        },
        "aa28d5755b8a429492b54a67556e0083": {
          "model_module": "@jupyter-widgets/base",
          "model_name": "LayoutModel",
          "model_module_version": "1.2.0",
          "state": {
            "_model_module": "@jupyter-widgets/base",
            "_model_module_version": "1.2.0",
            "_model_name": "LayoutModel",
            "_view_count": null,
            "_view_module": "@jupyter-widgets/base",
            "_view_module_version": "1.2.0",
            "_view_name": "LayoutView",
            "align_content": null,
            "align_items": null,
            "align_self": null,
            "border": null,
            "bottom": null,
            "display": null,
            "flex": null,
            "flex_flow": null,
            "grid_area": null,
            "grid_auto_columns": null,
            "grid_auto_flow": null,
            "grid_auto_rows": null,
            "grid_column": null,
            "grid_gap": null,
            "grid_row": null,
            "grid_template_areas": null,
            "grid_template_columns": null,
            "grid_template_rows": null,
            "height": null,
            "justify_content": null,
            "justify_items": null,
            "left": null,
            "margin": null,
            "max_height": null,
            "max_width": null,
            "min_height": null,
            "min_width": null,
            "object_fit": null,
            "object_position": null,
            "order": null,
            "overflow": null,
            "overflow_x": null,
            "overflow_y": null,
            "padding": null,
            "right": null,
            "top": null,
            "visibility": null,
            "width": null
          }
        },
        "960e9466444b4a1e857df24f3c7b5464": {
          "model_module": "@jupyter-widgets/controls",
          "model_name": "DescriptionStyleModel",
          "model_module_version": "1.5.0",
          "state": {
            "_model_module": "@jupyter-widgets/controls",
            "_model_module_version": "1.5.0",
            "_model_name": "DescriptionStyleModel",
            "_view_count": null,
            "_view_module": "@jupyter-widgets/base",
            "_view_module_version": "1.2.0",
            "_view_name": "StyleView",
            "description_width": ""
          }
        },
        "d060421d67b445429a5c74950e231a8b": {
          "model_module": "@jupyter-widgets/base",
          "model_name": "LayoutModel",
          "model_module_version": "1.2.0",
          "state": {
            "_model_module": "@jupyter-widgets/base",
            "_model_module_version": "1.2.0",
            "_model_name": "LayoutModel",
            "_view_count": null,
            "_view_module": "@jupyter-widgets/base",
            "_view_module_version": "1.2.0",
            "_view_name": "LayoutView",
            "align_content": null,
            "align_items": null,
            "align_self": null,
            "border": null,
            "bottom": null,
            "display": null,
            "flex": null,
            "flex_flow": null,
            "grid_area": null,
            "grid_auto_columns": null,
            "grid_auto_flow": null,
            "grid_auto_rows": null,
            "grid_column": null,
            "grid_gap": null,
            "grid_row": null,
            "grid_template_areas": null,
            "grid_template_columns": null,
            "grid_template_rows": null,
            "height": null,
            "justify_content": null,
            "justify_items": null,
            "left": null,
            "margin": null,
            "max_height": null,
            "max_width": null,
            "min_height": null,
            "min_width": null,
            "object_fit": null,
            "object_position": null,
            "order": null,
            "overflow": null,
            "overflow_x": null,
            "overflow_y": null,
            "padding": null,
            "right": null,
            "top": null,
            "visibility": null,
            "width": null
          }
        },
        "b57a6e4ce6aa432b9dced5c98b0b4782": {
          "model_module": "@jupyter-widgets/controls",
          "model_name": "ProgressStyleModel",
          "model_module_version": "1.5.0",
          "state": {
            "_model_module": "@jupyter-widgets/controls",
            "_model_module_version": "1.5.0",
            "_model_name": "ProgressStyleModel",
            "_view_count": null,
            "_view_module": "@jupyter-widgets/base",
            "_view_module_version": "1.2.0",
            "_view_name": "StyleView",
            "bar_color": null,
            "description_width": ""
          }
        },
        "e05b3a6692474efd9d526e1f4b3ca947": {
          "model_module": "@jupyter-widgets/base",
          "model_name": "LayoutModel",
          "model_module_version": "1.2.0",
          "state": {
            "_model_module": "@jupyter-widgets/base",
            "_model_module_version": "1.2.0",
            "_model_name": "LayoutModel",
            "_view_count": null,
            "_view_module": "@jupyter-widgets/base",
            "_view_module_version": "1.2.0",
            "_view_name": "LayoutView",
            "align_content": null,
            "align_items": null,
            "align_self": null,
            "border": null,
            "bottom": null,
            "display": null,
            "flex": null,
            "flex_flow": null,
            "grid_area": null,
            "grid_auto_columns": null,
            "grid_auto_flow": null,
            "grid_auto_rows": null,
            "grid_column": null,
            "grid_gap": null,
            "grid_row": null,
            "grid_template_areas": null,
            "grid_template_columns": null,
            "grid_template_rows": null,
            "height": null,
            "justify_content": null,
            "justify_items": null,
            "left": null,
            "margin": null,
            "max_height": null,
            "max_width": null,
            "min_height": null,
            "min_width": null,
            "object_fit": null,
            "object_position": null,
            "order": null,
            "overflow": null,
            "overflow_x": null,
            "overflow_y": null,
            "padding": null,
            "right": null,
            "top": null,
            "visibility": null,
            "width": null
          }
        },
        "d18ee96754b54ba88c681b1cc3b3bdc9": {
          "model_module": "@jupyter-widgets/controls",
          "model_name": "DescriptionStyleModel",
          "model_module_version": "1.5.0",
          "state": {
            "_model_module": "@jupyter-widgets/controls",
            "_model_module_version": "1.5.0",
            "_model_name": "DescriptionStyleModel",
            "_view_count": null,
            "_view_module": "@jupyter-widgets/base",
            "_view_module_version": "1.2.0",
            "_view_name": "StyleView",
            "description_width": ""
          }
        },
        "a1ea1da5a84f4edcbbc6203ac5772add": {
          "model_module": "@jupyter-widgets/controls",
          "model_name": "HBoxModel",
          "model_module_version": "1.5.0",
          "state": {
            "_dom_classes": [],
            "_model_module": "@jupyter-widgets/controls",
            "_model_module_version": "1.5.0",
            "_model_name": "HBoxModel",
            "_view_count": null,
            "_view_module": "@jupyter-widgets/controls",
            "_view_module_version": "1.5.0",
            "_view_name": "HBoxView",
            "box_style": "",
            "children": [
              "IPY_MODEL_497aac25b799464e96b7d1c691c5617d",
              "IPY_MODEL_9d49f2f117dc492d96bb84e48c35126b",
              "IPY_MODEL_c7cf9889a6644119820039ce637b37c3"
            ],
            "layout": "IPY_MODEL_302647f4c25247379de88a62545de041"
          }
        },
        "497aac25b799464e96b7d1c691c5617d": {
          "model_module": "@jupyter-widgets/controls",
          "model_name": "HTMLModel",
          "model_module_version": "1.5.0",
          "state": {
            "_dom_classes": [],
            "_model_module": "@jupyter-widgets/controls",
            "_model_module_version": "1.5.0",
            "_model_name": "HTMLModel",
            "_view_count": null,
            "_view_module": "@jupyter-widgets/controls",
            "_view_module_version": "1.5.0",
            "_view_name": "HTMLView",
            "description": "",
            "description_tooltip": null,
            "layout": "IPY_MODEL_0f819f57477a46139d379c3677bd7908",
            "placeholder": "​",
            "style": "IPY_MODEL_b2b7087af82d45fab93e1015666cdd6a",
            "value": "Map: 100%"
          }
        },
        "9d49f2f117dc492d96bb84e48c35126b": {
          "model_module": "@jupyter-widgets/controls",
          "model_name": "FloatProgressModel",
          "model_module_version": "1.5.0",
          "state": {
            "_dom_classes": [],
            "_model_module": "@jupyter-widgets/controls",
            "_model_module_version": "1.5.0",
            "_model_name": "FloatProgressModel",
            "_view_count": null,
            "_view_module": "@jupyter-widgets/controls",
            "_view_module_version": "1.5.0",
            "_view_name": "ProgressView",
            "bar_style": "success",
            "description": "",
            "description_tooltip": null,
            "layout": "IPY_MODEL_0737bff085ad4bf2a0358aafaab53087",
            "max": 101668,
            "min": 0,
            "orientation": "horizontal",
            "style": "IPY_MODEL_d1590149ae814faf9ea9b579e6efafa9",
            "value": 101668
          }
        },
        "c7cf9889a6644119820039ce637b37c3": {
          "model_module": "@jupyter-widgets/controls",
          "model_name": "HTMLModel",
          "model_module_version": "1.5.0",
          "state": {
            "_dom_classes": [],
            "_model_module": "@jupyter-widgets/controls",
            "_model_module_version": "1.5.0",
            "_model_name": "HTMLModel",
            "_view_count": null,
            "_view_module": "@jupyter-widgets/controls",
            "_view_module_version": "1.5.0",
            "_view_name": "HTMLView",
            "description": "",
            "description_tooltip": null,
            "layout": "IPY_MODEL_8e0182676a3945929d90e7f70ccc3723",
            "placeholder": "​",
            "style": "IPY_MODEL_b468d13b8818453381cf264547822acb",
            "value": " 101668/101668 [00:40&lt;00:00, 3063.71 examples/s]"
          }
        },
        "302647f4c25247379de88a62545de041": {
          "model_module": "@jupyter-widgets/base",
          "model_name": "LayoutModel",
          "model_module_version": "1.2.0",
          "state": {
            "_model_module": "@jupyter-widgets/base",
            "_model_module_version": "1.2.0",
            "_model_name": "LayoutModel",
            "_view_count": null,
            "_view_module": "@jupyter-widgets/base",
            "_view_module_version": "1.2.0",
            "_view_name": "LayoutView",
            "align_content": null,
            "align_items": null,
            "align_self": null,
            "border": null,
            "bottom": null,
            "display": null,
            "flex": null,
            "flex_flow": null,
            "grid_area": null,
            "grid_auto_columns": null,
            "grid_auto_flow": null,
            "grid_auto_rows": null,
            "grid_column": null,
            "grid_gap": null,
            "grid_row": null,
            "grid_template_areas": null,
            "grid_template_columns": null,
            "grid_template_rows": null,
            "height": null,
            "justify_content": null,
            "justify_items": null,
            "left": null,
            "margin": null,
            "max_height": null,
            "max_width": null,
            "min_height": null,
            "min_width": null,
            "object_fit": null,
            "object_position": null,
            "order": null,
            "overflow": null,
            "overflow_x": null,
            "overflow_y": null,
            "padding": null,
            "right": null,
            "top": null,
            "visibility": null,
            "width": null
          }
        },
        "0f819f57477a46139d379c3677bd7908": {
          "model_module": "@jupyter-widgets/base",
          "model_name": "LayoutModel",
          "model_module_version": "1.2.0",
          "state": {
            "_model_module": "@jupyter-widgets/base",
            "_model_module_version": "1.2.0",
            "_model_name": "LayoutModel",
            "_view_count": null,
            "_view_module": "@jupyter-widgets/base",
            "_view_module_version": "1.2.0",
            "_view_name": "LayoutView",
            "align_content": null,
            "align_items": null,
            "align_self": null,
            "border": null,
            "bottom": null,
            "display": null,
            "flex": null,
            "flex_flow": null,
            "grid_area": null,
            "grid_auto_columns": null,
            "grid_auto_flow": null,
            "grid_auto_rows": null,
            "grid_column": null,
            "grid_gap": null,
            "grid_row": null,
            "grid_template_areas": null,
            "grid_template_columns": null,
            "grid_template_rows": null,
            "height": null,
            "justify_content": null,
            "justify_items": null,
            "left": null,
            "margin": null,
            "max_height": null,
            "max_width": null,
            "min_height": null,
            "min_width": null,
            "object_fit": null,
            "object_position": null,
            "order": null,
            "overflow": null,
            "overflow_x": null,
            "overflow_y": null,
            "padding": null,
            "right": null,
            "top": null,
            "visibility": null,
            "width": null
          }
        },
        "b2b7087af82d45fab93e1015666cdd6a": {
          "model_module": "@jupyter-widgets/controls",
          "model_name": "DescriptionStyleModel",
          "model_module_version": "1.5.0",
          "state": {
            "_model_module": "@jupyter-widgets/controls",
            "_model_module_version": "1.5.0",
            "_model_name": "DescriptionStyleModel",
            "_view_count": null,
            "_view_module": "@jupyter-widgets/base",
            "_view_module_version": "1.2.0",
            "_view_name": "StyleView",
            "description_width": ""
          }
        },
        "0737bff085ad4bf2a0358aafaab53087": {
          "model_module": "@jupyter-widgets/base",
          "model_name": "LayoutModel",
          "model_module_version": "1.2.0",
          "state": {
            "_model_module": "@jupyter-widgets/base",
            "_model_module_version": "1.2.0",
            "_model_name": "LayoutModel",
            "_view_count": null,
            "_view_module": "@jupyter-widgets/base",
            "_view_module_version": "1.2.0",
            "_view_name": "LayoutView",
            "align_content": null,
            "align_items": null,
            "align_self": null,
            "border": null,
            "bottom": null,
            "display": null,
            "flex": null,
            "flex_flow": null,
            "grid_area": null,
            "grid_auto_columns": null,
            "grid_auto_flow": null,
            "grid_auto_rows": null,
            "grid_column": null,
            "grid_gap": null,
            "grid_row": null,
            "grid_template_areas": null,
            "grid_template_columns": null,
            "grid_template_rows": null,
            "height": null,
            "justify_content": null,
            "justify_items": null,
            "left": null,
            "margin": null,
            "max_height": null,
            "max_width": null,
            "min_height": null,
            "min_width": null,
            "object_fit": null,
            "object_position": null,
            "order": null,
            "overflow": null,
            "overflow_x": null,
            "overflow_y": null,
            "padding": null,
            "right": null,
            "top": null,
            "visibility": null,
            "width": null
          }
        },
        "d1590149ae814faf9ea9b579e6efafa9": {
          "model_module": "@jupyter-widgets/controls",
          "model_name": "ProgressStyleModel",
          "model_module_version": "1.5.0",
          "state": {
            "_model_module": "@jupyter-widgets/controls",
            "_model_module_version": "1.5.0",
            "_model_name": "ProgressStyleModel",
            "_view_count": null,
            "_view_module": "@jupyter-widgets/base",
            "_view_module_version": "1.2.0",
            "_view_name": "StyleView",
            "bar_color": null,
            "description_width": ""
          }
        },
        "8e0182676a3945929d90e7f70ccc3723": {
          "model_module": "@jupyter-widgets/base",
          "model_name": "LayoutModel",
          "model_module_version": "1.2.0",
          "state": {
            "_model_module": "@jupyter-widgets/base",
            "_model_module_version": "1.2.0",
            "_model_name": "LayoutModel",
            "_view_count": null,
            "_view_module": "@jupyter-widgets/base",
            "_view_module_version": "1.2.0",
            "_view_name": "LayoutView",
            "align_content": null,
            "align_items": null,
            "align_self": null,
            "border": null,
            "bottom": null,
            "display": null,
            "flex": null,
            "flex_flow": null,
            "grid_area": null,
            "grid_auto_columns": null,
            "grid_auto_flow": null,
            "grid_auto_rows": null,
            "grid_column": null,
            "grid_gap": null,
            "grid_row": null,
            "grid_template_areas": null,
            "grid_template_columns": null,
            "grid_template_rows": null,
            "height": null,
            "justify_content": null,
            "justify_items": null,
            "left": null,
            "margin": null,
            "max_height": null,
            "max_width": null,
            "min_height": null,
            "min_width": null,
            "object_fit": null,
            "object_position": null,
            "order": null,
            "overflow": null,
            "overflow_x": null,
            "overflow_y": null,
            "padding": null,
            "right": null,
            "top": null,
            "visibility": null,
            "width": null
          }
        },
        "b468d13b8818453381cf264547822acb": {
          "model_module": "@jupyter-widgets/controls",
          "model_name": "DescriptionStyleModel",
          "model_module_version": "1.5.0",
          "state": {
            "_model_module": "@jupyter-widgets/controls",
            "_model_module_version": "1.5.0",
            "_model_name": "DescriptionStyleModel",
            "_view_count": null,
            "_view_module": "@jupyter-widgets/base",
            "_view_module_version": "1.2.0",
            "_view_name": "StyleView",
            "description_width": ""
          }
        },
        "7033b28c3d604721a2c5242271708407": {
          "model_module": "@jupyter-widgets/controls",
          "model_name": "HBoxModel",
          "model_module_version": "1.5.0",
          "state": {
            "_dom_classes": [],
            "_model_module": "@jupyter-widgets/controls",
            "_model_module_version": "1.5.0",
            "_model_name": "HBoxModel",
            "_view_count": null,
            "_view_module": "@jupyter-widgets/controls",
            "_view_module_version": "1.5.0",
            "_view_name": "HBoxView",
            "box_style": "",
            "children": [
              "IPY_MODEL_d1a426c52301447894fd85ff4a14eec3",
              "IPY_MODEL_5a5c69a31b2249c4b80a3f2be4b69d42",
              "IPY_MODEL_663f9ed508524d61ba5d886bf548f77b"
            ],
            "layout": "IPY_MODEL_75e1b52c3a7940f2891f0e3aa9740388"
          }
        },
        "d1a426c52301447894fd85ff4a14eec3": {
          "model_module": "@jupyter-widgets/controls",
          "model_name": "HTMLModel",
          "model_module_version": "1.5.0",
          "state": {
            "_dom_classes": [],
            "_model_module": "@jupyter-widgets/controls",
            "_model_module_version": "1.5.0",
            "_model_name": "HTMLModel",
            "_view_count": null,
            "_view_module": "@jupyter-widgets/controls",
            "_view_module_version": "1.5.0",
            "_view_name": "HTMLView",
            "description": "",
            "description_tooltip": null,
            "layout": "IPY_MODEL_39b55a488f8543099b320bb085b73278",
            "placeholder": "​",
            "style": "IPY_MODEL_403a3166c93a4a37a217cc391fb383a3",
            "value": "Map: 100%"
          }
        },
        "5a5c69a31b2249c4b80a3f2be4b69d42": {
          "model_module": "@jupyter-widgets/controls",
          "model_name": "FloatProgressModel",
          "model_module_version": "1.5.0",
          "state": {
            "_dom_classes": [],
            "_model_module": "@jupyter-widgets/controls",
            "_model_module_version": "1.5.0",
            "_model_name": "FloatProgressModel",
            "_view_count": null,
            "_view_module": "@jupyter-widgets/controls",
            "_view_module_version": "1.5.0",
            "_view_name": "ProgressView",
            "bar_style": "success",
            "description": "",
            "description_tooltip": null,
            "layout": "IPY_MODEL_4bff8bc80b1643b2843a768a56cee971",
            "max": 25417,
            "min": 0,
            "orientation": "horizontal",
            "style": "IPY_MODEL_98f36bba0604490f9e7353329889e9f9",
            "value": 25417
          }
        },
        "663f9ed508524d61ba5d886bf548f77b": {
          "model_module": "@jupyter-widgets/controls",
          "model_name": "HTMLModel",
          "model_module_version": "1.5.0",
          "state": {
            "_dom_classes": [],
            "_model_module": "@jupyter-widgets/controls",
            "_model_module_version": "1.5.0",
            "_model_name": "HTMLModel",
            "_view_count": null,
            "_view_module": "@jupyter-widgets/controls",
            "_view_module_version": "1.5.0",
            "_view_name": "HTMLView",
            "description": "",
            "description_tooltip": null,
            "layout": "IPY_MODEL_b2bc2459e439452ca5d9ab187c5b4539",
            "placeholder": "​",
            "style": "IPY_MODEL_0275d1a1e5f943f390d484f30fc27825",
            "value": " 25417/25417 [00:13&lt;00:00, 2417.60 examples/s]"
          }
        },
        "75e1b52c3a7940f2891f0e3aa9740388": {
          "model_module": "@jupyter-widgets/base",
          "model_name": "LayoutModel",
          "model_module_version": "1.2.0",
          "state": {
            "_model_module": "@jupyter-widgets/base",
            "_model_module_version": "1.2.0",
            "_model_name": "LayoutModel",
            "_view_count": null,
            "_view_module": "@jupyter-widgets/base",
            "_view_module_version": "1.2.0",
            "_view_name": "LayoutView",
            "align_content": null,
            "align_items": null,
            "align_self": null,
            "border": null,
            "bottom": null,
            "display": null,
            "flex": null,
            "flex_flow": null,
            "grid_area": null,
            "grid_auto_columns": null,
            "grid_auto_flow": null,
            "grid_auto_rows": null,
            "grid_column": null,
            "grid_gap": null,
            "grid_row": null,
            "grid_template_areas": null,
            "grid_template_columns": null,
            "grid_template_rows": null,
            "height": null,
            "justify_content": null,
            "justify_items": null,
            "left": null,
            "margin": null,
            "max_height": null,
            "max_width": null,
            "min_height": null,
            "min_width": null,
            "object_fit": null,
            "object_position": null,
            "order": null,
            "overflow": null,
            "overflow_x": null,
            "overflow_y": null,
            "padding": null,
            "right": null,
            "top": null,
            "visibility": null,
            "width": null
          }
        },
        "39b55a488f8543099b320bb085b73278": {
          "model_module": "@jupyter-widgets/base",
          "model_name": "LayoutModel",
          "model_module_version": "1.2.0",
          "state": {
            "_model_module": "@jupyter-widgets/base",
            "_model_module_version": "1.2.0",
            "_model_name": "LayoutModel",
            "_view_count": null,
            "_view_module": "@jupyter-widgets/base",
            "_view_module_version": "1.2.0",
            "_view_name": "LayoutView",
            "align_content": null,
            "align_items": null,
            "align_self": null,
            "border": null,
            "bottom": null,
            "display": null,
            "flex": null,
            "flex_flow": null,
            "grid_area": null,
            "grid_auto_columns": null,
            "grid_auto_flow": null,
            "grid_auto_rows": null,
            "grid_column": null,
            "grid_gap": null,
            "grid_row": null,
            "grid_template_areas": null,
            "grid_template_columns": null,
            "grid_template_rows": null,
            "height": null,
            "justify_content": null,
            "justify_items": null,
            "left": null,
            "margin": null,
            "max_height": null,
            "max_width": null,
            "min_height": null,
            "min_width": null,
            "object_fit": null,
            "object_position": null,
            "order": null,
            "overflow": null,
            "overflow_x": null,
            "overflow_y": null,
            "padding": null,
            "right": null,
            "top": null,
            "visibility": null,
            "width": null
          }
        },
        "403a3166c93a4a37a217cc391fb383a3": {
          "model_module": "@jupyter-widgets/controls",
          "model_name": "DescriptionStyleModel",
          "model_module_version": "1.5.0",
          "state": {
            "_model_module": "@jupyter-widgets/controls",
            "_model_module_version": "1.5.0",
            "_model_name": "DescriptionStyleModel",
            "_view_count": null,
            "_view_module": "@jupyter-widgets/base",
            "_view_module_version": "1.2.0",
            "_view_name": "StyleView",
            "description_width": ""
          }
        },
        "4bff8bc80b1643b2843a768a56cee971": {
          "model_module": "@jupyter-widgets/base",
          "model_name": "LayoutModel",
          "model_module_version": "1.2.0",
          "state": {
            "_model_module": "@jupyter-widgets/base",
            "_model_module_version": "1.2.0",
            "_model_name": "LayoutModel",
            "_view_count": null,
            "_view_module": "@jupyter-widgets/base",
            "_view_module_version": "1.2.0",
            "_view_name": "LayoutView",
            "align_content": null,
            "align_items": null,
            "align_self": null,
            "border": null,
            "bottom": null,
            "display": null,
            "flex": null,
            "flex_flow": null,
            "grid_area": null,
            "grid_auto_columns": null,
            "grid_auto_flow": null,
            "grid_auto_rows": null,
            "grid_column": null,
            "grid_gap": null,
            "grid_row": null,
            "grid_template_areas": null,
            "grid_template_columns": null,
            "grid_template_rows": null,
            "height": null,
            "justify_content": null,
            "justify_items": null,
            "left": null,
            "margin": null,
            "max_height": null,
            "max_width": null,
            "min_height": null,
            "min_width": null,
            "object_fit": null,
            "object_position": null,
            "order": null,
            "overflow": null,
            "overflow_x": null,
            "overflow_y": null,
            "padding": null,
            "right": null,
            "top": null,
            "visibility": null,
            "width": null
          }
        },
        "98f36bba0604490f9e7353329889e9f9": {
          "model_module": "@jupyter-widgets/controls",
          "model_name": "ProgressStyleModel",
          "model_module_version": "1.5.0",
          "state": {
            "_model_module": "@jupyter-widgets/controls",
            "_model_module_version": "1.5.0",
            "_model_name": "ProgressStyleModel",
            "_view_count": null,
            "_view_module": "@jupyter-widgets/base",
            "_view_module_version": "1.2.0",
            "_view_name": "StyleView",
            "bar_color": null,
            "description_width": ""
          }
        },
        "b2bc2459e439452ca5d9ab187c5b4539": {
          "model_module": "@jupyter-widgets/base",
          "model_name": "LayoutModel",
          "model_module_version": "1.2.0",
          "state": {
            "_model_module": "@jupyter-widgets/base",
            "_model_module_version": "1.2.0",
            "_model_name": "LayoutModel",
            "_view_count": null,
            "_view_module": "@jupyter-widgets/base",
            "_view_module_version": "1.2.0",
            "_view_name": "LayoutView",
            "align_content": null,
            "align_items": null,
            "align_self": null,
            "border": null,
            "bottom": null,
            "display": null,
            "flex": null,
            "flex_flow": null,
            "grid_area": null,
            "grid_auto_columns": null,
            "grid_auto_flow": null,
            "grid_auto_rows": null,
            "grid_column": null,
            "grid_gap": null,
            "grid_row": null,
            "grid_template_areas": null,
            "grid_template_columns": null,
            "grid_template_rows": null,
            "height": null,
            "justify_content": null,
            "justify_items": null,
            "left": null,
            "margin": null,
            "max_height": null,
            "max_width": null,
            "min_height": null,
            "min_width": null,
            "object_fit": null,
            "object_position": null,
            "order": null,
            "overflow": null,
            "overflow_x": null,
            "overflow_y": null,
            "padding": null,
            "right": null,
            "top": null,
            "visibility": null,
            "width": null
          }
        },
        "0275d1a1e5f943f390d484f30fc27825": {
          "model_module": "@jupyter-widgets/controls",
          "model_name": "DescriptionStyleModel",
          "model_module_version": "1.5.0",
          "state": {
            "_model_module": "@jupyter-widgets/controls",
            "_model_module_version": "1.5.0",
            "_model_name": "DescriptionStyleModel",
            "_view_count": null,
            "_view_module": "@jupyter-widgets/base",
            "_view_module_version": "1.2.0",
            "_view_name": "StyleView",
            "description_width": ""
          }
        },
        "b6a112105b58438ba88fe200347551fc": {
          "model_module": "@jupyter-widgets/controls",
          "model_name": "HBoxModel",
          "model_module_version": "1.5.0",
          "state": {
            "_dom_classes": [],
            "_model_module": "@jupyter-widgets/controls",
            "_model_module_version": "1.5.0",
            "_model_name": "HBoxModel",
            "_view_count": null,
            "_view_module": "@jupyter-widgets/controls",
            "_view_module_version": "1.5.0",
            "_view_name": "HBoxView",
            "box_style": "",
            "children": [
              "IPY_MODEL_3abcb8cbeafb4994898adec17696f38d",
              "IPY_MODEL_bbbd6ef1a34d4b1798f4e3d8c2db0508",
              "IPY_MODEL_279494ff8e2a40c8bc56c10a00a7b0dd"
            ],
            "layout": "IPY_MODEL_e0bdd54cdeb942e4a7f3b77f83a973fa"
          }
        },
        "3abcb8cbeafb4994898adec17696f38d": {
          "model_module": "@jupyter-widgets/controls",
          "model_name": "HTMLModel",
          "model_module_version": "1.5.0",
          "state": {
            "_dom_classes": [],
            "_model_module": "@jupyter-widgets/controls",
            "_model_module_version": "1.5.0",
            "_model_name": "HTMLModel",
            "_view_count": null,
            "_view_module": "@jupyter-widgets/controls",
            "_view_module_version": "1.5.0",
            "_view_name": "HTMLView",
            "description": "",
            "description_tooltip": null,
            "layout": "IPY_MODEL_3a72b21d47ad46aca28cced70ee61e5c",
            "placeholder": "​",
            "style": "IPY_MODEL_1845cd69a18c405faa0bb72c2af0c27a",
            "value": "Downloading builder script: 100%"
          }
        },
        "bbbd6ef1a34d4b1798f4e3d8c2db0508": {
          "model_module": "@jupyter-widgets/controls",
          "model_name": "FloatProgressModel",
          "model_module_version": "1.5.0",
          "state": {
            "_dom_classes": [],
            "_model_module": "@jupyter-widgets/controls",
            "_model_module_version": "1.5.0",
            "_model_name": "FloatProgressModel",
            "_view_count": null,
            "_view_module": "@jupyter-widgets/controls",
            "_view_module_version": "1.5.0",
            "_view_name": "ProgressView",
            "bar_style": "success",
            "description": "",
            "description_tooltip": null,
            "layout": "IPY_MODEL_0e8bb89ffe7c4c46a7bd3bd16dd014f4",
            "max": 8146,
            "min": 0,
            "orientation": "horizontal",
            "style": "IPY_MODEL_b1072d7d9a8e4759a9325318f3a70294",
            "value": 8146
          }
        },
        "279494ff8e2a40c8bc56c10a00a7b0dd": {
          "model_module": "@jupyter-widgets/controls",
          "model_name": "HTMLModel",
          "model_module_version": "1.5.0",
          "state": {
            "_dom_classes": [],
            "_model_module": "@jupyter-widgets/controls",
            "_model_module_version": "1.5.0",
            "_model_name": "HTMLModel",
            "_view_count": null,
            "_view_module": "@jupyter-widgets/controls",
            "_view_module_version": "1.5.0",
            "_view_name": "HTMLView",
            "description": "",
            "description_tooltip": null,
            "layout": "IPY_MODEL_b4f84d40389f426ca7d62b018b0f8486",
            "placeholder": "​",
            "style": "IPY_MODEL_4a7ebd9eeb03427cb76ffb59d7b07b07",
            "value": " 8.15k/8.15k [00:00&lt;00:00, 307kB/s]"
          }
        },
        "e0bdd54cdeb942e4a7f3b77f83a973fa": {
          "model_module": "@jupyter-widgets/base",
          "model_name": "LayoutModel",
          "model_module_version": "1.2.0",
          "state": {
            "_model_module": "@jupyter-widgets/base",
            "_model_module_version": "1.2.0",
            "_model_name": "LayoutModel",
            "_view_count": null,
            "_view_module": "@jupyter-widgets/base",
            "_view_module_version": "1.2.0",
            "_view_name": "LayoutView",
            "align_content": null,
            "align_items": null,
            "align_self": null,
            "border": null,
            "bottom": null,
            "display": null,
            "flex": null,
            "flex_flow": null,
            "grid_area": null,
            "grid_auto_columns": null,
            "grid_auto_flow": null,
            "grid_auto_rows": null,
            "grid_column": null,
            "grid_gap": null,
            "grid_row": null,
            "grid_template_areas": null,
            "grid_template_columns": null,
            "grid_template_rows": null,
            "height": null,
            "justify_content": null,
            "justify_items": null,
            "left": null,
            "margin": null,
            "max_height": null,
            "max_width": null,
            "min_height": null,
            "min_width": null,
            "object_fit": null,
            "object_position": null,
            "order": null,
            "overflow": null,
            "overflow_x": null,
            "overflow_y": null,
            "padding": null,
            "right": null,
            "top": null,
            "visibility": null,
            "width": null
          }
        },
        "3a72b21d47ad46aca28cced70ee61e5c": {
          "model_module": "@jupyter-widgets/base",
          "model_name": "LayoutModel",
          "model_module_version": "1.2.0",
          "state": {
            "_model_module": "@jupyter-widgets/base",
            "_model_module_version": "1.2.0",
            "_model_name": "LayoutModel",
            "_view_count": null,
            "_view_module": "@jupyter-widgets/base",
            "_view_module_version": "1.2.0",
            "_view_name": "LayoutView",
            "align_content": null,
            "align_items": null,
            "align_self": null,
            "border": null,
            "bottom": null,
            "display": null,
            "flex": null,
            "flex_flow": null,
            "grid_area": null,
            "grid_auto_columns": null,
            "grid_auto_flow": null,
            "grid_auto_rows": null,
            "grid_column": null,
            "grid_gap": null,
            "grid_row": null,
            "grid_template_areas": null,
            "grid_template_columns": null,
            "grid_template_rows": null,
            "height": null,
            "justify_content": null,
            "justify_items": null,
            "left": null,
            "margin": null,
            "max_height": null,
            "max_width": null,
            "min_height": null,
            "min_width": null,
            "object_fit": null,
            "object_position": null,
            "order": null,
            "overflow": null,
            "overflow_x": null,
            "overflow_y": null,
            "padding": null,
            "right": null,
            "top": null,
            "visibility": null,
            "width": null
          }
        },
        "1845cd69a18c405faa0bb72c2af0c27a": {
          "model_module": "@jupyter-widgets/controls",
          "model_name": "DescriptionStyleModel",
          "model_module_version": "1.5.0",
          "state": {
            "_model_module": "@jupyter-widgets/controls",
            "_model_module_version": "1.5.0",
            "_model_name": "DescriptionStyleModel",
            "_view_count": null,
            "_view_module": "@jupyter-widgets/base",
            "_view_module_version": "1.2.0",
            "_view_name": "StyleView",
            "description_width": ""
          }
        },
        "0e8bb89ffe7c4c46a7bd3bd16dd014f4": {
          "model_module": "@jupyter-widgets/base",
          "model_name": "LayoutModel",
          "model_module_version": "1.2.0",
          "state": {
            "_model_module": "@jupyter-widgets/base",
            "_model_module_version": "1.2.0",
            "_model_name": "LayoutModel",
            "_view_count": null,
            "_view_module": "@jupyter-widgets/base",
            "_view_module_version": "1.2.0",
            "_view_name": "LayoutView",
            "align_content": null,
            "align_items": null,
            "align_self": null,
            "border": null,
            "bottom": null,
            "display": null,
            "flex": null,
            "flex_flow": null,
            "grid_area": null,
            "grid_auto_columns": null,
            "grid_auto_flow": null,
            "grid_auto_rows": null,
            "grid_column": null,
            "grid_gap": null,
            "grid_row": null,
            "grid_template_areas": null,
            "grid_template_columns": null,
            "grid_template_rows": null,
            "height": null,
            "justify_content": null,
            "justify_items": null,
            "left": null,
            "margin": null,
            "max_height": null,
            "max_width": null,
            "min_height": null,
            "min_width": null,
            "object_fit": null,
            "object_position": null,
            "order": null,
            "overflow": null,
            "overflow_x": null,
            "overflow_y": null,
            "padding": null,
            "right": null,
            "top": null,
            "visibility": null,
            "width": null
          }
        },
        "b1072d7d9a8e4759a9325318f3a70294": {
          "model_module": "@jupyter-widgets/controls",
          "model_name": "ProgressStyleModel",
          "model_module_version": "1.5.0",
          "state": {
            "_model_module": "@jupyter-widgets/controls",
            "_model_module_version": "1.5.0",
            "_model_name": "ProgressStyleModel",
            "_view_count": null,
            "_view_module": "@jupyter-widgets/base",
            "_view_module_version": "1.2.0",
            "_view_name": "StyleView",
            "bar_color": null,
            "description_width": ""
          }
        },
        "b4f84d40389f426ca7d62b018b0f8486": {
          "model_module": "@jupyter-widgets/base",
          "model_name": "LayoutModel",
          "model_module_version": "1.2.0",
          "state": {
            "_model_module": "@jupyter-widgets/base",
            "_model_module_version": "1.2.0",
            "_model_name": "LayoutModel",
            "_view_count": null,
            "_view_module": "@jupyter-widgets/base",
            "_view_module_version": "1.2.0",
            "_view_name": "LayoutView",
            "align_content": null,
            "align_items": null,
            "align_self": null,
            "border": null,
            "bottom": null,
            "display": null,
            "flex": null,
            "flex_flow": null,
            "grid_area": null,
            "grid_auto_columns": null,
            "grid_auto_flow": null,
            "grid_auto_rows": null,
            "grid_column": null,
            "grid_gap": null,
            "grid_row": null,
            "grid_template_areas": null,
            "grid_template_columns": null,
            "grid_template_rows": null,
            "height": null,
            "justify_content": null,
            "justify_items": null,
            "left": null,
            "margin": null,
            "max_height": null,
            "max_width": null,
            "min_height": null,
            "min_width": null,
            "object_fit": null,
            "object_position": null,
            "order": null,
            "overflow": null,
            "overflow_x": null,
            "overflow_y": null,
            "padding": null,
            "right": null,
            "top": null,
            "visibility": null,
            "width": null
          }
        },
        "4a7ebd9eeb03427cb76ffb59d7b07b07": {
          "model_module": "@jupyter-widgets/controls",
          "model_name": "DescriptionStyleModel",
          "model_module_version": "1.5.0",
          "state": {
            "_model_module": "@jupyter-widgets/controls",
            "_model_module_version": "1.5.0",
            "_model_name": "DescriptionStyleModel",
            "_view_count": null,
            "_view_module": "@jupyter-widgets/base",
            "_view_module_version": "1.2.0",
            "_view_name": "StyleView",
            "description_width": ""
          }
        },
        "79dd2fe916ac49ae8008b8004a4dee0a": {
          "model_module": "@jupyter-widgets/controls",
          "model_name": "HBoxModel",
          "model_module_version": "1.5.0",
          "state": {
            "_dom_classes": [],
            "_model_module": "@jupyter-widgets/controls",
            "_model_module_version": "1.5.0",
            "_model_name": "HBoxModel",
            "_view_count": null,
            "_view_module": "@jupyter-widgets/controls",
            "_view_module_version": "1.5.0",
            "_view_name": "HBoxView",
            "box_style": "",
            "children": [
              "IPY_MODEL_3c6f58cfad4c4104a76a2a507ea6b69c",
              "IPY_MODEL_0dc1a29ac0224c64a01a2f59611efdad",
              "IPY_MODEL_f7f9e859c1b94cc1a25e276f266a7f65"
            ],
            "layout": "IPY_MODEL_306468fc0fbe459188d8d3617bfb2607"
          }
        },
        "3c6f58cfad4c4104a76a2a507ea6b69c": {
          "model_module": "@jupyter-widgets/controls",
          "model_name": "HTMLModel",
          "model_module_version": "1.5.0",
          "state": {
            "_dom_classes": [],
            "_model_module": "@jupyter-widgets/controls",
            "_model_module_version": "1.5.0",
            "_model_name": "HTMLModel",
            "_view_count": null,
            "_view_module": "@jupyter-widgets/controls",
            "_view_module_version": "1.5.0",
            "_view_name": "HTMLView",
            "description": "",
            "description_tooltip": null,
            "layout": "IPY_MODEL_c37f9bbeb2c24b23b983cc47c570a873",
            "placeholder": "​",
            "style": "IPY_MODEL_47e91d3482884264b3da6e08722f1bbb",
            "value": "config.json: 100%"
          }
        },
        "0dc1a29ac0224c64a01a2f59611efdad": {
          "model_module": "@jupyter-widgets/controls",
          "model_name": "FloatProgressModel",
          "model_module_version": "1.5.0",
          "state": {
            "_dom_classes": [],
            "_model_module": "@jupyter-widgets/controls",
            "_model_module_version": "1.5.0",
            "_model_name": "FloatProgressModel",
            "_view_count": null,
            "_view_module": "@jupyter-widgets/controls",
            "_view_module_version": "1.5.0",
            "_view_name": "ProgressView",
            "bar_style": "success",
            "description": "",
            "description_tooltip": null,
            "layout": "IPY_MODEL_39c5a4458465420bae0ba590081ae7e4",
            "max": 1206,
            "min": 0,
            "orientation": "horizontal",
            "style": "IPY_MODEL_2f907ddbfb8940baa680c3ecf085f0a7",
            "value": 1206
          }
        },
        "f7f9e859c1b94cc1a25e276f266a7f65": {
          "model_module": "@jupyter-widgets/controls",
          "model_name": "HTMLModel",
          "model_module_version": "1.5.0",
          "state": {
            "_dom_classes": [],
            "_model_module": "@jupyter-widgets/controls",
            "_model_module_version": "1.5.0",
            "_model_name": "HTMLModel",
            "_view_count": null,
            "_view_module": "@jupyter-widgets/controls",
            "_view_module_version": "1.5.0",
            "_view_name": "HTMLView",
            "description": "",
            "description_tooltip": null,
            "layout": "IPY_MODEL_02525391b7c348f18bbfc1a29d06d901",
            "placeholder": "​",
            "style": "IPY_MODEL_3e1248dc7f714b61bbccb5f00a04cfd0",
            "value": " 1.21k/1.21k [00:00&lt;00:00, 65.9kB/s]"
          }
        },
        "306468fc0fbe459188d8d3617bfb2607": {
          "model_module": "@jupyter-widgets/base",
          "model_name": "LayoutModel",
          "model_module_version": "1.2.0",
          "state": {
            "_model_module": "@jupyter-widgets/base",
            "_model_module_version": "1.2.0",
            "_model_name": "LayoutModel",
            "_view_count": null,
            "_view_module": "@jupyter-widgets/base",
            "_view_module_version": "1.2.0",
            "_view_name": "LayoutView",
            "align_content": null,
            "align_items": null,
            "align_self": null,
            "border": null,
            "bottom": null,
            "display": null,
            "flex": null,
            "flex_flow": null,
            "grid_area": null,
            "grid_auto_columns": null,
            "grid_auto_flow": null,
            "grid_auto_rows": null,
            "grid_column": null,
            "grid_gap": null,
            "grid_row": null,
            "grid_template_areas": null,
            "grid_template_columns": null,
            "grid_template_rows": null,
            "height": null,
            "justify_content": null,
            "justify_items": null,
            "left": null,
            "margin": null,
            "max_height": null,
            "max_width": null,
            "min_height": null,
            "min_width": null,
            "object_fit": null,
            "object_position": null,
            "order": null,
            "overflow": null,
            "overflow_x": null,
            "overflow_y": null,
            "padding": null,
            "right": null,
            "top": null,
            "visibility": null,
            "width": null
          }
        },
        "c37f9bbeb2c24b23b983cc47c570a873": {
          "model_module": "@jupyter-widgets/base",
          "model_name": "LayoutModel",
          "model_module_version": "1.2.0",
          "state": {
            "_model_module": "@jupyter-widgets/base",
            "_model_module_version": "1.2.0",
            "_model_name": "LayoutModel",
            "_view_count": null,
            "_view_module": "@jupyter-widgets/base",
            "_view_module_version": "1.2.0",
            "_view_name": "LayoutView",
            "align_content": null,
            "align_items": null,
            "align_self": null,
            "border": null,
            "bottom": null,
            "display": null,
            "flex": null,
            "flex_flow": null,
            "grid_area": null,
            "grid_auto_columns": null,
            "grid_auto_flow": null,
            "grid_auto_rows": null,
            "grid_column": null,
            "grid_gap": null,
            "grid_row": null,
            "grid_template_areas": null,
            "grid_template_columns": null,
            "grid_template_rows": null,
            "height": null,
            "justify_content": null,
            "justify_items": null,
            "left": null,
            "margin": null,
            "max_height": null,
            "max_width": null,
            "min_height": null,
            "min_width": null,
            "object_fit": null,
            "object_position": null,
            "order": null,
            "overflow": null,
            "overflow_x": null,
            "overflow_y": null,
            "padding": null,
            "right": null,
            "top": null,
            "visibility": null,
            "width": null
          }
        },
        "47e91d3482884264b3da6e08722f1bbb": {
          "model_module": "@jupyter-widgets/controls",
          "model_name": "DescriptionStyleModel",
          "model_module_version": "1.5.0",
          "state": {
            "_model_module": "@jupyter-widgets/controls",
            "_model_module_version": "1.5.0",
            "_model_name": "DescriptionStyleModel",
            "_view_count": null,
            "_view_module": "@jupyter-widgets/base",
            "_view_module_version": "1.2.0",
            "_view_name": "StyleView",
            "description_width": ""
          }
        },
        "39c5a4458465420bae0ba590081ae7e4": {
          "model_module": "@jupyter-widgets/base",
          "model_name": "LayoutModel",
          "model_module_version": "1.2.0",
          "state": {
            "_model_module": "@jupyter-widgets/base",
            "_model_module_version": "1.2.0",
            "_model_name": "LayoutModel",
            "_view_count": null,
            "_view_module": "@jupyter-widgets/base",
            "_view_module_version": "1.2.0",
            "_view_name": "LayoutView",
            "align_content": null,
            "align_items": null,
            "align_self": null,
            "border": null,
            "bottom": null,
            "display": null,
            "flex": null,
            "flex_flow": null,
            "grid_area": null,
            "grid_auto_columns": null,
            "grid_auto_flow": null,
            "grid_auto_rows": null,
            "grid_column": null,
            "grid_gap": null,
            "grid_row": null,
            "grid_template_areas": null,
            "grid_template_columns": null,
            "grid_template_rows": null,
            "height": null,
            "justify_content": null,
            "justify_items": null,
            "left": null,
            "margin": null,
            "max_height": null,
            "max_width": null,
            "min_height": null,
            "min_width": null,
            "object_fit": null,
            "object_position": null,
            "order": null,
            "overflow": null,
            "overflow_x": null,
            "overflow_y": null,
            "padding": null,
            "right": null,
            "top": null,
            "visibility": null,
            "width": null
          }
        },
        "2f907ddbfb8940baa680c3ecf085f0a7": {
          "model_module": "@jupyter-widgets/controls",
          "model_name": "ProgressStyleModel",
          "model_module_version": "1.5.0",
          "state": {
            "_model_module": "@jupyter-widgets/controls",
            "_model_module_version": "1.5.0",
            "_model_name": "ProgressStyleModel",
            "_view_count": null,
            "_view_module": "@jupyter-widgets/base",
            "_view_module_version": "1.2.0",
            "_view_name": "StyleView",
            "bar_color": null,
            "description_width": ""
          }
        },
        "02525391b7c348f18bbfc1a29d06d901": {
          "model_module": "@jupyter-widgets/base",
          "model_name": "LayoutModel",
          "model_module_version": "1.2.0",
          "state": {
            "_model_module": "@jupyter-widgets/base",
            "_model_module_version": "1.2.0",
            "_model_name": "LayoutModel",
            "_view_count": null,
            "_view_module": "@jupyter-widgets/base",
            "_view_module_version": "1.2.0",
            "_view_name": "LayoutView",
            "align_content": null,
            "align_items": null,
            "align_self": null,
            "border": null,
            "bottom": null,
            "display": null,
            "flex": null,
            "flex_flow": null,
            "grid_area": null,
            "grid_auto_columns": null,
            "grid_auto_flow": null,
            "grid_auto_rows": null,
            "grid_column": null,
            "grid_gap": null,
            "grid_row": null,
            "grid_template_areas": null,
            "grid_template_columns": null,
            "grid_template_rows": null,
            "height": null,
            "justify_content": null,
            "justify_items": null,
            "left": null,
            "margin": null,
            "max_height": null,
            "max_width": null,
            "min_height": null,
            "min_width": null,
            "object_fit": null,
            "object_position": null,
            "order": null,
            "overflow": null,
            "overflow_x": null,
            "overflow_y": null,
            "padding": null,
            "right": null,
            "top": null,
            "visibility": null,
            "width": null
          }
        },
        "3e1248dc7f714b61bbccb5f00a04cfd0": {
          "model_module": "@jupyter-widgets/controls",
          "model_name": "DescriptionStyleModel",
          "model_module_version": "1.5.0",
          "state": {
            "_model_module": "@jupyter-widgets/controls",
            "_model_module_version": "1.5.0",
            "_model_name": "DescriptionStyleModel",
            "_view_count": null,
            "_view_module": "@jupyter-widgets/base",
            "_view_module_version": "1.2.0",
            "_view_name": "StyleView",
            "description_width": ""
          }
        },
        "46d62b28ec4d4591b41972240008a95c": {
          "model_module": "@jupyter-widgets/controls",
          "model_name": "HBoxModel",
          "model_module_version": "1.5.0",
          "state": {
            "_dom_classes": [],
            "_model_module": "@jupyter-widgets/controls",
            "_model_module_version": "1.5.0",
            "_model_name": "HBoxModel",
            "_view_count": null,
            "_view_module": "@jupyter-widgets/controls",
            "_view_module_version": "1.5.0",
            "_view_name": "HBoxView",
            "box_style": "",
            "children": [
              "IPY_MODEL_447e5368c75143c9b8e6e9df421197c0",
              "IPY_MODEL_484ba56a9dc3452daaff393d9b4eeb74",
              "IPY_MODEL_e3551b559d884a49a141bb4ddff61648"
            ],
            "layout": "IPY_MODEL_d67b72fb0cff4d9c852af24ca0affadf"
          }
        },
        "447e5368c75143c9b8e6e9df421197c0": {
          "model_module": "@jupyter-widgets/controls",
          "model_name": "HTMLModel",
          "model_module_version": "1.5.0",
          "state": {
            "_dom_classes": [],
            "_model_module": "@jupyter-widgets/controls",
            "_model_module_version": "1.5.0",
            "_model_name": "HTMLModel",
            "_view_count": null,
            "_view_module": "@jupyter-widgets/controls",
            "_view_module_version": "1.5.0",
            "_view_name": "HTMLView",
            "description": "",
            "description_tooltip": null,
            "layout": "IPY_MODEL_28861b1116074858b17a5484e764b373",
            "placeholder": "​",
            "style": "IPY_MODEL_274d33d8ee024299b6a31e3223cb904f",
            "value": "model.safetensors: 100%"
          }
        },
        "484ba56a9dc3452daaff393d9b4eeb74": {
          "model_module": "@jupyter-widgets/controls",
          "model_name": "FloatProgressModel",
          "model_module_version": "1.5.0",
          "state": {
            "_dom_classes": [],
            "_model_module": "@jupyter-widgets/controls",
            "_model_module_version": "1.5.0",
            "_model_name": "FloatProgressModel",
            "_view_count": null,
            "_view_module": "@jupyter-widgets/controls",
            "_view_module_version": "1.5.0",
            "_view_name": "ProgressView",
            "bar_style": "success",
            "description": "",
            "description_tooltip": null,
            "layout": "IPY_MODEL_1a95f0f3346b4b1a9c229a094fdfe544",
            "max": 242043056,
            "min": 0,
            "orientation": "horizontal",
            "style": "IPY_MODEL_ec5e63b0fc7446d7a19179b0e9c5881f",
            "value": 242043056
          }
        },
        "e3551b559d884a49a141bb4ddff61648": {
          "model_module": "@jupyter-widgets/controls",
          "model_name": "HTMLModel",
          "model_module_version": "1.5.0",
          "state": {
            "_dom_classes": [],
            "_model_module": "@jupyter-widgets/controls",
            "_model_module_version": "1.5.0",
            "_model_name": "HTMLModel",
            "_view_count": null,
            "_view_module": "@jupyter-widgets/controls",
            "_view_module_version": "1.5.0",
            "_view_name": "HTMLView",
            "description": "",
            "description_tooltip": null,
            "layout": "IPY_MODEL_eeab48acc8a6416184c62fa3f9f822f5",
            "placeholder": "​",
            "style": "IPY_MODEL_616340a0acb044e19ab5ddef72cb8054",
            "value": " 242M/242M [00:02&lt;00:00, 110MB/s]"
          }
        },
        "d67b72fb0cff4d9c852af24ca0affadf": {
          "model_module": "@jupyter-widgets/base",
          "model_name": "LayoutModel",
          "model_module_version": "1.2.0",
          "state": {
            "_model_module": "@jupyter-widgets/base",
            "_model_module_version": "1.2.0",
            "_model_name": "LayoutModel",
            "_view_count": null,
            "_view_module": "@jupyter-widgets/base",
            "_view_module_version": "1.2.0",
            "_view_name": "LayoutView",
            "align_content": null,
            "align_items": null,
            "align_self": null,
            "border": null,
            "bottom": null,
            "display": null,
            "flex": null,
            "flex_flow": null,
            "grid_area": null,
            "grid_auto_columns": null,
            "grid_auto_flow": null,
            "grid_auto_rows": null,
            "grid_column": null,
            "grid_gap": null,
            "grid_row": null,
            "grid_template_areas": null,
            "grid_template_columns": null,
            "grid_template_rows": null,
            "height": null,
            "justify_content": null,
            "justify_items": null,
            "left": null,
            "margin": null,
            "max_height": null,
            "max_width": null,
            "min_height": null,
            "min_width": null,
            "object_fit": null,
            "object_position": null,
            "order": null,
            "overflow": null,
            "overflow_x": null,
            "overflow_y": null,
            "padding": null,
            "right": null,
            "top": null,
            "visibility": null,
            "width": null
          }
        },
        "28861b1116074858b17a5484e764b373": {
          "model_module": "@jupyter-widgets/base",
          "model_name": "LayoutModel",
          "model_module_version": "1.2.0",
          "state": {
            "_model_module": "@jupyter-widgets/base",
            "_model_module_version": "1.2.0",
            "_model_name": "LayoutModel",
            "_view_count": null,
            "_view_module": "@jupyter-widgets/base",
            "_view_module_version": "1.2.0",
            "_view_name": "LayoutView",
            "align_content": null,
            "align_items": null,
            "align_self": null,
            "border": null,
            "bottom": null,
            "display": null,
            "flex": null,
            "flex_flow": null,
            "grid_area": null,
            "grid_auto_columns": null,
            "grid_auto_flow": null,
            "grid_auto_rows": null,
            "grid_column": null,
            "grid_gap": null,
            "grid_row": null,
            "grid_template_areas": null,
            "grid_template_columns": null,
            "grid_template_rows": null,
            "height": null,
            "justify_content": null,
            "justify_items": null,
            "left": null,
            "margin": null,
            "max_height": null,
            "max_width": null,
            "min_height": null,
            "min_width": null,
            "object_fit": null,
            "object_position": null,
            "order": null,
            "overflow": null,
            "overflow_x": null,
            "overflow_y": null,
            "padding": null,
            "right": null,
            "top": null,
            "visibility": null,
            "width": null
          }
        },
        "274d33d8ee024299b6a31e3223cb904f": {
          "model_module": "@jupyter-widgets/controls",
          "model_name": "DescriptionStyleModel",
          "model_module_version": "1.5.0",
          "state": {
            "_model_module": "@jupyter-widgets/controls",
            "_model_module_version": "1.5.0",
            "_model_name": "DescriptionStyleModel",
            "_view_count": null,
            "_view_module": "@jupyter-widgets/base",
            "_view_module_version": "1.2.0",
            "_view_name": "StyleView",
            "description_width": ""
          }
        },
        "1a95f0f3346b4b1a9c229a094fdfe544": {
          "model_module": "@jupyter-widgets/base",
          "model_name": "LayoutModel",
          "model_module_version": "1.2.0",
          "state": {
            "_model_module": "@jupyter-widgets/base",
            "_model_module_version": "1.2.0",
            "_model_name": "LayoutModel",
            "_view_count": null,
            "_view_module": "@jupyter-widgets/base",
            "_view_module_version": "1.2.0",
            "_view_name": "LayoutView",
            "align_content": null,
            "align_items": null,
            "align_self": null,
            "border": null,
            "bottom": null,
            "display": null,
            "flex": null,
            "flex_flow": null,
            "grid_area": null,
            "grid_auto_columns": null,
            "grid_auto_flow": null,
            "grid_auto_rows": null,
            "grid_column": null,
            "grid_gap": null,
            "grid_row": null,
            "grid_template_areas": null,
            "grid_template_columns": null,
            "grid_template_rows": null,
            "height": null,
            "justify_content": null,
            "justify_items": null,
            "left": null,
            "margin": null,
            "max_height": null,
            "max_width": null,
            "min_height": null,
            "min_width": null,
            "object_fit": null,
            "object_position": null,
            "order": null,
            "overflow": null,
            "overflow_x": null,
            "overflow_y": null,
            "padding": null,
            "right": null,
            "top": null,
            "visibility": null,
            "width": null
          }
        },
        "ec5e63b0fc7446d7a19179b0e9c5881f": {
          "model_module": "@jupyter-widgets/controls",
          "model_name": "ProgressStyleModel",
          "model_module_version": "1.5.0",
          "state": {
            "_model_module": "@jupyter-widgets/controls",
            "_model_module_version": "1.5.0",
            "_model_name": "ProgressStyleModel",
            "_view_count": null,
            "_view_module": "@jupyter-widgets/base",
            "_view_module_version": "1.2.0",
            "_view_name": "StyleView",
            "bar_color": null,
            "description_width": ""
          }
        },
        "eeab48acc8a6416184c62fa3f9f822f5": {
          "model_module": "@jupyter-widgets/base",
          "model_name": "LayoutModel",
          "model_module_version": "1.2.0",
          "state": {
            "_model_module": "@jupyter-widgets/base",
            "_model_module_version": "1.2.0",
            "_model_name": "LayoutModel",
            "_view_count": null,
            "_view_module": "@jupyter-widgets/base",
            "_view_module_version": "1.2.0",
            "_view_name": "LayoutView",
            "align_content": null,
            "align_items": null,
            "align_self": null,
            "border": null,
            "bottom": null,
            "display": null,
            "flex": null,
            "flex_flow": null,
            "grid_area": null,
            "grid_auto_columns": null,
            "grid_auto_flow": null,
            "grid_auto_rows": null,
            "grid_column": null,
            "grid_gap": null,
            "grid_row": null,
            "grid_template_areas": null,
            "grid_template_columns": null,
            "grid_template_rows": null,
            "height": null,
            "justify_content": null,
            "justify_items": null,
            "left": null,
            "margin": null,
            "max_height": null,
            "max_width": null,
            "min_height": null,
            "min_width": null,
            "object_fit": null,
            "object_position": null,
            "order": null,
            "overflow": null,
            "overflow_x": null,
            "overflow_y": null,
            "padding": null,
            "right": null,
            "top": null,
            "visibility": null,
            "width": null
          }
        },
        "616340a0acb044e19ab5ddef72cb8054": {
          "model_module": "@jupyter-widgets/controls",
          "model_name": "DescriptionStyleModel",
          "model_module_version": "1.5.0",
          "state": {
            "_model_module": "@jupyter-widgets/controls",
            "_model_module_version": "1.5.0",
            "_model_name": "DescriptionStyleModel",
            "_view_count": null,
            "_view_module": "@jupyter-widgets/base",
            "_view_module_version": "1.2.0",
            "_view_name": "StyleView",
            "description_width": ""
          }
        }
      }
    }
  },
  "cells": [
    {
      "cell_type": "markdown",
      "source": [
        "#Translation - T5"
      ],
      "metadata": {
        "id": "LCEqoZiCq-qz"
      }
    },
    {
      "cell_type": "markdown",
      "source": [
        "T5X následovník T5, nefunkční:\n",
        "*   Neúplná a nepřehledná [dokumentace T5X](https://t5x.readthedocs.io/en/latest/usage/infer-files.html#step-1-choose-a-model)\n",
        "*   Google Cloud Storage - problémy s autentizací - placené úložiště, nefunkční načtení předtrénovaných modelů z GCS\n",
        "* Chybějící spouštěcí modul: *infer_unfragmented*\n",
        "\n",
        "\n"
      ],
      "metadata": {
        "id": "neIyCoMWiWsX"
      }
    },
    {
      "cell_type": "markdown",
      "source": [
        "####Tento notebook se zabývá převodem textu z jednoho jazyka do druhého na základě námi vytrénovaného nebo již předtrénovaného modelu T5 s využitím datasetu, na kterém byl model natrénovaný.\n",
        "\n",
        "***Knihovna T5 slouží k načítání, předzpracování, kombinování a evaluaci datových sad. Poskytuje také možnost dotrénovat (fine-tune) předtrénované modely.Využíváme knihovny, které umožňují přístup k předtrénovaným modelům a datasetům na platformě HuggingFace.***\n",
        "\n",
        "*Knihovna může být využita pro budoucí vývoj modelů poskytováním užitečných modulů pro trénování a dotrénování (potenciálně rozsáhlých) modelů na bázi text-to-text úloh.*\n",
        "\n",
        "- Odkaz na využívaný repozitář:\n",
        "[Repozitář](https://github.com/google-research/text-to-text-transfer-transformer.git)\n",
        "\n",
        "- Návod Hugging Face: [HuggingFace](https://huggingface.co/docs/transformers/tasks/translation?fbclid=IwAR13_un46roXn_ggkjeiqQFovRYmKVyeOpGFLDstlGRYZHzm14CQqpCnnJ4)\n",
        "\n",
        "- Dataset HuggingFace: [Dataset - OPUS books](https://huggingface.co/datasets/opus_books/viewer/en-fr/)"
      ],
      "metadata": {
        "id": "Cj0yi6fLrb8D"
      }
    },
    {
      "cell_type": "markdown",
      "source": [
        "### 1. Instalace potřebných packages"
      ],
      "metadata": {
        "id": "sjOEoNyTsrES"
      }
    },
    {
      "cell_type": "markdown",
      "source": [
        "*   **transformers** - knihovna od HuggingFace poskytuje přístup k předtrénovaným modelům pro zpracování přirozeného jazyka, včetně modelů z rodiny Transformer, jako je např. **T5**, BERT nebo GPT\n",
        "*   **datasets** - poskytuje přístup k mnoha datasetům pro zpracování přirozeného jazyka, obsahuje funkce pro načítání, předzpracování a práci s různými datovými sadami, což zjednodušuje experimentování s různými daty\n",
        "*   **evaluate** - pro vyhodnocování výsledků modelu, v tomto kontextu obsahuje kód pro vyhodnocování kvality překladů nebo výkonu modelu na konkrétní úloze\n",
        "*   **sacrebleu** - používán pro vyhodnocování přesnosti překladů v kontextu práce s překladatelskými modely\n",
        "\n",
        "\n",
        "\n"
      ],
      "metadata": {
        "id": "hONgUEMJwAYH"
      }
    },
    {
      "cell_type": "code",
      "execution_count": null,
      "metadata": {
        "colab": {
          "base_uri": "https://localhost:8080/"
        },
        "id": "9Q_YLlvoqc7s",
        "outputId": "f99917dd-3b3d-4c44-a654-af5d19c639d0"
      },
      "outputs": [
        {
          "output_type": "stream",
          "name": "stdout",
          "text": [
            "Requirement already satisfied: transformers in /usr/local/lib/python3.10/dist-packages (4.35.2)\n",
            "Collecting datasets\n",
            "  Downloading datasets-2.15.0-py3-none-any.whl (521 kB)\n",
            "\u001b[2K     \u001b[90m━━━━━━━━━━━━━━━━━━━━━━━━━━━━━━━━━━━━━━━━\u001b[0m \u001b[32m521.2/521.2 kB\u001b[0m \u001b[31m5.4 MB/s\u001b[0m eta \u001b[36m0:00:00\u001b[0m\n",
            "\u001b[?25hCollecting evaluate\n",
            "  Downloading evaluate-0.4.1-py3-none-any.whl (84 kB)\n",
            "\u001b[2K     \u001b[90m━━━━━━━━━━━━━━━━━━━━━━━━━━━━━━━━━━━━━━━━\u001b[0m \u001b[32m84.1/84.1 kB\u001b[0m \u001b[31m8.9 MB/s\u001b[0m eta \u001b[36m0:00:00\u001b[0m\n",
            "\u001b[?25hCollecting sacrebleu\n",
            "  Downloading sacrebleu-2.3.3-py3-none-any.whl (106 kB)\n",
            "\u001b[2K     \u001b[90m━━━━━━━━━━━━━━━━━━━━━━━━━━━━━━━━━━━━━━━━\u001b[0m \u001b[32m106.4/106.4 kB\u001b[0m \u001b[31m7.4 MB/s\u001b[0m eta \u001b[36m0:00:00\u001b[0m\n",
            "\u001b[?25hRequirement already satisfied: filelock in /usr/local/lib/python3.10/dist-packages (from transformers) (3.13.1)\n",
            "Requirement already satisfied: huggingface-hub<1.0,>=0.16.4 in /usr/local/lib/python3.10/dist-packages (from transformers) (0.19.4)\n",
            "Requirement already satisfied: numpy>=1.17 in /usr/local/lib/python3.10/dist-packages (from transformers) (1.23.5)\n",
            "Requirement already satisfied: packaging>=20.0 in /usr/local/lib/python3.10/dist-packages (from transformers) (23.2)\n",
            "Requirement already satisfied: pyyaml>=5.1 in /usr/local/lib/python3.10/dist-packages (from transformers) (6.0.1)\n",
            "Requirement already satisfied: regex!=2019.12.17 in /usr/local/lib/python3.10/dist-packages (from transformers) (2023.6.3)\n",
            "Requirement already satisfied: requests in /usr/local/lib/python3.10/dist-packages (from transformers) (2.31.0)\n",
            "Requirement already satisfied: tokenizers<0.19,>=0.14 in /usr/local/lib/python3.10/dist-packages (from transformers) (0.15.0)\n",
            "Requirement already satisfied: safetensors>=0.3.1 in /usr/local/lib/python3.10/dist-packages (from transformers) (0.4.1)\n",
            "Requirement already satisfied: tqdm>=4.27 in /usr/local/lib/python3.10/dist-packages (from transformers) (4.66.1)\n",
            "Requirement already satisfied: pyarrow>=8.0.0 in /usr/local/lib/python3.10/dist-packages (from datasets) (9.0.0)\n",
            "Collecting pyarrow-hotfix (from datasets)\n",
            "  Downloading pyarrow_hotfix-0.6-py3-none-any.whl (7.9 kB)\n",
            "Collecting dill<0.3.8,>=0.3.0 (from datasets)\n",
            "  Downloading dill-0.3.7-py3-none-any.whl (115 kB)\n",
            "\u001b[2K     \u001b[90m━━━━━━━━━━━━━━━━━━━━━━━━━━━━━━━━━━━━━━━━\u001b[0m \u001b[32m115.3/115.3 kB\u001b[0m \u001b[31m8.7 MB/s\u001b[0m eta \u001b[36m0:00:00\u001b[0m\n",
            "\u001b[?25hRequirement already satisfied: pandas in /usr/local/lib/python3.10/dist-packages (from datasets) (1.5.3)\n",
            "Requirement already satisfied: xxhash in /usr/local/lib/python3.10/dist-packages (from datasets) (3.4.1)\n",
            "Collecting multiprocess (from datasets)\n",
            "  Downloading multiprocess-0.70.15-py310-none-any.whl (134 kB)\n",
            "\u001b[2K     \u001b[90m━━━━━━━━━━━━━━━━━━━━━━━━━━━━━━━━━━━━━━━━\u001b[0m \u001b[32m134.8/134.8 kB\u001b[0m \u001b[31m6.7 MB/s\u001b[0m eta \u001b[36m0:00:00\u001b[0m\n",
            "\u001b[?25hRequirement already satisfied: fsspec[http]<=2023.10.0,>=2023.1.0 in /usr/local/lib/python3.10/dist-packages (from datasets) (2023.6.0)\n",
            "Requirement already satisfied: aiohttp in /usr/local/lib/python3.10/dist-packages (from datasets) (3.9.1)\n",
            "Collecting responses<0.19 (from evaluate)\n",
            "  Downloading responses-0.18.0-py3-none-any.whl (38 kB)\n",
            "Collecting portalocker (from sacrebleu)\n",
            "  Downloading portalocker-2.8.2-py3-none-any.whl (17 kB)\n",
            "Requirement already satisfied: tabulate>=0.8.9 in /usr/local/lib/python3.10/dist-packages (from sacrebleu) (0.9.0)\n",
            "Collecting colorama (from sacrebleu)\n",
            "  Downloading colorama-0.4.6-py2.py3-none-any.whl (25 kB)\n",
            "Requirement already satisfied: lxml in /usr/local/lib/python3.10/dist-packages (from sacrebleu) (4.9.3)\n",
            "Requirement already satisfied: attrs>=17.3.0 in /usr/local/lib/python3.10/dist-packages (from aiohttp->datasets) (23.1.0)\n",
            "Requirement already satisfied: multidict<7.0,>=4.5 in /usr/local/lib/python3.10/dist-packages (from aiohttp->datasets) (6.0.4)\n",
            "Requirement already satisfied: yarl<2.0,>=1.0 in /usr/local/lib/python3.10/dist-packages (from aiohttp->datasets) (1.9.3)\n",
            "Requirement already satisfied: frozenlist>=1.1.1 in /usr/local/lib/python3.10/dist-packages (from aiohttp->datasets) (1.4.0)\n",
            "Requirement already satisfied: aiosignal>=1.1.2 in /usr/local/lib/python3.10/dist-packages (from aiohttp->datasets) (1.3.1)\n",
            "Requirement already satisfied: async-timeout<5.0,>=4.0 in /usr/local/lib/python3.10/dist-packages (from aiohttp->datasets) (4.0.3)\n",
            "Requirement already satisfied: typing-extensions>=3.7.4.3 in /usr/local/lib/python3.10/dist-packages (from huggingface-hub<1.0,>=0.16.4->transformers) (4.5.0)\n",
            "Requirement already satisfied: charset-normalizer<4,>=2 in /usr/local/lib/python3.10/dist-packages (from requests->transformers) (3.3.2)\n",
            "Requirement already satisfied: idna<4,>=2.5 in /usr/local/lib/python3.10/dist-packages (from requests->transformers) (3.6)\n",
            "Requirement already satisfied: urllib3<3,>=1.21.1 in /usr/local/lib/python3.10/dist-packages (from requests->transformers) (2.0.7)\n",
            "Requirement already satisfied: certifi>=2017.4.17 in /usr/local/lib/python3.10/dist-packages (from requests->transformers) (2023.11.17)\n",
            "Requirement already satisfied: python-dateutil>=2.8.1 in /usr/local/lib/python3.10/dist-packages (from pandas->datasets) (2.8.2)\n",
            "Requirement already satisfied: pytz>=2020.1 in /usr/local/lib/python3.10/dist-packages (from pandas->datasets) (2023.3.post1)\n",
            "Requirement already satisfied: six>=1.5 in /usr/local/lib/python3.10/dist-packages (from python-dateutil>=2.8.1->pandas->datasets) (1.16.0)\n",
            "Installing collected packages: pyarrow-hotfix, portalocker, dill, colorama, sacrebleu, responses, multiprocess, datasets, evaluate\n",
            "Successfully installed colorama-0.4.6 datasets-2.15.0 dill-0.3.7 evaluate-0.4.1 multiprocess-0.70.15 portalocker-2.8.2 pyarrow-hotfix-0.6 responses-0.18.0 sacrebleu-2.3.3\n"
          ]
        }
      ],
      "source": [
        "! pip install transformers datasets evaluate sacrebleu"
      ]
    },
    {
      "cell_type": "markdown",
      "source": [
        "##Zobrazení obsahu datasetu"
      ],
      "metadata": {
        "id": "B-U0LZOBx_Wb"
      }
    },
    {
      "cell_type": "markdown",
      "source": [
        "###Funkce *load_dataset* slouží k načtení datové sady ***opus_books*** v jazykovém páru angličtina–francouzština (\"en-fr\").\n",
        "\n"
      ],
      "metadata": {
        "id": "sesOE1DuxwSO"
      }
    },
    {
      "cell_type": "code",
      "source": [
        "from datasets import load_dataset #načítání různých datových sad pro práci se zpracováním přirozeného jazyka\n",
        "\n",
        "books = load_dataset(\"opus_books\", \"en-fr\") #načtení datové sady \"opus_books\" pro překlad z angličtiny do francouzštiny"
      ],
      "metadata": {
        "colab": {
          "base_uri": "https://localhost:8080/",
          "height": 177,
          "referenced_widgets": [
            "af93cf2194994ba3a3b12d7eee36f9e5",
            "d034de78dd9446ec9aac5b169c2431d0",
            "28e66f91e51f4784b67fc4f53a4b77f0",
            "1b90af92a60e49918b435247e8662224",
            "d2af9706875444feb0336b3d474f6edd",
            "da1fa1ae649942b0a450e42c3b0c1992",
            "95db9b11fe4e4f2a8cb200f2df8db2bc",
            "3a5da8f531664f2ea0d33c40b5e8555c",
            "bc62544ff38f4c5cb0512eef8d548700",
            "ce2eea91edde42aa8273aac3b786872d",
            "ac4714c771354fb28b3c60ad2cfe753a",
            "6999b7a1037542f288f45d3c448f2f72",
            "070098cec0104938bcb727c7c4b94b8d",
            "d3315dd067ea4b8e82cc382f731dd048",
            "15007b2229004e0aa80aa796c4221385",
            "59a031dba62a40cebcccc595f1ecc542",
            "022bdaa8aa7040fcb94cc88b73caf9e1",
            "2427153ab0e146edaea6b9f4536bc9e7",
            "948e4ab83e9b42fba0fb1c66f9cd0cb5",
            "9acb089e03bf41fb9be8da2d3b8f7151",
            "6b17166e81544c65878fa2252971d3e5",
            "f0952e0d16a34ad698213b0cc64a5554",
            "ba5d841c3c9d40d3b0994f435e87e8af",
            "1fdd5806edc74091936e54abff41e8cf",
            "5fba35d0b8084df5897120c2825d6475",
            "f41274554d5d4ff783e52ddcff6d854c",
            "9e40b3d862d14949810e6301fbf27ed1",
            "5fa0086f5f674abcaee3176f3e9ccd35",
            "47c3ac5e289d4d26bfd268ec38fd012b",
            "a60bfc38d1e045b5a11e0803da08d4c2",
            "931aa402f3b049c3b53662f8f0f047eb",
            "e8be7a158ccc49b082bc14baef1434e5",
            "fd888a96575a4adeb77f0971b47f3ae5",
            "6a3d1585c6d4474e8f344866062aa1b3",
            "58c6ff0ace04438393b91b4860783fbf",
            "8154debbcef74e2aa979b6867cb545f8",
            "bfabefe6126a4eee858f2c91f60b046d",
            "479e9d9ab99d4b5eb964896a21432961",
            "345ead3a1f12405fab845322a861e773",
            "949283f369ae406c863c43b8d788843d",
            "4f83212d4a194c1abf604c9c010066c4",
            "e8ba75bc2734423a9b6bc1ca7b2b383c",
            "c7c933b848d24b03b77ba7b0bcc99fbe",
            "1c534aa0381d4885a49dc96679ed4644",
            "7202a156fb2140ce98b86275bebfc388",
            "25926f0d11084097b2708757b93781e2",
            "0771e30af02b41d48a89f2dcc1644d49",
            "429c7f3055a94daaa47a4c76986c019b",
            "f2b5b82efb284a4fa3ec9022f99bd936",
            "fe7971ee7d484740b32ac0ea11f5738c",
            "bedc8f34d3a34c1db968a202e480b5f0",
            "b6e704dd2baa47629c711b734353d13a",
            "91c507e56bae488ba13cb68bd579ffc9",
            "2d1a0973cafa4028ad41f4e2b65bfb48",
            "4a861c1432304157a6e2850e3cff54e2"
          ]
        },
        "id": "9-IOA9cEr7Kr",
        "outputId": "ea768df8-e5d1-42d9-fc9c-8ceafd9e9b93"
      },
      "execution_count": null,
      "outputs": [
        {
          "output_type": "display_data",
          "data": {
            "text/plain": [
              "Downloading builder script:   0%|          | 0.00/6.08k [00:00<?, ?B/s]"
            ],
            "application/vnd.jupyter.widget-view+json": {
              "version_major": 2,
              "version_minor": 0,
              "model_id": "af93cf2194994ba3a3b12d7eee36f9e5"
            }
          },
          "metadata": {}
        },
        {
          "output_type": "display_data",
          "data": {
            "text/plain": [
              "Downloading metadata:   0%|          | 0.00/161k [00:00<?, ?B/s]"
            ],
            "application/vnd.jupyter.widget-view+json": {
              "version_major": 2,
              "version_minor": 0,
              "model_id": "6999b7a1037542f288f45d3c448f2f72"
            }
          },
          "metadata": {}
        },
        {
          "output_type": "display_data",
          "data": {
            "text/plain": [
              "Downloading readme:   0%|          | 0.00/20.5k [00:00<?, ?B/s]"
            ],
            "application/vnd.jupyter.widget-view+json": {
              "version_major": 2,
              "version_minor": 0,
              "model_id": "ba5d841c3c9d40d3b0994f435e87e8af"
            }
          },
          "metadata": {}
        },
        {
          "output_type": "display_data",
          "data": {
            "text/plain": [
              "Downloading data:   0%|          | 0.00/12.0M [00:00<?, ?B/s]"
            ],
            "application/vnd.jupyter.widget-view+json": {
              "version_major": 2,
              "version_minor": 0,
              "model_id": "6a3d1585c6d4474e8f344866062aa1b3"
            }
          },
          "metadata": {}
        },
        {
          "output_type": "display_data",
          "data": {
            "text/plain": [
              "Generating train split:   0%|          | 0/127085 [00:00<?, ? examples/s]"
            ],
            "application/vnd.jupyter.widget-view+json": {
              "version_major": 2,
              "version_minor": 0,
              "model_id": "7202a156fb2140ce98b86275bebfc388"
            }
          },
          "metadata": {}
        }
      ]
    },
    {
      "cell_type": "markdown",
      "source": [
        "Rozdělení trénovacích dat (uložených v *books[\"train\"]*) na dvě části: novou trénovací část a testovací část. Tato práce s testovací množinou je užitečná při evaluaci modelu, protože umožňuje ověřit jeho schopnost generalizace na neznámá data."
      ],
      "metadata": {
        "id": "XEyK6k5lz8SK"
      }
    },
    {
      "cell_type": "code",
      "source": [
        "books = books[\"train\"].train_test_split(test_size=0.2) #rozdělení datové sady na trénovací a testovací množiny - argument testsize=0.2 = 20% train a 20% test"
      ],
      "metadata": {
        "id": "dsXjlTppsA8G"
      },
      "execution_count": null,
      "outputs": []
    },
    {
      "cell_type": "code",
      "source": [
        "books[\"train\"][0]"
      ],
      "metadata": {
        "colab": {
          "base_uri": "https://localhost:8080/"
        },
        "id": "kyh525ZesDGi",
        "outputId": "900efa10-97cd-4174-cfe2-659059354834"
      },
      "execution_count": null,
      "outputs": [
        {
          "output_type": "execute_result",
          "data": {
            "text/plain": [
              "{'id': '106724',\n",
              " 'translation': {'en': 'Some pipes full of opium lay upon the table.',\n",
              "  'fr': \"Sur la table se trouvaient quelques pipes chargées d'opium.\"}}"
            ]
          },
          "metadata": {},
          "execution_count": 4
        }
      ]
    },
    {
      "cell_type": "markdown",
      "source": [
        "####Přístup k předtrénovanému tokenizeru pro model T5:\n",
        "Třída *AutoTokenizer* slouží k načtení předtrénovaného tokenizeru pro model T5.\n",
        "Získáme přístup k předtrénovanému tokenizeru pro model T5 (t5-small). Tento tokenizer můžeme následně používat **k převodu textu na tokeny - obvyklý krok před vstupem do modelu.**\n",
        "\n",
        "\n",
        "\n",
        "\n"
      ],
      "metadata": {
        "id": "3bCb118r1Bjw"
      }
    },
    {
      "cell_type": "code",
      "source": [
        "from transformers import AutoTokenizer\n",
        "\n",
        "checkpoint = \"t5-small\" # checkpoint = předtrénovaný model\n",
        "tokenizer = AutoTokenizer.from_pretrained(checkpoint)"
      ],
      "metadata": {
        "colab": {
          "base_uri": "https://localhost:8080/",
          "height": 113,
          "referenced_widgets": [
            "a34a18b28bf04beda556fc7c59cbcf14",
            "5c67e1c4a87a4ea7b7414d0f8fd4460a",
            "2c745b7787974e3581db3a4feda244a3",
            "3fb62fdcfd9e474599c38ccf9d2a99a4",
            "9678e705b22444c98f9ecf0d686d6e24",
            "d986a801172e4ca7af96ff456bbf56ce",
            "c3ed08e841d44b6bad26d574b73e879f",
            "7277d2e5d0ce4841a68a0829d4d8058c",
            "e143d70e04c34f19804cb1e5768962ac",
            "b360dcff7fa742708162f7a63e7942cd",
            "1123d8c10e5c4c29a795362fcc40a9ff",
            "804eff9432fd467084f25a52fd73b4e6",
            "9c7cd33cd53548128b8876f6e6b2b4c0",
            "4972a128433d490b90379306fd594928",
            "66b8afc4db2142a1af02d5ce8107b821",
            "ddd33d6428af4c5499195d9817680f3a",
            "6c929f1cb0a84595a914de2b47414c1f",
            "b3257f68880a4bf488670cff07c62d95",
            "65b6717230bb4ae1b3b29cad07690606",
            "5d5a7262b5e74f05be8fb5fbb4062695",
            "8a3b72228d6d4494b3a9f52f430cd772",
            "1e8d2ce40a584bb39ba52d2fa1e92201",
            "d95451ef988f4d22a077f964313f1fb5",
            "db2983202df14b699a06a12bc8d21e36",
            "f6498c80e67c4437b25ac05f217f3bf5",
            "8e9c0b1039984184ae4dbda421b7bfbb",
            "7fee8db80e934f29b26477ec2c8227a3",
            "aa28d5755b8a429492b54a67556e0083",
            "960e9466444b4a1e857df24f3c7b5464",
            "d060421d67b445429a5c74950e231a8b",
            "b57a6e4ce6aa432b9dced5c98b0b4782",
            "e05b3a6692474efd9d526e1f4b3ca947",
            "d18ee96754b54ba88c681b1cc3b3bdc9"
          ]
        },
        "id": "HAwokxnJsIoj",
        "outputId": "3e0cb3d5-fc2e-46d8-d94d-399266c27c0b"
      },
      "execution_count": null,
      "outputs": [
        {
          "output_type": "display_data",
          "data": {
            "text/plain": [
              "tokenizer_config.json:   0%|          | 0.00/2.32k [00:00<?, ?B/s]"
            ],
            "application/vnd.jupyter.widget-view+json": {
              "version_major": 2,
              "version_minor": 0,
              "model_id": "a34a18b28bf04beda556fc7c59cbcf14"
            }
          },
          "metadata": {}
        },
        {
          "output_type": "display_data",
          "data": {
            "text/plain": [
              "spiece.model:   0%|          | 0.00/792k [00:00<?, ?B/s]"
            ],
            "application/vnd.jupyter.widget-view+json": {
              "version_major": 2,
              "version_minor": 0,
              "model_id": "804eff9432fd467084f25a52fd73b4e6"
            }
          },
          "metadata": {}
        },
        {
          "output_type": "display_data",
          "data": {
            "text/plain": [
              "tokenizer.json:   0%|          | 0.00/1.39M [00:00<?, ?B/s]"
            ],
            "application/vnd.jupyter.widget-view+json": {
              "version_major": 2,
              "version_minor": 0,
              "model_id": "d95451ef988f4d22a077f964313f1fb5"
            }
          },
          "metadata": {}
        }
      ]
    },
    {
      "cell_type": "markdown",
      "source": [
        "###**Předzpracování dat**"
      ],
      "metadata": {
        "id": "c55SGPXjtsPC"
      }
    },
    {
      "cell_type": "markdown",
      "source": [
        "#####Po provední této operace bude každý příklad obsahovat tokeny vstupů a cílů, které jsou pak připravené pro vstup do modelu."
      ],
      "metadata": {
        "id": "HDqP1shOl2us"
      }
    },
    {
      "cell_type": "code",
      "source": [
        "source_lang = \"en\" #zdrojový jazyk\n",
        "target_lang = \"fr\" #cílový jazyk\n",
        "prefix = \"translate English to French: \"\n",
        "\n",
        "#tato funkce přijímá slovník příkladů (např., trénovací nebo testovací data) a vrací připravená data pro model\n",
        "def preprocess_function(examples):\n",
        "    inputs = [prefix + example[source_lang] for example in examples[\"translation\"]] #seznam vstupů pro model-pro každý příklad v datovém slovníku přidává prefix a kombinuje ji s anglickým textem\n",
        "    targets = [example[target_lang] for example in examples[\"translation\"]]\n",
        "    model_inputs = tokenizer(inputs, text_target=targets, max_length=128, truncation=True) #tokenizer-převod vstupních a cílových textů na tokeny\n",
        "    # max_length=128,truncation=True = omezení délky vstupu na max. 128 tokenů a provedení oříznutí textu - pokud přesáhne tuto délku\n",
        "    return model_inputs"
      ],
      "metadata": {
        "id": "iLrysJCcssIk"
      },
      "execution_count": null,
      "outputs": []
    },
    {
      "cell_type": "code",
      "source": [
        "tokenized_books = books.map(preprocess_function, batched=True)"
      ],
      "metadata": {
        "colab": {
          "base_uri": "https://localhost:8080/",
          "height": 81,
          "referenced_widgets": [
            "a1ea1da5a84f4edcbbc6203ac5772add",
            "497aac25b799464e96b7d1c691c5617d",
            "9d49f2f117dc492d96bb84e48c35126b",
            "c7cf9889a6644119820039ce637b37c3",
            "302647f4c25247379de88a62545de041",
            "0f819f57477a46139d379c3677bd7908",
            "b2b7087af82d45fab93e1015666cdd6a",
            "0737bff085ad4bf2a0358aafaab53087",
            "d1590149ae814faf9ea9b579e6efafa9",
            "8e0182676a3945929d90e7f70ccc3723",
            "b468d13b8818453381cf264547822acb",
            "7033b28c3d604721a2c5242271708407",
            "d1a426c52301447894fd85ff4a14eec3",
            "5a5c69a31b2249c4b80a3f2be4b69d42",
            "663f9ed508524d61ba5d886bf548f77b",
            "75e1b52c3a7940f2891f0e3aa9740388",
            "39b55a488f8543099b320bb085b73278",
            "403a3166c93a4a37a217cc391fb383a3",
            "4bff8bc80b1643b2843a768a56cee971",
            "98f36bba0604490f9e7353329889e9f9",
            "b2bc2459e439452ca5d9ab187c5b4539",
            "0275d1a1e5f943f390d484f30fc27825"
          ]
        },
        "id": "LODsuKrLsvAL",
        "outputId": "2320a292-dd80-4781-a412-3551efeb7842"
      },
      "execution_count": null,
      "outputs": [
        {
          "output_type": "display_data",
          "data": {
            "text/plain": [
              "Map:   0%|          | 0/101668 [00:00<?, ? examples/s]"
            ],
            "application/vnd.jupyter.widget-view+json": {
              "version_major": 2,
              "version_minor": 0,
              "model_id": "a1ea1da5a84f4edcbbc6203ac5772add"
            }
          },
          "metadata": {}
        },
        {
          "output_type": "display_data",
          "data": {
            "text/plain": [
              "Map:   0%|          | 0/25417 [00:00<?, ? examples/s]"
            ],
            "application/vnd.jupyter.widget-view+json": {
              "version_major": 2,
              "version_minor": 0,
              "model_id": "7033b28c3d604721a2c5242271708407"
            }
          },
          "metadata": {}
        }
      ]
    },
    {
      "cell_type": "markdown",
      "source": [
        "**Funkce preprocess** předzpracovává jednotlivé příklady datové sady - pro každý příklad vytváří vstup pro model pomocí tokenizeru. Výsledek funkce obsahuje ***tokeny vstupů a cílů pro každý příklad***\n",
        "\n",
        "**Metoda map** aplikuje funkci preprocess_function na každý prvek datové sady.\n",
        "\n",
        "**Parametr batched=True** - funkce preprocess_function ***bude aplikována na dávky dat najednou***, je to efektivní při práci s velkými datovými sadami."
      ],
      "metadata": {
        "id": "IBACZpvd1Dbp"
      }
    },
    {
      "cell_type": "code",
      "source": [
        "from transformers import DataCollatorForSeq2Seq\n",
        "\n",
        "data_collator = DataCollatorForSeq2Seq(tokenizer=tokenizer, model=checkpoint, return_tensors=\"tf\")\n",
        "#return_tensors=\"tf\" - výstupní data mají být ve formátu TensorFlow tenzorů -> TensorFlow knihovna"
      ],
      "metadata": {
        "id": "c_WhVXnQs_SR"
      },
      "execution_count": null,
      "outputs": []
    },
    {
      "cell_type": "markdown",
      "source": [
        "Třída **DataCollatorForSeq2Seq** slouží k vytváření objektu, který dokáže zpracovat data pro trénování nebo vyhodnocování modelů."
      ],
      "metadata": {
        "id": "H7hXbXmh2jju"
      }
    },
    {
      "cell_type": "markdown",
      "source": [
        "##**Evaluate (vyhodnocení)**"
      ],
      "metadata": {
        "id": "wcl16RvitAOt"
      }
    },
    {
      "cell_type": "markdown",
      "source": [
        "####**Evaluate = vyhodnocování - proces posuzování výkonu modelu na testovacích datech.**"
      ],
      "metadata": {
        "id": "jKAmtEIGwHpq"
      }
    },
    {
      "cell_type": "markdown",
      "source": [
        "####Načtení metriky sacrebleu pro hodnocení kvality:"
      ],
      "metadata": {
        "id": "Qc_4aVDlm20l"
      }
    },
    {
      "cell_type": "code",
      "source": [
        "import evaluate\n",
        "\n",
        "metric = evaluate.load(\"sacrebleu\") #načtení metriky s názvem sacrebleu -> hodnocení kvality strojových překladů"
      ],
      "metadata": {
        "colab": {
          "base_uri": "https://localhost:8080/",
          "height": 49,
          "referenced_widgets": [
            "b6a112105b58438ba88fe200347551fc",
            "3abcb8cbeafb4994898adec17696f38d",
            "bbbd6ef1a34d4b1798f4e3d8c2db0508",
            "279494ff8e2a40c8bc56c10a00a7b0dd",
            "e0bdd54cdeb942e4a7f3b77f83a973fa",
            "3a72b21d47ad46aca28cced70ee61e5c",
            "1845cd69a18c405faa0bb72c2af0c27a",
            "0e8bb89ffe7c4c46a7bd3bd16dd014f4",
            "b1072d7d9a8e4759a9325318f3a70294",
            "b4f84d40389f426ca7d62b018b0f8486",
            "4a7ebd9eeb03427cb76ffb59d7b07b07"
          ]
        },
        "id": "oBhxAp5EtB27",
        "outputId": "68f30143-a951-4539-a896-803a3d0a1093"
      },
      "execution_count": null,
      "outputs": [
        {
          "output_type": "display_data",
          "data": {
            "text/plain": [
              "Downloading builder script:   0%|          | 0.00/8.15k [00:00<?, ?B/s]"
            ],
            "application/vnd.jupyter.widget-view+json": {
              "version_major": 2,
              "version_minor": 0,
              "model_id": "b6a112105b58438ba88fe200347551fc"
            }
          },
          "metadata": {}
        }
      ]
    },
    {
      "cell_type": "markdown",
      "source": [
        "Funkce **postprocess_text** a **compute_metrics** slouží k postprocessingu (proces úprav nebo manipulace s daty) a výpočtu metrik na výsledcích vyhodnocování modelu, zejména v kontextu překladu textu."
      ],
      "metadata": {
        "id": "bciogc2u0_Oh"
      }
    },
    {
      "cell_type": "code",
      "source": [
        "import numpy as np #knihovna pro práci s vícerozměrnými poli (např. matice nebo tenzory)\n",
        "\n",
        "\n",
        "def postprocess_text(preds, labels):            #funkce přijímá predikce (preds) a skutečné hodnoty (labels)\n",
        "    preds = [pred.strip() for pred in preds]          #odstranění mezer na začátku a konci -> výstup ve formátu seznamu\n",
        "                                                      #preds = odhady nebo generovaný text, který model vytvořil v odpovědi na vstupní text\n",
        "    labels = [[label.strip()] for label in labels]    #labels = překlady ve skutečném cílovém jazyce\n",
        "\n",
        "    return preds, labels\n",
        "\n",
        "\n",
        "def compute_metrics(eval_preds):        #přijímá vyhodnocené předpovědi (eval_preds) - obsahují preds a labels\n",
        "    preds, labels = eval_preds          #rozbalení vyhodnocených předpovědí\n",
        "    if isinstance(preds, tuple):        #ověření, zda jsou preds ve formě seznamu, pokud ano, vezme se první element a slouží k zajištění toho, že preds obsahuje hlavní výstupy modelu, které budou následně dekódovány a použity pro výpočet metrik\n",
        "        preds = preds[0]\n",
        "    decoded_preds = tokenizer.batch_decode(preds, skip_special_tokens=True) #dekódování modelových výstupů z tokenů->text pomocí tokenizeru; speciální tokeny jsou přeskakovány (skip_special_tokens=True).\n",
        "\n",
        "    labels = np.where(labels != -100, labels, tokenizer.pad_token_id) #nahrazení hodnoty -100 v labels tokenem pro vyplnění (pad token) z tokenizeru.\n",
        "    decoded_labels = tokenizer.batch_decode(labels, skip_special_tokens=True) #dekódování skutečných hodnot (labels) z tokenů -> text\n",
        "\n",
        "    decoded_preds, decoded_labels = postprocess_text(decoded_preds, decoded_labels) #funkce postprocess_text pro další úpravy dekódovaných preds a labels\n",
        "\n",
        "    result = metric.compute(predictions=decoded_preds, references=decoded_labels) #výpočet metrik na základě dekódovaných preds a labels\n",
        "    result = {\"bleu\": result[\"score\"]} #uložení výsledku metriky BLEU do result\n",
        "\n",
        "    prediction_lens = [np.count_nonzero(pred != tokenizer.pad_token_id) for pred in preds] #výpočet délky generovaných předpovědí bez použití tokenů pro vyplnění (pad token)\n",
        "    result[\"gen_len\"] = np.mean(prediction_lens) # uložení průměrné délky generovaných předpovědí do slovníku result\n",
        "    result = {k: round(v, 4) for k, v in result.items()} #zaokrouhlování výsledných hodnot na čtyři desetinná místa\n",
        "    return result\n",
        "\n"
      ],
      "metadata": {
        "id": "yz_nsZidtGvu"
      },
      "execution_count": null,
      "outputs": []
    },
    {
      "cell_type": "markdown",
      "source": [
        "##**Příklad dotrénování modelu (fine-tune)**"
      ],
      "metadata": {
        "id": "tg-Tqbi36X60"
      }
    },
    {
      "cell_type": "code",
      "source": [
        "from transformers import AdamWeightDecay\n",
        "\n",
        "optimizer = AdamWeightDecay(learning_rate=2e-5, weight_decay_rate=0.01)"
      ],
      "metadata": {
        "id": "tI7AYQEL6Z3-"
      },
      "execution_count": null,
      "outputs": []
    },
    {
      "cell_type": "markdown",
      "source": [
        "**Learning_rate** (rychlost učení) určuje jak rychle se model učí během tréninku a jak velké kroky dělá při aktualizaci svých váh.\n",
        "\n",
        "**Weight_decay_rate** (váhový útlum) zabrání tomu, aby se váhy modelu potenciálně přizpůsobily trénovacím datům až příliš."
      ],
      "metadata": {
        "id": "sRm4Gt0f4Zno"
      }
    },
    {
      "cell_type": "code",
      "source": [
        "from transformers import TFAutoModelForSeq2SeqLM\n",
        "\n",
        "model = TFAutoModelForSeq2SeqLM.from_pretrained(checkpoint) #checkpoint = název předtrénovaného modelu"
      ],
      "metadata": {
        "id": "V0qw74PH6Z1A",
        "colab": {
          "base_uri": "https://localhost:8080/",
          "height": 154,
          "referenced_widgets": [
            "79dd2fe916ac49ae8008b8004a4dee0a",
            "3c6f58cfad4c4104a76a2a507ea6b69c",
            "0dc1a29ac0224c64a01a2f59611efdad",
            "f7f9e859c1b94cc1a25e276f266a7f65",
            "306468fc0fbe459188d8d3617bfb2607",
            "c37f9bbeb2c24b23b983cc47c570a873",
            "47e91d3482884264b3da6e08722f1bbb",
            "39c5a4458465420bae0ba590081ae7e4",
            "2f907ddbfb8940baa680c3ecf085f0a7",
            "02525391b7c348f18bbfc1a29d06d901",
            "3e1248dc7f714b61bbccb5f00a04cfd0",
            "46d62b28ec4d4591b41972240008a95c",
            "447e5368c75143c9b8e6e9df421197c0",
            "484ba56a9dc3452daaff393d9b4eeb74",
            "e3551b559d884a49a141bb4ddff61648",
            "d67b72fb0cff4d9c852af24ca0affadf",
            "28861b1116074858b17a5484e764b373",
            "274d33d8ee024299b6a31e3223cb904f",
            "1a95f0f3346b4b1a9c229a094fdfe544",
            "ec5e63b0fc7446d7a19179b0e9c5881f",
            "eeab48acc8a6416184c62fa3f9f822f5",
            "616340a0acb044e19ab5ddef72cb8054"
          ]
        },
        "outputId": "9bff0350-403c-4a2b-c8b2-32562a405540"
      },
      "execution_count": null,
      "outputs": [
        {
          "output_type": "display_data",
          "data": {
            "text/plain": [
              "config.json:   0%|          | 0.00/1.21k [00:00<?, ?B/s]"
            ],
            "application/vnd.jupyter.widget-view+json": {
              "version_major": 2,
              "version_minor": 0,
              "model_id": "79dd2fe916ac49ae8008b8004a4dee0a"
            }
          },
          "metadata": {}
        },
        {
          "output_type": "display_data",
          "data": {
            "text/plain": [
              "model.safetensors:   0%|          | 0.00/242M [00:00<?, ?B/s]"
            ],
            "application/vnd.jupyter.widget-view+json": {
              "version_major": 2,
              "version_minor": 0,
              "model_id": "46d62b28ec4d4591b41972240008a95c"
            }
          },
          "metadata": {}
        },
        {
          "output_type": "stream",
          "name": "stderr",
          "text": [
            "All PyTorch model weights were used when initializing TFT5ForConditionalGeneration.\n",
            "\n",
            "All the weights of TFT5ForConditionalGeneration were initialized from the PyTorch model.\n",
            "If your task is similar to the task the model of the checkpoint was trained on, you can already use TFT5ForConditionalGeneration for predictions without further training.\n"
          ]
        }
      ]
    },
    {
      "cell_type": "markdown",
      "source": [
        " **Třída TFAutoModelForSeq2SeqLM** představuje architekturu modelu pro sekvenční generaci v našem případě pro překlad.\n",
        "\n",
        " **Metoda from_pretrained** načítá váhy (weights) a konfiguraci modelu z předtrénované verze."
      ],
      "metadata": {
        "id": "dQJWoPK756dx"
      }
    },
    {
      "cell_type": "code",
      "source": [
        "tf_train_set = model.prepare_tf_dataset(\n",
        "    tokenized_books[\"train\"],\n",
        "    shuffle=True,\n",
        "    batch_size=16,\n",
        "    collate_fn=data_collator,\n",
        ")\n",
        "\n",
        "tf_test_set = model.prepare_tf_dataset(\n",
        "    tokenized_books[\"test\"],\n",
        "    shuffle=False,\n",
        "    batch_size=16,\n",
        "    collate_fn=data_collator,\n",
        ")"
      ],
      "metadata": {
        "id": "O2hCORZR6Zsq",
        "colab": {
          "base_uri": "https://localhost:8080/"
        },
        "outputId": "d84b45b9-5910-4a4b-ecc5-118c355b1dcc"
      },
      "execution_count": null,
      "outputs": [
        {
          "output_type": "stream",
          "name": "stderr",
          "text": [
            "You're using a T5TokenizerFast tokenizer. Please note that with a fast tokenizer, using the `__call__` method is faster than using a method to encode the text followed by a call to the `pad` method to get a padded encoding.\n"
          ]
        }
      ]
    },
    {
      "cell_type": "markdown",
      "source": [
        "**Metoda model.prepare_tf_dataset** připravuje TensorFlow dataset, bere tokenizovaná data (v tomto případě ze slovníku tokenized_books pro trénovací a testovací množinu), specifikuje různé parametry, jako je míchání (shuffle), velikost dávky (batch_size) a funkce pro zpracování dat (collate_fn)."
      ],
      "metadata": {
        "id": "sFTBIO0u_wz6"
      }
    },
    {
      "cell_type": "code",
      "source": [
        "import tensorflow as tf\n",
        "\n",
        "model.compile(optimizer=optimizer)  # No loss argument!"
      ],
      "metadata": {
        "id": "7B4hgPU_6Zip"
      },
      "execution_count": null,
      "outputs": []
    },
    {
      "cell_type": "markdown",
      "source": [
        "**Metoda compile** slouží pro kompilaci modelu v TensorFlow, obvykle se používá v kontextu tréninku modelu a slouží k nastavení několika důležitých parametrů, včetně optimalizačního algoritmu."
      ],
      "metadata": {
        "id": "jnk0-XHHAOin"
      }
    },
    {
      "cell_type": "markdown",
      "source": [
        "#### **Nahrání modelu na HuggingFace*"
      ],
      "metadata": {
        "id": "-YSIaLjkBMW-"
      }
    },
    {
      "cell_type": "code",
      "source": [
        "from transformers.keras_callbacks import PushToHubCallback\n",
        "\n",
        "push_to_hub_callback = PushToHubCallback(\n",
        "    output_dir=\"my__model\",\n",
        "    tokenizer=tokenizer,\n",
        ")"
      ],
      "metadata": {
        "id": "ExwztHGf6zfO"
      },
      "execution_count": null,
      "outputs": []
    },
    {
      "cell_type": "code",
      "source": [
        "callbacks = [metric_callback, push_to_hub_callback]"
      ],
      "metadata": {
        "id": "PNlNW24h62qT"
      },
      "execution_count": null,
      "outputs": []
    },
    {
      "cell_type": "markdown",
      "source": [
        "###Spuštění tréninku"
      ],
      "metadata": {
        "id": "F1Fz7qAuBxw4"
      }
    },
    {
      "cell_type": "markdown",
      "source": [
        "Metoda **fit** provede trénink modelu na trénovacích datech (tf_train_set) po určený počet epoch a vyhodnotí model na testovacích datech (tf_test_set) po každé doběhnuté epoše."
      ],
      "metadata": {
        "id": "Zy3GSfJpBz_i"
      }
    },
    {
      "cell_type": "code",
      "source": [
        "model.fit(x=tf_train_set, validation_data=tf_test_set, epochs=3, callbacks=callbacks)"
      ],
      "metadata": {
        "id": "i4cbo3Ae65sI"
      },
      "execution_count": null,
      "outputs": []
    },
    {
      "cell_type": "markdown",
      "source": [
        "##**Otestování funkčnosti předtrénovaného modelu T5-small**"
      ],
      "metadata": {
        "id": "AJI7k_xLvNYd"
      }
    },
    {
      "cell_type": "markdown",
      "source": [
        "###Připravíme si vstupní text, tokenizujeme ho, použijeme model pro generaci překladu a následně dekódujeme výsledek zpět do lidsky čitelné podoby."
      ],
      "metadata": {
        "id": "97nOgM5J8Oim"
      }
    },
    {
      "cell_type": "markdown",
      "source": [
        "##**Model T5-small**:\n",
        "\n",
        "####[T5-small](https://huggingface.co/t5-small) je předtrénovaný model s 60 miliony parametry sloužící k převodu text-to-text formátu ke zpracování přirozeného jazyka (NLP) do jiného cílového jazyka.\n",
        "\n",
        "*   Velikost modelu: 60,5 milionu parametrů\n",
        "*   [Dataset C4](https://huggingface.co/datasets/c4)\n",
        "*   English, French, Romanian, German\n",
        "\n"
      ],
      "metadata": {
        "id": "FgxuXOUCvJO4"
      }
    },
    {
      "cell_type": "markdown",
      "source": [
        "![image.png](data:image/png;base64,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)"
      ],
      "metadata": {
        "id": "S8-0L8mitRCp"
      }
    },
    {
      "cell_type": "markdown",
      "source": [
        "### **Překlad:**"
      ],
      "metadata": {
        "id": "P-Px8xHn-7-6"
      }
    },
    {
      "cell_type": "code",
      "source": [
        "text = input(\"translate English to French: \")\n",
        "\n",
        "print(\"Enter the text you want to translate:\", text)\n"
      ],
      "metadata": {
        "colab": {
          "base_uri": "https://localhost:8080/"
        },
        "id": "Ks0uUu5RdY_4",
        "outputId": "4cf83abf-2f76-4ac1-9e8f-27e749d714d5"
      },
      "execution_count": null,
      "outputs": [
        {
          "output_type": "stream",
          "name": "stdout",
          "text": [
            "translate English to French: Hello, how are you today?\n",
            "Enter the text you want to translate: Hello, how are you today?\n"
          ]
        }
      ]
    },
    {
      "cell_type": "markdown",
      "source": [
        "Nástroj **pipeline** umožňuje jednoduchý přístup k předtrénovaným modelům pro různé úlohy, v našem případě pro překlad."
      ],
      "metadata": {
        "id": "QS-UX0PhH7-n"
      }
    },
    {
      "cell_type": "code",
      "source": [
        "from transformers import pipeline\n",
        "translator = pipeline(\"translation\", model=\"t5-small\")\n",
        "input_text = f\"translate English to French: {text}\"\n",
        "result = translator(input_text)\n",
        "output = {'inputs': input_text, 'targets': result[0]['translation_text']}\n",
        "\n",
        "print(output)"
      ],
      "metadata": {
        "colab": {
          "base_uri": "https://localhost:8080/"
        },
        "id": "67Mp5IOXzFSs",
        "outputId": "87450c3b-c667-4c13-8c86-a2f3d0a296c3"
      },
      "execution_count": null,
      "outputs": [
        {
          "output_type": "stream",
          "name": "stdout",
          "text": [
            "{'inputs': 'translate English to French: Hello, how are you today?', 'targets': \"Bonjour, comment êtes-vous aujourd'hui?\"}\n"
          ]
        }
      ]
    },
    {
      "cell_type": "code",
      "source": [
        "from transformers import AutoTokenizer\n",
        "\n",
        "tokenizer = AutoTokenizer.from_pretrained(\"t5-small\")\n",
        "inputs = tokenizer(text, return_tensors=\"tf\").input_ids"
      ],
      "metadata": {
        "id": "VikzlOiG7GPu"
      },
      "execution_count": null,
      "outputs": []
    },
    {
      "cell_type": "markdown",
      "source": [
        "Vytvoření tokenizeru pro model \"t5-small\" a používá se k tokenizaci anglického textu (text). **Identifikátory tokenů** jsou uloženy v proměnné **inputs**."
      ],
      "metadata": {
        "id": "570QFMiK3cIc"
      }
    },
    {
      "cell_type": "code",
      "source": [
        "inputs"
      ],
      "metadata": {
        "colab": {
          "base_uri": "https://localhost:8080/"
        },
        "id": "YIv8oM5OJB0A",
        "outputId": "9b70eba6-fcf8-40e8-c3db-689ccb642539"
      },
      "execution_count": null,
      "outputs": [
        {
          "output_type": "execute_result",
          "data": {
            "text/plain": [
              "<tf.Tensor: shape=(1, 8), dtype=int32, numpy=array([[8774,    6,  149,   33,   25,  469,   58,    1]], dtype=int32)>"
            ]
          },
          "metadata": {},
          "execution_count": 20
        }
      ]
    },
    {
      "cell_type": "markdown",
      "source": [
        "Vygenerujeme **sekvenci tokenů** pomocí modelu pro sekvenční generaci \"t5-small\" na základě zadaných identifikátorů tokenů (inputs). Výsledek je uložen v proměnné outputs."
      ],
      "metadata": {
        "id": "ns132YdWJJpV"
      }
    },
    {
      "cell_type": "code",
      "source": [
        "from transformers import TFAutoModelForSeq2SeqLM\n",
        "\n",
        "model = TFAutoModelForSeq2SeqLM.from_pretrained(\"t5-small\")\n",
        "outputs = model.generate(inputs, max_new_tokens=40, do_sample=True, top_k=30, top_p=0.95)"
      ],
      "metadata": {
        "id": "oLGs5iT-7Mcn",
        "colab": {
          "base_uri": "https://localhost:8080/"
        },
        "outputId": "ac0c24ae-2813-4454-c725-a67d414a2d16"
      },
      "execution_count": null,
      "outputs": [
        {
          "output_type": "stream",
          "name": "stderr",
          "text": [
            "All PyTorch model weights were used when initializing TFT5ForConditionalGeneration.\n",
            "\n",
            "All the weights of TFT5ForConditionalGeneration were initialized from the PyTorch model.\n",
            "If your task is similar to the task the model of the checkpoint was trained on, you can already use TFT5ForConditionalGeneration for predictions without further training.\n"
          ]
        }
      ]
    },
    {
      "cell_type": "code",
      "source": [
        "outputs #identifikátory tokenů"
      ],
      "metadata": {
        "colab": {
          "base_uri": "https://localhost:8080/"
        },
        "id": "6l5MD1t5I2MH",
        "outputId": "fe8d84b8-c486-41d5-c410-092b6d8aafcb"
      },
      "execution_count": null,
      "outputs": [
        {
          "output_type": "execute_result",
          "data": {
            "text/plain": [
              "<tf.Tensor: shape=(1, 10), dtype=int32, numpy=\n",
              "array([[   0, 2501, 8774,    6,  587,  436,  292, 4270,   58,    1]],\n",
              "      dtype=int32)>"
            ]
          },
          "metadata": {},
          "execution_count": 22
        }
      ]
    },
    {
      "cell_type": "markdown",
      "source": [
        "\n",
        "Dekódování výstupu modelu zpět do čitelného textu:"
      ],
      "metadata": {
        "id": "-Qzn6eWTItDt"
      }
    },
    {
      "cell_type": "code",
      "source": [
        "tokenizer.decode(outputs[0], skip_special_tokens=True)"
      ],
      "metadata": {
        "colab": {
          "base_uri": "https://localhost:8080/",
          "height": 36
        },
        "id": "DpC9qn-07PvB",
        "outputId": "95b75a53-fdfa-4a46-8c6f-af34c0f56ebd"
      },
      "execution_count": null,
      "outputs": [
        {
          "output_type": "execute_result",
          "data": {
            "text/plain": [
              "'Hall Hello, wie sind Sie heute?'"
            ],
            "application/vnd.google.colaboratory.intrinsic+json": {
              "type": "string"
            }
          },
          "metadata": {},
          "execution_count": 24
        }
      ]
    }
  ]
}